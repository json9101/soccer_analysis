{
 "cells": [
  {
   "cell_type": "code",
   "execution_count": 64,
   "metadata": {},
   "outputs": [],
   "source": [
    "from pyspark.sql import SparkSession\n",
    "from config import db_params\n",
    "from pyspark.sql.functions import mean,count,explode,col,monotonically_increasing_id,lit\n",
    "\n",
    "spark = SparkSession.builder \\\n",
    "    .appName(\"Manchester_UTD Analysis\")\\\n",
    "    .config(\"spark.jars\", \"/home/jss/app/spark/spark-3.5.0-bin-hadoop3/jars/postgresql-42.7.2.jar\")\\\n",
    "    .getOrCreate()"
   ]
  },
  {
   "cell_type": "code",
   "execution_count": 65,
   "metadata": {},
   "outputs": [],
   "source": [
    "jdbc_url=db_params[\"jdbc_url\"]\n",
    "user=db_params[\"user\"]\n",
    "password=db_params[\"password\"]\n",
    "driver=db_params[\"driver\"]"
   ]
  },
  {
   "cell_type": "code",
   "execution_count": 66,
   "metadata": {},
   "outputs": [],
   "source": [
    "table_name = \"teams\"\n",
    "team_df = spark.read \\\n",
    "    .format(\"jdbc\") \\\n",
    "    .option(\"url\", jdbc_url) \\\n",
    "    .option(\"dbtable\", table_name) \\\n",
    "    .option(\"user\", user) \\\n",
    "    .option(\"password\", password) \\\n",
    "    .option(\"driver\",driver) \\\n",
    "    .load()"
   ]
  },
  {
   "cell_type": "code",
   "execution_count": 67,
   "metadata": {},
   "outputs": [],
   "source": [
    "table_name = \"players\"\n",
    "player_df = spark.read \\\n",
    "    .format(\"jdbc\") \\\n",
    "    .option(\"url\", jdbc_url) \\\n",
    "    .option(\"dbtable\", table_name) \\\n",
    "    .option(\"user\", user) \\\n",
    "    .option(\"password\", password) \\\n",
    "    .option(\"driver\",driver) \\\n",
    "    .load()"
   ]
  },
  {
   "cell_type": "code",
   "execution_count": 68,
   "metadata": {},
   "outputs": [],
   "source": [
    "table_name = \"coachs\"\n",
    "coach_df = spark.read \\\n",
    "    .format(\"jdbc\") \\\n",
    "    .option(\"url\", jdbc_url) \\\n",
    "    .option(\"dbtable\", table_name) \\\n",
    "    .option(\"user\", user) \\\n",
    "    .option(\"password\", password) \\\n",
    "    .option(\"driver\",driver) \\\n",
    "    .load()"
   ]
  },
  {
   "cell_type": "code",
   "execution_count": 69,
   "metadata": {},
   "outputs": [],
   "source": [
    "table_name = \"venues\"\n",
    "venues_df = spark.read \\\n",
    "    .format(\"jdbc\") \\\n",
    "    .option(\"url\", jdbc_url) \\\n",
    "    .option(\"dbtable\", table_name) \\\n",
    "    .option(\"user\", user) \\\n",
    "    .option(\"password\", password) \\\n",
    "    .option(\"driver\",driver) \\\n",
    "    .load()"
   ]
  },
  {
   "cell_type": "code",
   "execution_count": 70,
   "metadata": {},
   "outputs": [],
   "source": [
    "table_name = \"leagues\"\n",
    "leagues_df = spark.read \\\n",
    "    .format(\"jdbc\") \\\n",
    "    .option(\"url\", jdbc_url) \\\n",
    "    .option(\"dbtable\", table_name) \\\n",
    "    .option(\"user\", user) \\\n",
    "    .option(\"password\", password) \\\n",
    "    .option(\"driver\",driver) \\\n",
    "    .load()"
   ]
  },
  {
   "cell_type": "code",
   "execution_count": 71,
   "metadata": {},
   "outputs": [],
   "source": [
    "table_name = \"countries\"\n",
    "countries_df = spark.read \\\n",
    "    .format(\"jdbc\") \\\n",
    "    .option(\"url\", jdbc_url) \\\n",
    "    .option(\"dbtable\", table_name) \\\n",
    "    .option(\"user\", user) \\\n",
    "    .option(\"password\", password) \\\n",
    "    .option(\"driver\",driver) \\\n",
    "    .load()"
   ]
  },
  {
   "cell_type": "code",
   "execution_count": 72,
   "metadata": {},
   "outputs": [
    {
     "name": "stderr",
     "output_type": "stream",
     "text": [
      "[Stage 175:>                                                       (0 + 8) / 80]\r"
     ]
    },
    {
     "name": "stderr",
     "output_type": "stream",
     "text": [
      "                                                                                \r"
     ]
    }
   ],
   "source": [
    "england_fixture_statistics = spark.read.parquet(\"file:///home/jss/football_parquet/datas/england/fixtures/statistics/*.parquet\", multiLine=True)\n",
    "england_fixture_events = spark.read.parquet(\"file:///home/jss/football_parquet/datas/england/fixtures/events/*.parquet\", multiLine=True)\n",
    "england_player_stat = spark.read.parquet(\"file:///home/jss/football_parquet/datas/england/playerstat/*.parquet\", multiLine=True)\n",
    "england_team_stat = spark.read.parquet(\"file:///home/jss/football_parquet/datas/england/teamstat/*.parquet\", multiLine=True)"
   ]
  },
  {
   "cell_type": "code",
   "execution_count": 73,
   "metadata": {},
   "outputs": [
    {
     "name": "stderr",
     "output_type": "stream",
     "text": [
      "[Stage 183:============>                                         (44 + 9) / 192]\r"
     ]
    },
    {
     "name": "stderr",
     "output_type": "stream",
     "text": [
      "                                                                                \r"
     ]
    }
   ],
   "source": [
    "spain_fixture_statistics = spark.read.parquet(\"file:///home/jss/football_parquet/datas/spain/fixtures/statistics/*.parquet\", multiLine=True)\n",
    "spain_fixture_events = spark.read.parquet(\"file:///home/jss/football_parquet/datas/spain/fixtures/events/*.parquet\", multiLine=True)\n",
    "spain_player_stat = spark.read.parquet(\"file:///home/jss/football_parquet/datas/spain/playerstat/*.parquet\", multiLine=True)\n",
    "spain_team_stat = spark.read.parquet(\"file:///home/jss/football_parquet/datas/spain/teamstat/*.parquet\", multiLine=True)"
   ]
  },
  {
   "cell_type": "code",
   "execution_count": 74,
   "metadata": {},
   "outputs": [
    {
     "name": "stderr",
     "output_type": "stream",
     "text": [
      "                                                                                \r"
     ]
    }
   ],
   "source": [
    "germany_fixture_statistics = spark.read.parquet(\"file:///home/jss/football_parquet/datas/germany/fixtures/statistics/*.parquet\", multiLine=True)\n",
    "germany_fixture_events = spark.read.parquet(\"file:///home/jss/football_parquet/datas/germany/fixtures/events/*.parquet\", multiLine=True)\n",
    "germany_player_stat = spark.read.parquet(\"file:///home/jss/football_parquet/datas/germany/playerstat/*.parquet\", multiLine=True)\n",
    "germany_team_stat = spark.read.parquet(\"file:///home/jss/football_parquet/datas/germany/teamstat/*.parquet\", multiLine=True)"
   ]
  },
  {
   "cell_type": "code",
   "execution_count": 75,
   "metadata": {},
   "outputs": [
    {
     "name": "stderr",
     "output_type": "stream",
     "text": [
      "                                                                                \r"
     ]
    }
   ],
   "source": [
    "italy_fixture_statistics = spark.read.parquet(\"file:///home/jss/football_parquet/datas/italy/fixtures/statistics/*.parquet\", multiLine=True)\n",
    "italy_fixture_events = spark.read.parquet(\"file:///home/jss/football_parquet/datas/italy/fixtures/events/*.parquet\", multiLine=True)\n",
    "italy_player_stat = spark.read.parquet(\"file:///home/jss/football_parquet/datas/italy/playerstat/*.parquet\", multiLine=True)\n",
    "italy_team_stat = spark.read.parquet(\"file:///home/jss/football_parquet/datas/italy/teamstat/*.parquet\", multiLine=True)"
   ]
  },
  {
   "cell_type": "code",
   "execution_count": 76,
   "metadata": {},
   "outputs": [],
   "source": [
    "france_fixture_statistics = spark.read.parquet(\"file:///home/jss/football_parquet/datas/france/fixtures/statistics/*.parquet\", multiLine=True)\n",
    "france_fixture_events = spark.read.parquet(\"file:///home/jss/football_parquet/datas/france/fixtures/events/*.parquet\", multiLine=True)\n",
    "france_player_stat = spark.read.parquet(\"file:///home/jss/football_parquet/datas/france/playerstat/*.parquet\", multiLine=True)\n",
    "france_team_stat = spark.read.parquet(\"file:///home/jss/football_parquet/datas/france/teamstat/*.parquet\", multiLine=True)"
   ]
  },
  {
   "cell_type": "code",
   "execution_count": 77,
   "metadata": {},
   "outputs": [],
   "source": [
    "player_sideline = spark.read.parquet(\"file:///home/jss/football_parquet/datas/sidelined/player/*.parquet\", multiLine=True)\n",
    "coach_sideline = spark.read.parquet(\"file:///home/jss/football_parquet/datas/sidelined/coach/*.parquet\", multiLine=True)"
   ]
  },
  {
   "cell_type": "code",
   "execution_count": 78,
   "metadata": {},
   "outputs": [
    {
     "name": "stdout",
     "output_type": "stream",
     "text": [
      "+----------+-------+---------------+-------------+------------+-----+----------------+--------+--------+---------------+---------+---------------+--------------+-------------+----------------+-----------+------------+------------+--------------+\n",
      "|fixture_id|team_id|Ball Possession|Blocked Shots|Corner Kicks|Fouls|Goalkeeper Saves|Offsides|Passes %|Passes accurate|Red Cards|Shots insidebox|Shots off Goal|Shots on Goal|Shots outsidebox|Total Shots|Total passes|Yellow Cards|expected_goals|\n",
      "+----------+-------+---------------+-------------+------------+-----+----------------+--------+--------+---------------+---------+---------------+--------------+-------------+----------------+-----------+------------+------------+--------------+\n",
      "|   1035117|     35|            34%|            2|           3|   15|               5|       0|     75%|            228|        1|              4|             1|            4|               3|          7|         303|           2|          0.63|\n",
      "|   1035117|     39|            66%|            6|          12|   10|               3|       1|     85%|            511|        0|             15|             8|            7|               6|         21|         598|           6|          2.35|\n",
      "|   1035119|     44|            50%|            1|           5|   12|               6|       2|     83%|            361|        1|              3|             4|            1|               3|          6|         437|           4|          1.14|\n",
      "|   1035119|     55|            50%|            5|           5|   14|               1|       2|     79%|            350|        0|             16|             8|           10|               7|         23|         443|           5|          3.24|\n",
      "|   1035120|     42|            57%|            5|           7|   14|               3|       1|     85%|            482|     NULL|              9|             5|            3|               4|         13|         570|           3|          0.99|\n",
      "|   1035120|     49|            43%|            2|           2|    7|               1|       2|     82%|            364|     NULL|              6|             4|            5|               5|         11|         443|           3|          1.35|\n",
      "|   1035121|     40|            78%|           11|          12|    9|               1|       2|     87%|            649|        0|             13|             9|            6|              13|         26|         742|           1|          2.23|\n",
      "|   1035121|     45|            22%|            1|           4|    9|               4|       1|     53%|            112|        1|              1|             4|            1|               5|          6|         213|           3|          0.13|\n",
      "|   1035122|     50|            55%|            0|           2|    9|               2|       2|     90%|            546|        1|              6|             4|            6|               4|         10|         609|           4|          0.75|\n",
      "|   1035122|     51|            45%|            0|           2|   11|               3|       1|     88%|            443|        0|              4|             2|            3|               1|          5|         506|           2|          0.83|\n",
      "|   1035123|     34|            60%|            0|           6|    7|               3|       0|     86%|            495|     NULL|              9|             3|            7|               1|         10|         573|           2|          2.39|\n",
      "|   1035123|     52|            40%|            4|           8|   12|               3|       1|     79%|            308|     NULL|             10|            10|            3|               7|         17|         389|           3|          1.21|\n",
      "|   1035124|     65|            57%|            2|           4|   12|               2|       2|     77%|            378|     NULL|             17|             9|            8|               2|         19|         494|           3|          2.97|\n",
      "|   1035124|   1359|            43%|            4|           2|   11|               6|       0|     70%|            251|     NULL|              9|             5|            4|               4|         13|         361|           0|          1.71|\n",
      "|   1035125|     33|            62%|            3|           4|   10|               5|       4|     81%|            449|     NULL|              5|             6|            5|               9|         14|         556|           1|          1.10|\n",
      "|   1035125|     62|            38%|            3|           5|   12|               3|       3|     68%|            225|     NULL|              6|             3|            6|               6|         12|         332|           3|          1.42|\n",
      "|   1035097|     35|            42%|            4|           6|   11|               4|       2|     81%|            317|     NULL|              7|             3|            1|               1|          8|         389|           0|          0.65|\n",
      "|   1035097|     42|            58%|            4|           6|   10|               1|       0|     88%|            481|     NULL|             14|             3|            8|               1|         15|         545|           1|          3.43|\n",
      "|   1035098|     51|            62%|            5|           3|   21|               4|       6|     89%|            461|     NULL|              8|             3|            3|               3|         11|         518|           4|          1.71|\n",
      "|   1035098|     66|            38%|            6|           1|   19|               2|       0|     78%|            250|     NULL|             14|             4|            9|               5|         19|         320|           4|          1.58|\n",
      "+----------+-------+---------------+-------------+------------+-----+----------------+--------+--------+---------------+---------+---------------+--------------+-------------+----------------+-----------+------------+------------+--------------+\n",
      "only showing top 20 rows\n",
      "\n"
     ]
    }
   ],
   "source": [
    "england_fixture_statistics.show()"
   ]
  },
  {
   "cell_type": "code",
   "execution_count": 79,
   "metadata": {},
   "outputs": [
    {
     "name": "stdout",
     "output_type": "stream",
     "text": [
      "+---------+-------+---------+-------------+----------------+------------+------------+-----------+-------------+-----------+------------+------+-------+---------+-----------+--------+-----------+--------------+-------------+-----------+------------+----------+---------------+-------------+--------------+---------------------+-----------+---------+-----------------+----------------+-------------+-----------+---------------+------------+---------------+---------+-----------+----------------+--------------+--------------+-------------+\n",
      "|player_id|team_id|league_id|league_season|game_appearances|game_lineups|game_minutes|game_number|game_position|game_rating|game_captain|sub_in|sub_out|sub_bench|total_shots|shots_on|total_goals|goals_conceded|goals_assists|goals_saves|passes_total|passes_key|passes_accuracy|tackles_total|tackles_blocks|tackles_interceptions|duels_total|duels_won|dribbles_attempts|dribbles_success|dribbles_past|fouls_drawn|fouls_committed|cards_yellow|cards_yellowred|cards_red|penalty_won|penalty_commited|penalty_scored|penalty_missed|penalty_saved|\n",
      "+---------+-------+---------+-------------+----------------+------------+------------+-----------+-------------+-----------+------------+------+-------+---------+-----------+--------+-----------+--------------+-------------+-----------+------------+----------+---------------+-------------+--------------+---------------------+-----------+---------+-----------------+----------------+-------------+-----------+---------------+------------+---------------+---------+-----------+----------------+--------------+--------------+-------------+\n",
      "|   163054|     33|       39|         2023|               0|           0|           0|       NULL|     Attacker|       NULL|       false|     0|      0|        0|       NULL|    NULL|          0|          NULL|         NULL|       NULL|        NULL|      NULL|           NULL|         NULL|          NULL|                 NULL|       NULL|     NULL|             NULL|            NULL|         NULL|       NULL|           NULL|           0|              0|        0|       NULL|            NULL|          NULL|          NULL|         NULL|\n",
      "|     2597|     42|       39|         2023|              13|           5|         628|       NULL|     Defender|   6.892307|       false|     8|      1|        9|          5|       2|          1|             0|            1|       NULL|         426|         2|             28|           11|             1|                   10|         54|       30|                7|               4|         NULL|          2|              7|           1|              1|        0|       NULL|            NULL|             0|             0|         NULL|\n",
      "|   146325|   1359|       39|         2023|               0|           0|           0|       NULL|     Attacker|       NULL|       false|     0|      0|        0|       NULL|    NULL|          0|          NULL|         NULL|       NULL|        NULL|      NULL|           NULL|         NULL|          NULL|                 NULL|       NULL|     NULL|             NULL|            NULL|         NULL|       NULL|           NULL|           0|              0|        0|       NULL|            NULL|          NULL|          NULL|         NULL|\n",
      "|       54|     39|       39|         2023|            NULL|        NULL|        NULL|       NULL|     Attacker|       NULL|       false|  NULL|   NULL|     NULL|       NULL|    NULL|       NULL|          NULL|         NULL|       NULL|        NULL|      NULL|           NULL|         NULL|          NULL|                 NULL|       NULL|     NULL|             NULL|            NULL|         NULL|       NULL|           NULL|        NULL|           NULL|     NULL|       NULL|            NULL|          NULL|          NULL|         NULL|\n",
      "|     1165|     39|       39|         2023|              24|          24|        1974|       NULL|     Attacker|   7.254166|       false|     0|     13|        0|         50|      31|          9|             0|            6|       NULL|         605|        25|             20|           24|             7|                   13|        289|      125|               98|              52|         NULL|         37|             19|           5|              0|        0|       NULL|            NULL|             1|             0|         NULL|\n",
      "|   284385|     45|       39|         2023|               0|           0|           0|       NULL|     Defender|       NULL|       false|     0|      0|        1|       NULL|    NULL|          0|             0|         NULL|       NULL|        NULL|      NULL|           NULL|         NULL|          NULL|                 NULL|       NULL|     NULL|             NULL|            NULL|         NULL|       NULL|           NULL|           0|              0|        0|       NULL|            NULL|             0|             0|         NULL|\n",
      "|    47438|     55|       39|         2023|              20|          18|        1380|       NULL|   Midfielder|   7.005000|       false|     2|     15|        2|         10|       6|          3|             0|            3|       NULL|         616|        27|             24|           32|             4|                   11|        152|       57|               24|               9|         NULL|         14|             18|           3|              0|        0|       NULL|            NULL|             0|             0|         NULL|\n",
      "|   328126|     62|       39|         2023|               0|           0|           0|       NULL|   Goalkeeper|       NULL|       false|     0|      0|        6|       NULL|    NULL|          0|             0|         NULL|       NULL|        NULL|      NULL|           NULL|         NULL|          NULL|                 NULL|       NULL|     NULL|             NULL|            NULL|         NULL|       NULL|           NULL|           0|              0|        0|       NULL|            NULL|             0|             0|            0|\n",
      "|     2910|     65|       39|         2023|               0|           0|           0|       NULL|     Attacker|       NULL|       false|     0|      0|        2|       NULL|    NULL|          0|             0|         NULL|       NULL|        NULL|      NULL|           NULL|         NULL|          NULL|                 NULL|       NULL|     NULL|             NULL|            NULL|         NULL|       NULL|           NULL|           0|              0|        0|       NULL|            NULL|             0|             0|         NULL|\n",
      "|    18863|     65|       39|         2023|               0|           0|           0|       NULL|     Defender|       NULL|       false|     0|      0|        0|       NULL|    NULL|          0|          NULL|         NULL|       NULL|        NULL|      NULL|           NULL|         NULL|          NULL|                 NULL|       NULL|     NULL|             NULL|            NULL|         NULL|       NULL|           NULL|           0|              0|        0|       NULL|            NULL|          NULL|          NULL|         NULL|\n",
      "|   284471|     36|       39|         2023|            NULL|        NULL|        NULL|       NULL|     Defender|       NULL|       false|  NULL|   NULL|     NULL|       NULL|    NULL|       NULL|          NULL|         NULL|       NULL|        NULL|      NULL|           NULL|         NULL|          NULL|                 NULL|       NULL|     NULL|             NULL|            NULL|         NULL|       NULL|           NULL|        NULL|           NULL|     NULL|       NULL|            NULL|          NULL|          NULL|         NULL|\n",
      "|   152849|     47|       39|         2023|              16|          16|        1394|       NULL|     Defender|   7.006250|       false|     0|      3|        0|          5|       1|          1|             0|         NULL|       NULL|        1058|         1|             63|           27|             8|                   12|        116|       68|               14|               8|         NULL|         11|              7|           1|              0|        0|       NULL|            NULL|             0|             0|         NULL|\n",
      "|    18883|     35|       39|         2023|              24|          24|        2141|       NULL|     Attacker|   7.037500|       false|     0|      4|        0|         56|      27|         14|             0|            3|       NULL|         334|        21|             10|           14|             4|                    3|        343|      121|               70|              27|         NULL|         23|             26|           2|              0|        0|       NULL|            NULL|             1|             0|         NULL|\n",
      "|    61431|     42|       39|         2023|              13|           6|         525|       NULL|     Defender|   6.820000|       false|     7|      2|       19|          2|       2|          0|             0|            2|       NULL|         316|         3|             25|           15|             1|                    4|         37|       20|             NULL|            NULL|         NULL|          1|              7|           1|              0|        0|       NULL|            NULL|             0|             0|         NULL|\n",
      "|   116117|     51|       39|         2023|               0|           0|           0|       NULL|   Midfielder|   6.972727|       false|     0|      0|        0|          3|       1|          0|             0|            1|       NULL|        1249|        14|             52|           48|            14|                   17|        209|      113|               24|              12|         NULL|         31|             39|           0|              0|        0|       NULL|            NULL|             0|             0|         NULL|\n",
      "|    40911|     51|       39|         2023|               7|           0|         126|       NULL|   Midfielder|   6.657142|       false|     7|      0|       14|          2|    NULL|          0|             0|         NULL|       NULL|          70|         2|              8|            8|          NULL|                 NULL|         24|       12|                2|            NULL|         NULL|          3|              3|           1|              0|        0|       NULL|            NULL|             0|             0|         NULL|\n",
      "|   327602|     65|       39|         2023|               0|           0|           0|       NULL|     Attacker|       NULL|       false|     0|      0|        1|       NULL|    NULL|          0|             0|         NULL|       NULL|        NULL|      NULL|           NULL|         NULL|          NULL|                 NULL|       NULL|     NULL|             NULL|            NULL|         NULL|       NULL|           NULL|           0|              0|        0|       NULL|            NULL|             0|             0|         NULL|\n",
      "|    19804|     35|       39|         2023|               8|           0|         100|       NULL|     Attacker|   6.675000|       false|     8|      0|       16|          5|       2|          1|             0|         NULL|       NULL|          40|         2|              3|         NULL|          NULL|                 NULL|         22|        9|                2|               1|         NULL|          2|              5|           0|              0|        0|       NULL|            NULL|             0|             0|         NULL|\n",
      "|     1452|     42|       39|         2023|               2|           0|          24|       NULL|   Midfielder|   7.000000|       false|     2|      0|       15|          2|       1|          0|             0|         NULL|       NULL|          36|      NULL|             17|         NULL|          NULL|                    1|          4|        1|             NULL|            NULL|         NULL|       NULL|              1|           0|              0|        0|       NULL|            NULL|             0|             0|         NULL|\n",
      "|   336564|     44|       39|         2023|              16|          12|         991|       NULL|     Attacker|   6.880000|       false|     4|      9|        8|         15|       7|          3|             0|            1|       NULL|         204|        12|             10|           12|             2|                    3|        120|       56|               60|              31|         NULL|         10|              4|           2|              0|        0|       NULL|            NULL|             0|             0|         NULL|\n",
      "+---------+-------+---------+-------------+----------------+------------+------------+-----------+-------------+-----------+------------+------+-------+---------+-----------+--------+-----------+--------------+-------------+-----------+------------+----------+---------------+-------------+--------------+---------------------+-----------+---------+-----------------+----------------+-------------+-----------+---------------+------------+---------------+---------+-----------+----------------+--------------+--------------+-------------+\n",
      "only showing top 20 rows\n",
      "\n"
     ]
    }
   ],
   "source": [
    "england_player_stat.show()"
   ]
  },
  {
   "cell_type": "code",
   "execution_count": 80,
   "metadata": {},
   "outputs": [],
   "source": [
    "england_team_stat.createOrReplaceTempView(\"england_team_stat\")"
   ]
  },
  {
   "cell_type": "code",
   "execution_count": 81,
   "metadata": {},
   "outputs": [
    {
     "name": "stdout",
     "output_type": "stream",
     "text": [
      "+------------+---------+------+-------+--------------------+---------+---------+----------+---------+---------+----------+----------+----------+-----------+----------+----------+-----------+----------+----------+-----------+--------------+--------------+---------------+----------------+---------------------+-----------------+----------------------+-----------------+----------------------+-----------------+----------------------+-----------------+----------------------+-----------------+----------------------+------------------+-----------------------+-------------------+------------------------+-----------------------+-------------------------+------------------------+-------------------------+------------------------+-------------------------+------------------------+-------------------------+------------------------+-------------------------+------------------------+--------------------------+-------------------------+---------------------------+--------------------------+-------------------+--------------------+--------------------+-----------------+-----------------+------------------+------------------+------------------+------------------+--------------------+--------------------+----------------+----------------+-----------------+--------------------+--------------------+---------------------+--------------------+-------------------------------+--------------------+-------------------------------+-------------+-----------+----------------------+------------+-----------------------+------------+-----------------------+------------+-----------------------+------------+-----------------------+------------+-----------------------+-------------+------------------------+---------------+-------------------------+--------+-------------------+---------+--------------------+---------+--------------------+---------+--------------------+---------+--------------------+---------+--------------------+----------+---------------------+-----------+----------------------+\n",
      "|index_league|league_id|season|team_id|           team_form|home_game|away_game|total_game|home_wins|away_wins|total_wins|home_draws|away_draws|total_draws|home_loses|away_loses|total_loses|home_goals|away_goals|total_goals|home_avg_goals|away_avg_goals|total_avg_goals|0-15_total_goals|0-15_goals_percentage|16-30_total_goals|16-30_goals_percentage|31-45_total_goals|31-45_goals_percentage|46-60_total_goals|46-60_goals_percentage|61-75_total_goals|61-75_goals_percentage|76-90_total_goals|76-90_goals_percentage|91-105_total_goals|91-105_goals_percentage|106-120_total_goals|106-120_goals_percentage|0-15_against_percentage|16-30_total_against_goals|16-30_against_percentage|31-45_total_against_goals|31-45_against_percentage|46-60_total_against_goals|46-60_against_percentage|61-75_total_against_goals|61-75_against_percentage|76-90_total_against_goals|76-90_against_percentage|91-105_total_against_goals|91-105_against_percentage|106-120_total_against_goals|106-120_against_percentage|biggest_streak_wins|biggest_streak_draws|biggest_streak_loses|biggest_home_wins|biggest_away_wins|biggest_home_loses|biggest_away_loses|biggest_home_goals|biggest_away_goals|biggest_home_against|biggest_away_against|home_clean_sheet|away_clean_sheet|total_clean_sheet|home_failed_to_score|away_failed_to_score|total_failed_to_score|total_penalty_scored|total_penalty_scored_percentage|total_penalty_missed|total_penalty_missed_percentage|total_penalty|0-15_yellow|0-15_yellow_percentage|16-30_yellow|16-30_yellow_percentage|31-45_yellow|31-45_yellow_percentage|46-60_yellow|46-60_yellow_percentage|61-75_yellow|61-75_yellow_percentage|76-90_yellow|76-90_yellow_percentage|91-105_yellow|91-105_yellow_percentage|106-120_yellows|106-120_yellow_percentage|0-15_red|0-15_red_percentage|16-30_red|16-30_red_percentage|31-45_red|31-45_red_percentage|46-60_red|46-60_red_percentage|61-75_red|61-75_red_percentage|76-90_red|76-90_red_percentage|91-105_red|91-105_red_percentage|106-120_red|106-120_red_percentage|\n",
      "+------------+---------+------+-------+--------------------+---------+---------+----------+---------+---------+----------+----------+----------+-----------+----------+----------+-----------+----------+----------+-----------+--------------+--------------+---------------+----------------+---------------------+-----------------+----------------------+-----------------+----------------------+-----------------+----------------------+-----------------+----------------------+-----------------+----------------------+------------------+-----------------------+-------------------+------------------------+-----------------------+-------------------------+------------------------+-------------------------+------------------------+-------------------------+------------------------+-------------------------+------------------------+-------------------------+------------------------+--------------------------+-------------------------+---------------------------+--------------------------+-------------------+--------------------+--------------------+-----------------+-----------------+------------------+------------------+------------------+------------------+--------------------+--------------------+----------------+----------------+-----------------+--------------------+--------------------+---------------------+--------------------+-------------------------------+--------------------+-------------------------------+-------------+-----------+----------------------+------------+-----------------------+------------+-----------------------+------------+-----------------------+------------+-----------------------+------------+-----------------------+-------------+------------------------+---------------+-------------------------+--------+-------------------+---------+--------------------+---------+--------------------+---------+--------------------+---------+--------------------+---------+--------------------+----------+---------------------+-----------+----------------------+\n",
      "| 77309411328|       39|  2023|     33|WLWLLWLWWLWWWLWLD...|       12|       13|        25|        7|        7|        14|         1|         1|          2|         4|         5|          9|        18|        17|         35|           1.5|           1.3|            1.4|               5|               13.89%|                7|                19.44%|                2|                 5.56%|                5|                13.89%|                5|                13.89%|                8|                22.22%|                 4|                 11.11%|               NULL|                    NULL|                 12.12%|                        8|                  24.24%|                        2|                   6.06%|                        5|                  15.15%|                        7|                  21.21%|                        4|                  12.12%|                         3|                    9.09%|                       NULL|                      NULL|                  3|                   1|                   2|              3-0|              0-3|               0-3|               3-1|                 3|                 4|                   3|                   3|               3|               4|                7|                   3|                   4|                    7|                   2|                        100.00%|                   0|                             0%|            2|          4|                 6.35%|           7|                 11.11%|          10|                 15.87%|          11|                 17.46%|           5|                  7.94%|          13|                 20.63%|           12|                  19.05%|           NULL|                     NULL|    NULL|               NULL|     NULL|                NULL|     NULL|                NULL|     NULL|                NULL|     NULL|                NULL|     NULL|                NULL|         1|              100.00%|       NULL|                  NULL|\n",
      "| 77309411329|       39|  2023|     34|WLLLWWWDWDWLWWLLW...|       13|       12|        25|        8|        3|        11|         2|         2|          4|         3|         7|         10|        31|        22|         53|           2.4|           1.8|            2.1|               6|               11.54%|                6|                11.54%|                8|                15.38%|               10|                19.23%|               12|                23.08%|                6|                11.54%|                 4|                  7.69%|               NULL|                    NULL|                  4.76%|                        7|                  16.67%|                        4|                   9.52%|                       10|                  23.81%|                        9|                  21.43%|                        7|                  16.67%|                         3|                    7.14%|                       NULL|                      NULL|                  3|                   1|                   4|              5-1|              0-8|               1-3|               4-1|                 5|                 8|                   4|                   4|               6|               1|                7|                   0|                   4|                    4|                   5|                        100.00%|                   0|                             0%|            5|       NULL|                  NULL|           8|                 14.04%|           6|                 10.53%|          12|                 21.05%|           8|                 14.04%|          12|                 21.05%|           11|                  19.30%|           NULL|                     NULL|    NULL|               NULL|     NULL|                NULL|     NULL|                NULL|     NULL|                NULL|     NULL|                NULL|     NULL|                NULL|      NULL|                 NULL|       NULL|                  NULL|\n",
      "| 77309411330|       39|  2023|     35|DLLDDLLLLWLWWDWWW...|       11|       13|        24|        3|        4|         7|         4|         3|          7|         4|         6|         10|        12|        21|         33|           1.1|           1.6|            1.4|               6|               17.65%|                5|                14.71%|                1|                 2.94%|                9|                26.47%|                6|                17.65%|                4|                11.76%|                 3|                  8.82%|               NULL|                    NULL|                 11.11%|                        5|                  11.11%|                        7|                  15.56%|                        9|                  20.00%|                        7|                  15.56%|                        7|                  15.56%|                         5|                   11.11%|                       NULL|                      NULL|                  4|                   2|                   4|              3-0|              0-3|               0-4|               6-1|                 3|                 3|                   4|                   6|               3|               2|                5|                   4|                   1|                    5|                   1|                        100.00%|                   0|                             0%|            1|          1|                 2.13%|           6|                 12.77%|           7|                 14.89%|          11|                 23.40%|           9|                 19.15%|           9|                 19.15%|            3|                   6.38%|           NULL|                     NULL|    NULL|               NULL|     NULL|                NULL|     NULL|                NULL|        1|              50.00%|     NULL|                NULL|        1|              50.00%|      NULL|                 NULL|       NULL|                  NULL|\n",
      "| 77309411331|       39|  2023|     36|WLDLWDLWLDLLWLWWL...|       13|       12|        25|        7|        1|         8|         1|         4|          5|         5|         7|         12|        23|        11|         34|           1.8|           0.9|            1.4|               3|                8.33%|                8|                22.22%|                5|                13.89%|                7|                19.44%|                7|                19.44%|                4|                11.11%|                 2|                  5.56%|               NULL|                    NULL|                  2.56%|                        5|                  12.82%|                        6|                  15.38%|                        8|                  20.51%|                       10|                  25.64%|                        4|                  10.26%|                         5|                   12.82%|                       NULL|                      NULL|                  2|                   2|                   3|              5-0|              0-1|               0-3|               5-1|                 5|                 3|                   3|                   5|               4|               2|                6|                   5|                   5|                   10|                   2|                        100.00%|                   0|                             0%|            2|          1|                 1.69%|           6|                 10.17%|           5|                  8.47%|          11|                 18.64%|          13|                 22.03%|          13|                 22.03%|            9|                  15.25%|           NULL|                     NULL|    NULL|               NULL|        1|              33.33%|     NULL|                NULL|     NULL|                NULL|        1|              33.33%|        1|              33.33%|      NULL|                 NULL|       NULL|                  NULL|\n",
      "| 77309411332|       39|  2023|     39|LLWLLDWDWDLWLLWDL...|       12|       13|        25|        5|        5|        10|         3|         2|          5|         4|         6|         10|        19|        20|         39|           1.6|           1.5|            1.6|               3|                7.89%|                4|                10.53%|                4|                10.53%|                5|                13.16%|                9|                23.68%|                7|                18.42%|                 6|                 15.79%|               NULL|                    NULL|                 19.51%|                        6|                  14.63%|                        3|                   7.32%|                       10|                  24.39%|                        4|                   9.76%|                        6|                  14.63%|                         4|                    9.76%|                       NULL|                      NULL|                  3|                   1|                   2|              3-0|              1-4|               1-4|               3-0|                 3|                 4|                   4|                   3|               2|               2|                4|                   1|                   3|                    4|                   3|                        100.00%|                   0|                             0%|            3|       NULL|                  NULL|           8|                 12.12%|           8|                 12.12%|          15|                 22.73%|          10|                 15.15%|          12|                 18.18%|           11|                  16.67%|           NULL|                     NULL|    NULL|               NULL|     NULL|                NULL|        1|              33.33%|     NULL|                NULL|     NULL|                NULL|     NULL|                NULL|         2|               66.67%|       NULL|                  NULL|\n",
      "| 77309411333|       39|  2023|     40|DWWWWWLDWWDWDWWWD...|       13|       13|        26|       11|        7|        18|         2|         4|          6|         0|         2|          2|        37|        26|         63|           2.8|           2.0|            2.4|               2|                3.33%|                5|                 8.33%|               10|                16.67%|               11|                18.33%|                9|                15.00%|               16|                26.67%|                 7|                 11.67%|               NULL|                    NULL|                 17.86%|                        6|                  21.43%|                        4|                  14.29%|                        4|                  14.29%|                        3|                  10.71%|                        4|                  14.29%|                         2|                    7.14%|                       NULL|                      NULL|                  5|                   2|                   1|              4-1|              0-4|              NULL|               3-1|                 4|                 4|                   3|                   3|               5|               3|                8|                   1|                   0|                    1|                   4|                        100.00%|                   0|                             0%|            4|          3|                 5.88%|           4|                  7.84%|           6|                 11.76%|           8|                 15.69%|          11|                 21.57%|          12|                 23.53%|            7|                  13.73%|           NULL|                     NULL|    NULL|               NULL|        2|              40.00%|     NULL|                NULL|        1|              20.00%|        1|              20.00%|        1|              20.00%|      NULL|                 NULL|       NULL|                  NULL|\n",
      "| 77309411334|       39|  2023|     42|WWDWWDWWDWLWWWWLW...|       12|       13|        25|        9|        8|        17|         2|         2|          4|         1|         3|          4|        30|        28|         58|           2.5|           2.2|            2.3|               7|               12.07%|                5|                 8.62%|                8|                13.79%|               13|                22.41%|               10|                17.24%|                7|                12.07%|                 8|                 13.79%|               NULL|                    NULL|                 18.18%|                        5|                  22.73%|                        1|                   4.55%|                        7|                  31.82%|                        1|                   4.55%|                        4|                  18.18%|                      NULL|                     NULL|                       NULL|                      NULL|                  4|                   1|                   2|              5-0|              0-6|               0-2|               2-1|                 5|                 6|                   2|                   3|               4|               6|               10|                   1|                   2|                    3|                   8|                        100.00%|                   0|                             0%|            8|          3|                 7.50%|           1|                  2.50%|           7|                 17.50%|          10|                 25.00%|           5|                 12.50%|           5|                 12.50%|            9|                  22.50%|           NULL|                     NULL|    NULL|               NULL|     NULL|                NULL|     NULL|                NULL|     NULL|                NULL|        1|              50.00%|        1|              50.00%|      NULL|                 NULL|       NULL|                  NULL|\n",
      "| 77309411335|       39|  2023|     44|LLLDLLWLLLLLLWLDL...|       13|       12|        25|        1|        2|         3|         2|         2|          4|        10|         8|         18|        13|        12|         25|           1.0|           1.0|            1.0|               4|               14.81%|                1|                 3.70%|                6|                22.22%|                5|                18.52%|                5|                18.52%|                3|                11.11%|                 3|                 11.11%|               NULL|                    NULL|                  9.43%|                       12|                  22.64%|                        6|                  11.32%|                        8|                  15.09%|                       10|                  18.87%|                        9|                  16.98%|                         3|                    5.66%|                       NULL|                      NULL|                  1|                   1|                   6|              5-0|              0-2|               0-5|               3-0|                 5|                 2|                   5|                   3|               1|               1|                2|                   6|                   3|                    9|                   1|                        100.00%|                   0|                             0%|            1|          5|                 9.80%|           7|                 13.73%|          10|                 19.61%|           7|                 13.73%|          10|                 19.61%|           3|                  5.88%|            9|                  17.65%|           NULL|                     NULL|    NULL|               NULL|     NULL|                NULL|     NULL|                NULL|        1|              25.00%|     NULL|                NULL|        1|              25.00%|         2|               50.00%|       NULL|                  NULL|\n",
      "| 77309411336|       39|  2023|     45|LLLDLWLWLWDWLWWWW...|       13|       12|        25|        3|        5|         8|         4|         2|          6|         6|         5|         11|        14|        13|         27|           1.1|           1.1|            1.1|               5|               17.24%|                4|                13.79%|                2|                 6.90%|                6|                20.69%|                3|                10.34%|                6|                20.69%|                 3|                 10.34%|               NULL|                    NULL|                 12.90%|                        6|                  19.35%|                        3|                   9.68%|                        4|                  12.90%|                       10|                  32.26%|                        3|                   9.68%|                         1|                    3.23%|                       NULL|                      NULL|                  4|                   3|                   3|              3-0|              1-3|               0-3|               4-0|                 3|                 3|                   3|                   4|               4|               4|                8|                   5|                   5|                   10|                   0|                             0%|                   0|                             0%|            0|          4|                 7.55%|           9|                 16.98%|           6|                 11.32%|          11|                 20.75%|           6|                 11.32%|          10|                 18.87%|            6|                  11.32%|           NULL|                     NULL|    NULL|               NULL|     NULL|                NULL|        1|             100.00%|     NULL|                NULL|     NULL|                NULL|     NULL|                NULL|      NULL|                 NULL|       NULL|                  NULL|\n",
      "| 77309411337|       39|  2023|     47|DWWWWDWWWWLLLDLWW...|       13|       12|        25|        9|        5|        14|         0|         5|          5|         4|         2|          6|        26|        26|         52|           2.0|           2.2|            2.1|               9|               17.65%|                7|                13.73%|                5|                 9.80%|               14|                27.45%|                8|                15.69%|                5|                 9.80%|                 3|                  5.88%|               NULL|                    NULL|                 10.26%|                        4|                  10.26%|                        5|                  12.82%|                        5|                  12.82%|                        8|                  20.51%|                        4|                  10.26%|                         9|                   23.08%|                       NULL|                      NULL|                  4|                   1|                   3|              4-1|              2-5|               1-4|               4-2|                 4|                 5|                   4|                   4|               2|               3|                5|                   0|                   0|                    0|                   1|                        100.00%|                   0|                             0%|            1|          1|                 1.64%|           5|                  8.20%|          11|                 18.03%|          14|                 22.95%|           9|                 14.75%|          11|                 18.03%|            9|                  14.75%|           NULL|                     NULL|    NULL|               NULL|     NULL|                NULL|        1|              25.00%|        2|              50.00%|        1|              25.00%|     NULL|                NULL|      NULL|                 NULL|       NULL|                  NULL|\n",
      "| 77309411338|       39|  2023|     48|DWWWLLWDLLLWWDWLW...|       12|       13|        25|        5|        5|        10|         4|         2|          6|         3|         6|          9|        18|        18|         36|           1.5|           1.4|            1.4|               5|               13.89%|                6|                16.67%|                5|                13.89%|                7|                19.44%|                6|                16.67%|                5|                13.89%|                 2|                  5.56%|               NULL|                    NULL|                  6.82%|                        5|                  11.36%|                        7|                  15.91%|                       11|                  25.00%|                        6|                  13.64%|                        9|                  20.45%|                         3|                    6.82%|                       NULL|                      NULL|                  3|                   3|                   3|              3-0|              1-3|               0-6|               5-0|                 3|                 3|                   6|                   5|               4|               1|                5|                   3|                   3|                    6|                   3|                        100.00%|                   0|                             0%|            3|          4|                 6.45%|           5|                  8.06%|          16|                 25.81%|           8|                 12.90%|          10|                 16.13%|          11|                 17.74%|            8|                  12.90%|           NULL|                     NULL|    NULL|               NULL|     NULL|                NULL|     NULL|                NULL|     NULL|                NULL|        2|              66.67%|     NULL|                NULL|         1|               33.33%|       NULL|                  NULL|\n",
      "| 77309411339|       39|  2023|     49|DLWLDLWWDLWDLWLLW...|       12|       13|        25|        5|        5|        10|         3|         2|          5|         4|         6|         10|        20|        22|         42|           1.7|           1.7|            1.7|               3|                7.14%|                9|                21.43%|                7|                16.67%|                5|                11.90%|               10|                23.81%|                2|                 4.76%|                 6|                 14.29%|               NULL|                    NULL|                  9.76%|                        6|                  14.63%|                        3|                   7.32%|                        9|                  21.95%|                        5|                  12.20%|                        9|                  21.95%|                         5|                   12.20%|                       NULL|                      NULL|                  3|                   1|                   2|              3-0|              1-4|               2-4|               4-1|                 4|                 4|                   4|                   4|               3|               2|                5|                   3|                   2|                    5|                   7|                        100.00%|                   0|                             0%|            7|          4|                 4.88%|           7|                  8.54%|          17|                 20.73%|          17|                 20.73%|          10|                 12.20%|          17|                 20.73%|            8|                   9.76%|           NULL|                     NULL|    NULL|               NULL|     NULL|                NULL|        1|              33.33%|        1|              33.33%|        1|              33.33%|     NULL|                NULL|      NULL|                 NULL|       NULL|                  NULL|\n",
      "| 77309411340|       39|  2023|     50|WWWWWWLLWWWDDDLWD...|       13|       12|        25|        9|        8|        17|         4|         1|          5|         0|         3|          3|        31|        27|         58|           2.4|           2.3|            2.3|               6|               10.34%|                9|                15.52%|                6|                10.34%|               12|                20.69%|               12|                20.69%|               11|                18.97%|                 2|                  3.45%|               NULL|                    NULL|                  7.69%|                        3|                  11.54%|                        6|                  23.08%|                        1|                   3.85%|                        6|                  23.08%|                        5|                  19.23%|                         3|                   11.54%|                       NULL|                      NULL|                  6|                   3|                   2|              6-1|              0-3|              NULL|               2-1|                 6|                 4|                   3|                   4|               5|               2|                7|                   0|                   2|                    2|                   4|                        100.00%|                   0|                             0%|            4|       NULL|                  NULL|           4|                  9.52%|           7|                 16.67%|          10|                 23.81%|           6|                 14.29%|          10|                 23.81%|            5|                  11.90%|           NULL|                     NULL|    NULL|               NULL|     NULL|                NULL|     NULL|                NULL|        1|              50.00%|     NULL|                NULL|     NULL|                NULL|         1|               50.00%|       NULL|                  NULL|\n",
      "| 77309411341|       39|  2023|     51|WWLWWWLDLDDDWLWDL...|       12|       13|        25|        6|        4|        10|         5|         3|          8|         1|         6|          7|        26|        22|         48|           2.2|           1.7|            1.9|               4|                8.51%|               10|                21.28%|                5|                10.64%|                9|                19.15%|                8|                17.02%|                9|                19.15%|                 2|                  4.26%|               NULL|                    NULL|                 14.63%|                        7|                  17.07%|                        3|                   7.32%|                        6|                  14.63%|                        9|                  21.95%|                        7|                  17.07%|                         3|                    7.32%|                       NULL|                      NULL|                  3|                   3|                   1|              4-1|              0-5|               1-3|               6-1|                 4|                 5|                   3|                   6|               1|               2|                3|                   1|                   3|                    4|                   5|                        100.00%|                   0|                             0%|            5|          4|                 6.45%|           6|                  9.68%|           7|                 11.29%|           9|                 14.52%|          13|                 20.97%|          15|                 24.19%|            8|                  12.90%|           NULL|                     NULL|    NULL|               NULL|     NULL|                NULL|     NULL|                NULL|     NULL|                NULL|        2|             100.00%|     NULL|                NULL|      NULL|                 NULL|       NULL|                  NULL|\n",
      "| 77309411342|       39|  2023|     52|WLDWLDWDLLWLLDLLD...|       12|       13|        25|        3|        3|         6|         3|         4|          7|         6|         6|         12|        15|        13|         28|           1.3|           1.0|            1.1|               2|                6.90%|                5|                17.24%|                1|                 3.45%|                9|                31.03%|                5|                17.24%|                4|                13.79%|                 3|                 10.34%|               NULL|                    NULL|                 18.60%|                        4|                   9.30%|                        4|                   9.30%|                        6|                  13.95%|                        4|                   9.30%|                        8|                  18.60%|                         9|                   20.93%|                       NULL|                      NULL|                  1|                   2|                   2|              3-1|              0-2|               1-3|               5-0|                 3|                 2|                   3|                   5|               2|               3|                5|                   4|                   2|                    6|                   3|                        100.00%|                   0|                             0%|            3|          1|                 2.13%|           8|                 17.02%|           5|                 10.64%|          11|                 23.40%|           7|                 14.89%|           6|                 12.77%|            9|                  19.15%|           NULL|                     NULL|    NULL|               NULL|     NULL|                NULL|     NULL|                NULL|     NULL|                NULL|        1|             100.00%|     NULL|                NULL|      NULL|                 NULL|       NULL|                  NULL|\n",
      "| 77309411343|       39|  2023|     55|DWDDLLDLWWWLLWLLL...|       13|       12|        25|        4|        3|         7|         3|         1|          4|         6|         8|         14|        22|        13|         35|           1.7|           1.1|            1.4|               4|               11.76%|                9|                26.47%|                4|                11.76%|                5|                14.71%|                6|                17.65%|                3|                 8.82%|                 3|                  8.82%|               NULL|                    NULL|                 13.33%|                        4|                   8.89%|                        4|                   8.89%|                       11|                  24.44%|                       10|                  22.22%|                        8|                  17.78%|                         2|                    4.44%|                       NULL|                      NULL|                  3|                   2|                   5|              3-0|              0-3|               1-4|               3-0|                 3|                 3|                   4|                   3|               1|               3|                4|                   1|                   4|                    5|                   3|                        100.00%|                   0|                             0%|            3|          2|                 3.57%|           5|                  8.93%|           7|                 12.50%|          10|                 17.86%|          11|                 19.64%|          14|                 25.00%|            6|                  10.71%|           NULL|                     NULL|    NULL|               NULL|     NULL|                NULL|     NULL|                NULL|     NULL|                NULL|        1|             100.00%|     NULL|                NULL|      NULL|                 NULL|       NULL|                  NULL|\n",
      "| 77309411344|       39|  2023|     62|LLLDLLLLLLWDLLLWL...|       13|       12|        25|        2|        1|         3|         2|         2|          4|         9|         9|         18|        12|        10|         22|           0.9|           0.8|            0.9|               1|                4.35%|                2|                 8.70%|                4|                17.39%|                2|                 8.70%|                6|                26.09%|                5|                21.74%|                 3|                 13.04%|               NULL|                    NULL|                 10.94%|                       14|                  21.88%|                        4|                   6.25%|                       12|                  18.75%|                       11|                  17.19%|                       10|                  15.63%|                         6|                    9.38%|                       NULL|                      NULL|                  1|                   1|                   6|              2-1|              1-3|               0-8|               5-0|                 2|                 3|                   8|                   5|               1|               0|                1|                   5|                   5|                   10|                   4|                        100.00%|                   0|                             0%|            4|          2|                 2.63%|           7|                  9.21%|          15|                 19.74%|          12|                 15.79%|          16|                 21.05%|          12|                 15.79%|           12|                  15.79%|           NULL|                     NULL|       1|             25.00%|     NULL|                NULL|     NULL|                NULL|        1|              25.00%|     NULL|                NULL|     NULL|                NULL|         2|               50.00%|       NULL|                  NULL|\n",
      "| 77309411345|       39|  2023|     65|LWLWDLDDDLWLLLLDL...|       13|       12|        25|        4|        2|         6|         3|         3|          6|         6|         7|         13|        19|        13|         32|           1.5|           1.1|            1.3|               7|               21.88%|                1|                 3.13%|                2|                 6.25%|                9|                28.13%|                6|                18.75%|                6|                18.75%|                 1|                  3.13%|               NULL|                    NULL|                 11.36%|                        6|                  13.64%|                        7|                  15.91%|                       10|                  22.73%|                        8|                  18.18%|                        6|                  13.64%|                         2|                    4.55%|                       NULL|                      NULL|                  2|                   3|                   4|              2-0|              1-3|               0-2|               5-0|                 2|                 3|                   3|                   5|               2|               2|                4|                   2|                   4|                    6|                   1|                        100.00%|                   0|                             0%|            1|          2|                 3.45%|           7|                 12.07%|           8|                 13.79%|          17|                 29.31%|           7|                 12.07%|          13|                 22.41%|            4|                   6.90%|           NULL|                     NULL|    NULL|               NULL|        1|              33.33%|     NULL|                NULL|        1|              33.33%|        1|              33.33%|     NULL|                NULL|      NULL|                 NULL|       NULL|                  NULL|\n",
      "| 77309411346|       39|  2023|     66|LWWLWWWDWWLWWDWWW...|       12|       13|        25|        9|        6|        15|         1|         3|          4|         2|         4|          6|        31|        21|         52|           2.6|           1.6|            2.1|               5|                9.62%|               15|                28.85%|                2|                 3.85%|                8|                15.38%|               10|                19.23%|                8|                15.38%|                 4|                  7.69%|               NULL|                    NULL|                 12.12%|                        5|                  15.15%|                        4|                  12.12%|                       10|                  30.30%|                        5|                  15.15%|                        4|                  12.12%|                         1|                    3.03%|                       NULL|                      NULL|                  3|                   1|                   1|              6-1|              0-5|               1-3|               5-1|                 6|                 5|                   3|                   5|               3|               3|                6|                   0|                   3|                    3|                   4|                        100.00%|                   0|                             0%|            4|          4|                 5.88%|           7|                 10.29%|          10|                 14.71%|          12|                 17.65%|          11|                 16.18%|          13|                 19.12%|           11|                  16.18%|           NULL|                     NULL|    NULL|               NULL|     NULL|                NULL|     NULL|                NULL|     NULL|                NULL|     NULL|                NULL|     NULL|                NULL|         1|              100.00%|       NULL|                  NULL|\n",
      "| 77309411347|       39|  2023|   1359|LLLLDWLLDLDLWLLLW...|       13|       12|        25|        3|        2|         5|         2|         3|          5|         8|         7|         15|        19|        16|         35|           1.5|           1.3|            1.4|               4|               12.12%|                5|                15.15%|                3|                 9.09%|                6|                18.18%|                4|                12.12%|                8|                24.24%|                 3|                  9.09%|               NULL|                    NULL|                  7.55%|                        5|                   9.43%|                        7|                  13.21%|                       11|                  20.75%|                       14|                  26.42%|                        9|                  16.98%|                         3|                    5.66%|                       NULL|                      NULL|                  2|                   1|                   4|              4-0|              2-3|               1-3|               4-1|                 4|                 4|                   4|                   4|               2|               0|                2|                   1|                   3|                    4|                   4|                        100.00%|                   0|                             0%|            4|       NULL|                  NULL|           8|                 16.67%|          10|                 20.83%|          10|                 20.83%|           6|                 12.50%|           9|                 18.75%|            5|                  10.42%|           NULL|                     NULL|    NULL|               NULL|     NULL|                NULL|     NULL|                NULL|     NULL|                NULL|     NULL|                NULL|     NULL|                NULL|      NULL|                 NULL|       NULL|                  NULL|\n",
      "+------------+---------+------+-------+--------------------+---------+---------+----------+---------+---------+----------+----------+----------+-----------+----------+----------+-----------+----------+----------+-----------+--------------+--------------+---------------+----------------+---------------------+-----------------+----------------------+-----------------+----------------------+-----------------+----------------------+-----------------+----------------------+-----------------+----------------------+------------------+-----------------------+-------------------+------------------------+-----------------------+-------------------------+------------------------+-------------------------+------------------------+-------------------------+------------------------+-------------------------+------------------------+-------------------------+------------------------+--------------------------+-------------------------+---------------------------+--------------------------+-------------------+--------------------+--------------------+-----------------+-----------------+------------------+------------------+------------------+------------------+--------------------+--------------------+----------------+----------------+-----------------+--------------------+--------------------+---------------------+--------------------+-------------------------------+--------------------+-------------------------------+-------------+-----------+----------------------+------------+-----------------------+------------+-----------------------+------------+-----------------------+------------+-----------------------+------------+-----------------------+-------------+------------------------+---------------+-------------------------+--------+-------------------+---------+--------------------+---------+--------------------+---------+--------------------+---------+--------------------+---------+--------------------+----------+---------------------+-----------+----------------------+\n",
      "\n"
     ]
    }
   ],
   "source": [
    "england_team_stat.show()"
   ]
  },
  {
   "cell_type": "code",
   "execution_count": 82,
   "metadata": {},
   "outputs": [],
   "source": [
    "england_player_stat.createOrReplaceTempView(\"england_player_stat\")"
   ]
  },
  {
   "cell_type": "code",
   "execution_count": 83,
   "metadata": {},
   "outputs": [],
   "source": [
    "england_fixture_statistics.createOrReplaceTempView(\"englad_fixture_statistics\")"
   ]
  },
  {
   "cell_type": "code",
   "execution_count": 84,
   "metadata": {},
   "outputs": [],
   "source": [
    "spain_team_stat.createOrReplaceTempView(\"spain_team_stat\")\n",
    "spain_player_stat.createOrReplaceTempView(\"spain_player_stat\")\n",
    "spain_fixture_statistics.createOrReplaceTempView(\"spain_fixture_statistics\")"
   ]
  },
  {
   "cell_type": "code",
   "execution_count": 85,
   "metadata": {},
   "outputs": [],
   "source": [
    "germany_team_stat.createOrReplaceTempView(\"germany_team_stat\")\n",
    "germany_player_stat.createOrReplaceTempView(\"germany_player_stat\")\n",
    "germany_fixture_statistics.createOrReplaceTempView(\"germany_fixture_statistics\")"
   ]
  },
  {
   "cell_type": "code",
   "execution_count": 86,
   "metadata": {},
   "outputs": [],
   "source": [
    "italy_team_stat.createOrReplaceTempView(\"italy_team_stat\")\n",
    "italy_player_stat.createOrReplaceTempView(\"italy_player_stat\")\n",
    "italy_fixture_statistics.createOrReplaceTempView(\"italy_fixture_statistics\")"
   ]
  },
  {
   "cell_type": "code",
   "execution_count": 87,
   "metadata": {},
   "outputs": [],
   "source": [
    "france_team_stat.createOrReplaceTempView(\"france_team_stat\")\n",
    "france_player_stat.createOrReplaceTempView(\"france_player_stat\")\n",
    "france_fixture_statistics.createOrReplaceTempView(\"france_fixture_statistics\")"
   ]
  },
  {
   "cell_type": "code",
   "execution_count": 88,
   "metadata": {},
   "outputs": [],
   "source": [
    "team_df.createOrReplaceTempView(\"team_df\")"
   ]
  },
  {
   "cell_type": "code",
   "execution_count": 89,
   "metadata": {},
   "outputs": [
    {
     "name": "stdout",
     "output_type": "stream",
     "text": [
      "+-------+-----------+---------+------------+--------------------+------------+\n",
      "|team_id|  team_name|team_code|team_founded|           team_logo|country_name|\n",
      "+-------+-----------+---------+------------+--------------------+------------+\n",
      "|    498|  Sampdoria|      SAM|        1946|https://media.api...|       Italy|\n",
      "|    507|     Ascoli|      ASC|        1898|https://media.api...|       Italy|\n",
      "|    508|       Bari|      BAR|        1908|https://media.api...|       Italy|\n",
      "|    510| Cittadella|      CIT|        1973|https://media.api...|       Italy|\n",
      "|    515|     Spezia|      SPE|        1906|https://media.api...|       Italy|\n",
      "|    516|    Ternana|      TER|        1925|https://media.api...|       Italy|\n",
      "|    517|    Venezia|      VEN|        1907|https://media.api...|       Italy|\n",
      "|    518|    Brescia|      BRE|        1911|https://media.api...|       Italy|\n",
      "|    520|  Cremonese|      CRE|        1903|https://media.api...|       Italy|\n",
      "|    522|    Palermo|      PAL|        1900|https://media.api...|       Italy|\n",
      "|    523|      Parma|      PAR|        1913|https://media.api...|       Italy|\n",
      "|    801|       Pisa|      PIS|        1909|https://media.api...|       Italy|\n",
      "|    880|   Reggiana|      REG|        1919|https://media.api...|       Italy|\n",
      "|    884|Feralpisalo|      FER|        2009|https://media.api...|       Italy|\n",
      "|    895|       Como|      COM|        1907|https://media.api...|       Italy|\n",
      "|    899|     Modena|      MOD|        1912|https://media.api...|       Italy|\n",
      "|   1578|   Sudtirol|      SUD|        1974|https://media.api...|       Italy|\n",
      "|   1687|  Catanzaro|      CAT|        1929|https://media.api...|       Italy|\n",
      "|   6379|      Lecco|      LEC|        1912|https://media.api...|       Italy|\n",
      "|  10137|    Cosenza|      NUO|        1914|https://media.api...|       Italy|\n",
      "+-------+-----------+---------+------------+--------------------+------------+\n",
      "only showing top 20 rows\n",
      "\n"
     ]
    }
   ],
   "source": [
    "team_df.show()"
   ]
  },
  {
   "cell_type": "code",
   "execution_count": 90,
   "metadata": {},
   "outputs": [],
   "source": [
    "player_df.createOrReplaceTempView(\"player_df\")"
   ]
  },
  {
   "cell_type": "code",
   "execution_count": 91,
   "metadata": {},
   "outputs": [
    {
     "name": "stdout",
     "output_type": "stream",
     "text": [
      "+---------+--------------------+---------------+------------+-------------+-------------+--------------------+------------------+-----------------+-------------------+\n",
      "|player_id|    player_firstname|player_lastname|player_birth|player_height|player_weight|        player_photo|player_nationality|     player_place|player_placecountry|\n",
      "+---------+--------------------+---------------+------------+-------------+-------------+--------------------+------------------+-----------------+-------------------+\n",
      "|       18|         Jadon Malik|         Sancho|  2000-03-25|          180|           76|https://media.api...|           England|           London|            England|\n",
      "|       25|               Marco|           Reus|  1989-05-31|          180|           71|https://media.api...|           Germany|         Dortmund|            Germany|\n",
      "|       26|              Marius|           Wolf|  1995-05-27|          188|           81|https://media.api...|           Germany|           Coburg|            Germany|\n",
      "|      264|     Thomas André A.|        Meunier|  1991-09-12|          191|           90|https://media.api...|           Belgium|       Sainte-Ode|            Belgium|\n",
      "|      501|         Mats Julian|        Hummels|  1988-12-16|          191|           94|https://media.api...|           Germany|Bergisch Gladbach|            Germany|\n",
      "|      506|              Niklas|           Süle|  1995-09-03|          195|           99|https://media.api...|           Germany|Frankfurt am Main|            Germany|\n",
      "|      637|          Felix Kalu|         Nmecha|  2000-10-10|          188|           73|https://media.api...|           Germany|          Hamburg|            Germany|\n",
      "|      864|                Emre|            Can|  1994-01-12|          186|           86|https://media.api...|           Germany|Frankfurt am Main|            Germany|\n",
      "|      984|              Julian|         Brandt|  1996-05-02|          185|           83|https://media.api...|           Germany|           Bremen|            Germany|\n",
      "|     1159|              Marcel|       Sabitzer|  1994-03-17|          178|           76|https://media.api...|           Austria|             Graz|            Austria|\n",
      "|     1826|Sébastien Romain ...|         Haller|  1994-06-22|          190|           82|https://media.api...|     Côte d'Ivoire|      Ris-Orangis|             France|\n",
      "|    24845|              Julian|        Ryerson|  1997-11-17|          183|           86|https://media.api...|            Norway|             NULL|             Norway|\n",
      "|    26626|            Antonios|   Papadopoulos|  1999-09-10|          185|           83|https://media.api...|           Germany|        Stuttgart|            Germany|\n",
      "|   138816|           Ian Ethan|        Maatsen|  2002-03-10|          167|           57|https://media.api...|       Netherlands|      Vlaardingen|        Netherlands|\n",
      "|   161921|  Giovanni Alejandro|          Reyna|  2002-11-13|          185|           79|https://media.api...|               USA|           Durham|            England|\n",
      "|   162145|           Abdoulaye|         Kamara|  2004-11-06|          182|           77|https://media.api...|            Guinea|          Conakry|             Guinea|\n",
      "|   162502|      Marcel Laurenz|          Lotka|  2001-05-25|          190|           85|https://media.api...|            Poland|         Duisburg|             Poland|\n",
      "|   199936|                 Ole|       Pohlmann|  2001-04-05|          183|           80|https://media.api...|           Germany|             NULL|            Germany|\n",
      "|   293603|           Guillermo|    Bueno López|  2002-09-18|          178|           72|https://media.api...|             Spain|             Vigo|              Spain|\n",
      "|   334178|         Hendry Aron|          Blank|  2004-08-21|          190|           77|https://media.api...|           Germany|             NULL|            Germany|\n",
      "+---------+--------------------+---------------+------------+-------------+-------------+--------------------+------------------+-----------------+-------------------+\n",
      "only showing top 20 rows\n",
      "\n"
     ]
    }
   ],
   "source": [
    "player_df.show()"
   ]
  },
  {
   "cell_type": "code",
   "execution_count": 92,
   "metadata": {},
   "outputs": [],
   "source": [
    "player_sideline.createOrReplaceTempView(\"player_sideline\")"
   ]
  },
  {
   "cell_type": "code",
   "execution_count": 93,
   "metadata": {},
   "outputs": [
    {
     "name": "stdout",
     "output_type": "stream",
     "text": [
      "+---------+----------------+--------------+------------+\n",
      "|player_id|   sideline_type|sideline_start|sideline_end|\n",
      "+---------+----------------+--------------+------------+\n",
      "|       18|    Groin Injury|    2024-01-31|  2024-02-08|\n",
      "|       18|       Suspended|    2023-09-14|  2024-01-11|\n",
      "|       18|         Illness|    2023-02-27|  2023-03-04|\n",
      "|       18|         Illness|    2022-10-31|  2022-11-14|\n",
      "|       18|         Illness|    2022-07-24|  2022-08-06|\n",
      "|       18|         Illness|    2022-04-27|  2022-06-30|\n",
      "|       18|Hip/Thigh Injury|    2022-02-06|  2022-02-08|\n",
      "|       18|    Thigh Injury|    2022-01-04|  2022-01-14|\n",
      "|       18|    Thigh Injury|    2021-09-04|  2021-09-10|\n",
      "|       18|           Knock|    2021-08-13|  2021-08-13|\n",
      "|       18|    Thigh Injury|    2021-03-03|  2021-04-20|\n",
      "|       18|       Pneumonia|    2020-09-30|  2020-10-10|\n",
      "|       18|           Knock|    2019-12-18|  2019-12-19|\n",
      "|       18|           Knock|    2019-11-06|  2019-11-08|\n",
      "|       18|           Knock|    2019-05-09|  2019-05-10|\n",
      "|       18|           Knock|    2019-04-11|  2019-04-12|\n",
      "|       25|         Illness|    2024-01-26|  2024-02-05|\n",
      "|       25|         Illness|    2024-01-17|  2024-01-19|\n",
      "|       25|    Broken Ankle|    2022-11-06|  2023-01-09|\n",
      "|       25|    Broken Ankle|    2022-10-17|  2022-11-04|\n",
      "+---------+----------------+--------------+------------+\n",
      "only showing top 20 rows\n",
      "\n"
     ]
    }
   ],
   "source": [
    "player_sideline.show()"
   ]
  },
  {
   "cell_type": "code",
   "execution_count": 94,
   "metadata": {},
   "outputs": [],
   "source": [
    "manu_stat=spark.sql(\"select tf.team_name,es.* from england_team_stat es join team_df tf on es.team_id = tf.team_id where team_name like 'Manchester United'\")"
   ]
  },
  {
   "cell_type": "code",
   "execution_count": 95,
   "metadata": {},
   "outputs": [
    {
     "name": "stdout",
     "output_type": "stream",
     "text": [
      "+-----------------+------------+---------+------+-------+--------------------+---------+---------+----------+---------+---------+----------+----------+----------+-----------+----------+----------+-----------+----------+----------+-----------+--------------+--------------+---------------+----------------+---------------------+-----------------+----------------------+-----------------+----------------------+-----------------+----------------------+-----------------+----------------------+-----------------+----------------------+------------------+-----------------------+-------------------+------------------------+-----------------------+-------------------------+------------------------+-------------------------+------------------------+-------------------------+------------------------+-------------------------+------------------------+-------------------------+------------------------+--------------------------+-------------------------+---------------------------+--------------------------+-------------------+--------------------+--------------------+-----------------+-----------------+------------------+------------------+------------------+------------------+--------------------+--------------------+----------------+----------------+-----------------+--------------------+--------------------+---------------------+--------------------+-------------------------------+--------------------+-------------------------------+-------------+-----------+----------------------+------------+-----------------------+------------+-----------------------+------------+-----------------------+------------+-----------------------+------------+-----------------------+-------------+------------------------+---------------+-------------------------+--------+-------------------+---------+--------------------+---------+--------------------+---------+--------------------+---------+--------------------+---------+--------------------+----------+---------------------+-----------+----------------------+\n",
      "|        team_name|index_league|league_id|season|team_id|           team_form|home_game|away_game|total_game|home_wins|away_wins|total_wins|home_draws|away_draws|total_draws|home_loses|away_loses|total_loses|home_goals|away_goals|total_goals|home_avg_goals|away_avg_goals|total_avg_goals|0-15_total_goals|0-15_goals_percentage|16-30_total_goals|16-30_goals_percentage|31-45_total_goals|31-45_goals_percentage|46-60_total_goals|46-60_goals_percentage|61-75_total_goals|61-75_goals_percentage|76-90_total_goals|76-90_goals_percentage|91-105_total_goals|91-105_goals_percentage|106-120_total_goals|106-120_goals_percentage|0-15_against_percentage|16-30_total_against_goals|16-30_against_percentage|31-45_total_against_goals|31-45_against_percentage|46-60_total_against_goals|46-60_against_percentage|61-75_total_against_goals|61-75_against_percentage|76-90_total_against_goals|76-90_against_percentage|91-105_total_against_goals|91-105_against_percentage|106-120_total_against_goals|106-120_against_percentage|biggest_streak_wins|biggest_streak_draws|biggest_streak_loses|biggest_home_wins|biggest_away_wins|biggest_home_loses|biggest_away_loses|biggest_home_goals|biggest_away_goals|biggest_home_against|biggest_away_against|home_clean_sheet|away_clean_sheet|total_clean_sheet|home_failed_to_score|away_failed_to_score|total_failed_to_score|total_penalty_scored|total_penalty_scored_percentage|total_penalty_missed|total_penalty_missed_percentage|total_penalty|0-15_yellow|0-15_yellow_percentage|16-30_yellow|16-30_yellow_percentage|31-45_yellow|31-45_yellow_percentage|46-60_yellow|46-60_yellow_percentage|61-75_yellow|61-75_yellow_percentage|76-90_yellow|76-90_yellow_percentage|91-105_yellow|91-105_yellow_percentage|106-120_yellows|106-120_yellow_percentage|0-15_red|0-15_red_percentage|16-30_red|16-30_red_percentage|31-45_red|31-45_red_percentage|46-60_red|46-60_red_percentage|61-75_red|61-75_red_percentage|76-90_red|76-90_red_percentage|91-105_red|91-105_red_percentage|106-120_red|106-120_red_percentage|\n",
      "+-----------------+------------+---------+------+-------+--------------------+---------+---------+----------+---------+---------+----------+----------+----------+-----------+----------+----------+-----------+----------+----------+-----------+--------------+--------------+---------------+----------------+---------------------+-----------------+----------------------+-----------------+----------------------+-----------------+----------------------+-----------------+----------------------+-----------------+----------------------+------------------+-----------------------+-------------------+------------------------+-----------------------+-------------------------+------------------------+-------------------------+------------------------+-------------------------+------------------------+-------------------------+------------------------+-------------------------+------------------------+--------------------------+-------------------------+---------------------------+--------------------------+-------------------+--------------------+--------------------+-----------------+-----------------+------------------+------------------+------------------+------------------+--------------------+--------------------+----------------+----------------+-----------------+--------------------+--------------------+---------------------+--------------------+-------------------------------+--------------------+-------------------------------+-------------+-----------+----------------------+------------+-----------------------+------------+-----------------------+------------+-----------------------+------------+-----------------------+------------+-----------------------+-------------+------------------------+---------------+-------------------------+--------+-------------------+---------+--------------------+---------+--------------------+---------+--------------------+---------+--------------------+---------+--------------------+----------+---------------------+-----------+----------------------+\n",
      "|Manchester United| 77309411328|       39|  2023|     33|WLWLLWLWWLWWWLWLD...|       12|       13|        25|        7|        7|        14|         1|         1|          2|         4|         5|          9|        18|        17|         35|           1.5|           1.3|            1.4|               5|               13.89%|                7|                19.44%|                2|                 5.56%|                5|                13.89%|                5|                13.89%|                8|                22.22%|                 4|                 11.11%|               NULL|                    NULL|                 12.12%|                        8|                  24.24%|                        2|                   6.06%|                        5|                  15.15%|                        7|                  21.21%|                        4|                  12.12%|                         3|                    9.09%|                       NULL|                      NULL|                  3|                   1|                   2|              3-0|              0-3|               0-3|               3-1|                 3|                 4|                   3|                   3|               3|               4|                7|                   3|                   4|                    7|                   2|                        100.00%|                   0|                             0%|            2|          4|                 6.35%|           7|                 11.11%|          10|                 15.87%|          11|                 17.46%|           5|                  7.94%|          13|                 20.63%|           12|                  19.05%|           NULL|                     NULL|    NULL|               NULL|     NULL|                NULL|     NULL|                NULL|     NULL|                NULL|     NULL|                NULL|     NULL|                NULL|         1|              100.00%|       NULL|                  NULL|\n",
      "+-----------------+------------+---------+------+-------+--------------------+---------+---------+----------+---------+---------+----------+----------+----------+-----------+----------+----------+-----------+----------+----------+-----------+--------------+--------------+---------------+----------------+---------------------+-----------------+----------------------+-----------------+----------------------+-----------------+----------------------+-----------------+----------------------+-----------------+----------------------+------------------+-----------------------+-------------------+------------------------+-----------------------+-------------------------+------------------------+-------------------------+------------------------+-------------------------+------------------------+-------------------------+------------------------+-------------------------+------------------------+--------------------------+-------------------------+---------------------------+--------------------------+-------------------+--------------------+--------------------+-----------------+-----------------+------------------+------------------+------------------+------------------+--------------------+--------------------+----------------+----------------+-----------------+--------------------+--------------------+---------------------+--------------------+-------------------------------+--------------------+-------------------------------+-------------+-----------+----------------------+------------+-----------------------+------------+-----------------------+------------+-----------------------+------------+-----------------------+------------+-----------------------+-------------+------------------------+---------------+-------------------------+--------+-------------------+---------+--------------------+---------+--------------------+---------+--------------------+---------+--------------------+---------+--------------------+----------+---------------------+-----------+----------------------+\n",
      "\n"
     ]
    }
   ],
   "source": [
    "manu_stat.show()"
   ]
  },
  {
   "cell_type": "code",
   "execution_count": 96,
   "metadata": {},
   "outputs": [],
   "source": [
    "total_against = spark.sql(\"\"\"SELECT (\n",
    "    `16-30_total_against_goals` +\n",
    "    `31-45_total_against_goals` +\n",
    "    `46-60_total_against_goals` +\n",
    "    `61-75_total_against_goals` +\n",
    "    `76-90_total_against_goals` +\n",
    "    `91-105_total_against_goals`\n",
    ") as total_against\n",
    "FROM england_team_stat\n",
    "WHERE team_id = 33;\n",
    "\"\"\")"
   ]
  },
  {
   "cell_type": "code",
   "execution_count": 97,
   "metadata": {},
   "outputs": [
    {
     "name": "stdout",
     "output_type": "stream",
     "text": [
      "+-------------+\n",
      "|total_against|\n",
      "+-------------+\n",
      "|           29|\n",
      "+-------------+\n",
      "\n"
     ]
    }
   ],
   "source": [
    "total_against.show()"
   ]
  },
  {
   "cell_type": "code",
   "execution_count": 98,
   "metadata": {},
   "outputs": [],
   "source": [
    "total_yellow = spark.sql(\"SELECT (`0-15_yellow`+`16-30_yellow`+`31-45_yellow`+`46-60_yellow`+`61-75_yellow`+`76-90_yellow`+`91-105_yellow`) AS total_yellow,(`0-15_yellow`+`16-30_yellow`+`31-45_yellow`+`46-60_yellow`+`61-75_yellow`+`76-90_yellow`+`91-105_yellow`)/total_game as average_yellow  FROM england_team_stat where team_id = 33\" )"
   ]
  },
  {
   "cell_type": "code",
   "execution_count": 99,
   "metadata": {},
   "outputs": [
    {
     "name": "stdout",
     "output_type": "stream",
     "text": [
      "+------------+--------------+\n",
      "|total_yellow|average_yellow|\n",
      "+------------+--------------+\n",
      "|          62|          2.48|\n",
      "+------------+--------------+\n",
      "\n"
     ]
    }
   ],
   "source": [
    "total_yellow.show()"
   ]
  },
  {
   "cell_type": "markdown",
   "metadata": {},
   "source": [
    "- 25게임 기준 전체 14승 홈 원정 7게임 승리했지만 2경기 무승부 9경기 패배 홈에서는 4번 원정에서는 5번을 패배를 했다.\n",
    "- 무승부가 적다는것은  이길게임을 이기거나 비길게임을 이기거나 지거나 패배할 게임은 그대로 패배를 했다는 이야기다.\n",
    "- 홈 득점은 18득점 원정 골은 17득점 총 득점은 35득점 홈 평균 득점은 경기당 1.5 원정 평균득점 1.3 총 평균득점 1.4득점\n",
    "- 16-30분대에 7골로 19.44% 76-90분대 8골 22.22% 득점을 많이 많이했다\n",
    "- 25경기 기준 34실점을 하고 전반 0-15분대에 5골을 실점을 했다\n",
    "- 16-30분대에도 8골로 24.24%로 실점을 하고 61-75분대에 7골로 21.21% 실점이 많았다\n",
    "- 추가시간대인 91-105분대에 4득점 총득점의 11.11% 3실점 총 실점의 9.09%를 차지한다\n",
    "- 클린시트 홈에서 3경기 원정에서 4경기 총 7경기를 했다\n",
    "- 무득점 홈에서 3경기 원정에서 4경기 총 7경기를 했다\n",
    "- 62장의 yellow card를 받고 경기 막판 76분-90분대와 91분대에서 105분대에 yellow card의 큰 비중을 갖고있다\n",
    "- 경기당 평균 2.48의 옐로우카드를 받았다\n",
    "- 퇴장 추가시간대인 91-105경기에 한개 받았다\n",
    "\n",
    "# 문제\n",
    "- 실점도 아주 적은편은 아니지만 제일 심각한 문제는 득점이 너무 낮다\n",
    "- 득점력을 높여야 질 수도 있는 게임을 비기게 해줌으로써 상위권 팀들과 경쟁을 할수 있다\n",
    "- 득점이 많은 76-90분보다 이른 61-75분대까지의 실점을 줄여야한다 \n",
    "- 옐로우 카드를 많이 받는 시간이 경기 막판인데 경기 막판에 급해지는 경향때문에 카드를 많이 받는다"
   ]
  },
  {
   "cell_type": "code",
   "execution_count": 100,
   "metadata": {},
   "outputs": [],
   "source": [
    "manu_player_goalkeeper_stat = spark.sql(\"\"\"select distinct tf.team_name,pf.player_firstname,pf.player_lastname,pf.player_birth,pf.player_nationality,TIMESTAMPDIFF(YEAR, pf.player_birth, CURDATE()) AS player_age,ps.* from england_player_stat ps join team_df tf on ps.team_id = tf.team_id join player_df pf on ps.player_id = pf.player_id where team_name like 'Manchester United' and game_position like 'Goalkeeper' \"\"\")"
   ]
  },
  {
   "cell_type": "code",
   "execution_count": 101,
   "metadata": {},
   "outputs": [
    {
     "name": "stdout",
     "output_type": "stream",
     "text": [
      "+-----------------+----------------+---------------+------------+------------------+----------+---------+-------+---------+-------------+----------------+------------+------------+-----------+-------------+-----------+------------+------+-------+---------+-----------+--------+-----------+--------------+-------------+-----------+------------+----------+---------------+-------------+--------------+---------------------+-----------+---------+-----------------+----------------+-------------+-----------+---------------+------------+---------------+---------+-----------+----------------+--------------+--------------+-------------+\n",
      "|        team_name|player_firstname|player_lastname|player_birth|player_nationality|player_age|player_id|team_id|league_id|league_season|game_appearances|game_lineups|game_minutes|game_number|game_position|game_rating|game_captain|sub_in|sub_out|sub_bench|total_shots|shots_on|total_goals|goals_conceded|goals_assists|goals_saves|passes_total|passes_key|passes_accuracy|tackles_total|tackles_blocks|tackles_interceptions|duels_total|duels_won|dribbles_attempts|dribbles_success|dribbles_past|fouls_drawn|fouls_committed|cards_yellow|cards_yellowred|cards_red|penalty_won|penalty_commited|penalty_scored|penalty_missed|penalty_saved|\n",
      "+-----------------+----------------+---------------+------------+------------------+----------+---------+-------+---------+-------------+----------------+------------+------------+-----------+-------------+-----------+------------+------+-------+---------+-----------+--------+-----------+--------------+-------------+-----------+------------+----------+---------------+-------------+--------------+---------------------+-----------+---------+-----------------+----------------+-------------+-----------+---------------+------------+---------------+---------+-----------+----------------+--------------+--------------+-------------+\n",
      "|Manchester United|  Dermot William|            Mee|  2002-11-20|  Northern Ireland|        21|   284382|     33|       39|         2023|            NULL|        NULL|        NULL|       NULL|   Goalkeeper|       NULL|       false|  NULL|   NULL|     NULL|       NULL|    NULL|       NULL|          NULL|         NULL|       NULL|        NULL|      NULL|           NULL|         NULL|          NULL|                 NULL|       NULL|     NULL|             NULL|            NULL|         NULL|       NULL|           NULL|        NULL|           NULL|     NULL|       NULL|            NULL|          NULL|          NULL|         NULL|\n",
      "|Manchester United|    Dean Bradley|      Henderson|  1997-03-12|           England|        27|    19088|     33|       39|         2023|               0|           0|           0|       NULL|   Goalkeeper|   6.687500|       false|     0|      0|        3|       NULL|    NULL|          0|            20|         NULL|         26|         214|      NULL|             15|         NULL|          NULL|                 NULL|          1|        1|             NULL|            NULL|         NULL|       NULL|           NULL|           0|              0|        0|       NULL|            NULL|             0|             0|            0|\n",
      "|Manchester United|           Matěj|          Kovář|  2000-05-17|           Czechia|        23|   138804|     33|       39|         2023|               0|           0|           0|       NULL|   Goalkeeper|       NULL|       false|     0|      0|        0|       NULL|    NULL|          0|          NULL|         NULL|       NULL|        NULL|      NULL|           NULL|         NULL|          NULL|                 NULL|       NULL|     NULL|             NULL|            NULL|         NULL|       NULL|           NULL|           0|              0|        0|       NULL|            NULL|          NULL|          NULL|         NULL|\n",
      "|Manchester United|           David|de Gea Quintana|  1990-11-07|             Spain|        33|      882|     33|       39|         2023|            NULL|        NULL|        NULL|       NULL|   Goalkeeper|       NULL|       false|  NULL|   NULL|     NULL|       NULL|    NULL|       NULL|          NULL|         NULL|       NULL|        NULL|      NULL|           NULL|         NULL|          NULL|                 NULL|       NULL|     NULL|             NULL|            NULL|         NULL|       NULL|           NULL|        NULL|           NULL|     NULL|       NULL|            NULL|          NULL|          NULL|         NULL|\n",
      "|Manchester United|    Nathan James|         Bishop|  1999-10-15|           England|        24|    20319|     33|       39|         2023|               0|           0|           0|       NULL|   Goalkeeper|       NULL|       false|     0|      0|        0|       NULL|    NULL|          0|          NULL|         NULL|       NULL|        NULL|      NULL|           NULL|         NULL|          NULL|                 NULL|       NULL|     NULL|             NULL|            NULL|         NULL|       NULL|           NULL|           0|              0|        0|       NULL|            NULL|          NULL|          NULL|         NULL|\n",
      "|Manchester United|           Altay|       Bayındır|  1998-04-14|           Türkiye|        25|    50132|     33|       39|         2023|               0|           0|           0|       NULL|   Goalkeeper|       NULL|       false|     0|      0|       22|       NULL|    NULL|          0|             0|         NULL|       NULL|        NULL|      NULL|           NULL|         NULL|          NULL|                 NULL|       NULL|     NULL|             NULL|            NULL|         NULL|       NULL|           NULL|           0|              0|        0|       NULL|            NULL|             0|             0|            0|\n",
      "|Manchester United|    Thomas David|         Heaton|  1986-04-15|           England|        37|     2931|     33|       39|         2023|               0|           0|           0|       NULL|   Goalkeeper|       NULL|       false|     0|      0|        1|       NULL|    NULL|          0|             0|         NULL|       NULL|        NULL|      NULL|           NULL|         NULL|          NULL|                 NULL|       NULL|     NULL|             NULL|            NULL|         NULL|       NULL|           NULL|           0|              0|        0|       NULL|            NULL|             0|             0|            0|\n",
      "|Manchester United|     Elyh Samuel|       Harrison|  2006-02-19|           England|        18|   378981|     33|       39|         2023|            NULL|        NULL|        NULL|       NULL|   Goalkeeper|       NULL|       false|  NULL|   NULL|     NULL|       NULL|    NULL|       NULL|          NULL|         NULL|       NULL|        NULL|      NULL|           NULL|         NULL|          NULL|                 NULL|       NULL|     NULL|             NULL|            NULL|         NULL|       NULL|           NULL|        NULL|           NULL|     NULL|       NULL|            NULL|          NULL|          NULL|         NULL|\n",
      "|Manchester United|           Radek|          Vítek|  2003-10-24|           Czechia|        20|   284361|     33|       39|         2023|               0|           0|           0|       NULL|   Goalkeeper|       NULL|       false|     0|      0|        1|       NULL|    NULL|          0|             0|         NULL|       NULL|        NULL|      NULL|           NULL|         NULL|          NULL|                 NULL|       NULL|     NULL|             NULL|            NULL|         NULL|       NULL|           NULL|           0|              0|        0|       NULL|            NULL|             0|             0|            0|\n",
      "|Manchester United|            Jack|        Butland|  1993-03-10|           England|        31|     2930|     33|      667|         2023|               0|           0|           0|       NULL|   Goalkeeper|       NULL|       false|     0|      0|        0|       NULL|    NULL|          0|          NULL|         NULL|       NULL|        NULL|      NULL|           NULL|         NULL|          NULL|                 NULL|       NULL|     NULL|             NULL|            NULL|         NULL|       NULL|           NULL|           0|              0|        0|       NULL|            NULL|          NULL|          NULL|         NULL|\n",
      "|Manchester United|           André|    Onana Onana|  1996-04-02|          Cameroon|        27|      526|     33|       39|         2023|              25|          25|        2250|       NULL|   Goalkeeper|   7.184000|       false|     0|      0|        0|       NULL|    NULL|          0|            34|         NULL|         90|         892|         2|             25|            1|          NULL|                 NULL|         15|       13|             NULL|            NULL|         NULL|          3|           NULL|           4|              0|        0|       NULL|            NULL|             0|             0|            0|\n",
      "+-----------------+----------------+---------------+------------+------------------+----------+---------+-------+---------+-------------+----------------+------------+------------+-----------+-------------+-----------+------------+------+-------+---------+-----------+--------+-----------+--------------+-------------+-----------+------------+----------+---------------+-------------+--------------+---------------------+-----------+---------+-----------------+----------------+-------------+-----------+---------------+------------+---------------+---------+-----------+----------------+--------------+--------------+-------------+\n",
      "\n"
     ]
    }
   ],
   "source": [
    "manu_player_goalkeeper_stat.show()"
   ]
  },
  {
   "cell_type": "code",
   "execution_count": 102,
   "metadata": {},
   "outputs": [],
   "source": [
    "manu_player_goalkeeper_avg_saves_passes = spark.sql(\"select distinct player_id,goals_saves/game_appearances as avg_saves, passes_total/game_appearances as avg_passes,duels_won/duels_total duel_succeed_percentage from england_player_stat where team_id = 33 and game_position like 'Goalkeeper'\")"
   ]
  },
  {
   "cell_type": "code",
   "execution_count": 103,
   "metadata": {},
   "outputs": [
    {
     "name": "stdout",
     "output_type": "stream",
     "text": [
      "+---------+---------+----------+-----------------------+\n",
      "|player_id|avg_saves|avg_passes|duel_succeed_percentage|\n",
      "+---------+---------+----------+-----------------------+\n",
      "|      526|      3.6|     35.68|     0.8666666666666667|\n",
      "|    19088|     NULL|      NULL|                    1.0|\n",
      "|   284382|     NULL|      NULL|                   NULL|\n",
      "|   138804|     NULL|      NULL|                   NULL|\n",
      "|      882|     NULL|      NULL|                   NULL|\n",
      "|    20319|     NULL|      NULL|                   NULL|\n",
      "|    50132|     NULL|      NULL|                   NULL|\n",
      "|     2931|     NULL|      NULL|                   NULL|\n",
      "|   378981|     NULL|      NULL|                   NULL|\n",
      "|   284361|     NULL|      NULL|                   NULL|\n",
      "|     2930|     NULL|      NULL|                   NULL|\n",
      "+---------+---------+----------+-----------------------+\n",
      "\n"
     ]
    }
   ],
   "source": [
    "manu_player_goalkeeper_avg_saves_passes.show()"
   ]
  },
  {
   "cell_type": "markdown",
   "metadata": {},
   "source": [
    "## 골키퍼 부분\n",
    "- 골키퍼 포지션에서는 오나나만 출전했다\n",
    "- 게임 평점은 7.18로 높은 편이다\n",
    "- 25경기 기준 총 골 세이브는 90 으로 경기당 3.6 세이브를 한다\n",
    "- 25경기 기준 총 892개의 패스를 하고 경기당 35.68의 패스를 한다\n",
    "- 패스 정확도 25%를 기록하고 있다\n",
    "- 경합 승률 약 87%에 육박한다\n",
    "\n",
    "## 결론\n",
    "- 맨체스터 유나이티드의 골키퍼는 오나나 골키퍼만 사용하는데 평점도 높고 세이브도 많이 하는 편이다\n",
    "- 실점이 적은것은 아니지만 골키퍼만 수비를 하는게 아니기 때문에 세이브도 많고 경합 승률도 높다\n",
    "- 단점으로는 패스의 정확도가 너무 낮다 \n",
    "- 오나나는 맨체스터 유나이티드에서 무난한 활약을 하고있다\n",
    "- yellow카드 4개를 받고 있어서 1장을 더받아 결장을 할시 후보 골키퍼의 경기를 알수 없기때문에 예측할수없는 일이 발생할경우 골키퍼가 흔들릴수 있다\n",
    "- 주전 골키퍼를 새로 영입할 필요는 없다"
   ]
  },
  {
   "cell_type": "code",
   "execution_count": 104,
   "metadata": {},
   "outputs": [],
   "source": [
    "manu_player_defender_stat = spark.sql(\"\"\"SELECT DISTINCT tf.team_name, pf.player_firstname, pf.player_lastname,pf.player_birth,pf.player_nationality,TIMESTAMPDIFF(YEAR, pf.player_birth, CURDATE()) AS player_age, ps.*, AVG(ps.game_rating) OVER () as avg_game_rating,duels_won/duels_total,dribbles_success/dribbles_attempts,game_lineups/game_appearances,passes_total/(game_minutes/90),passes_key/(game_minutes/90),tackles_blocks/(game_minutes/90),tackles_interceptions/(game_minutes/90),duels_total/(game_minutes/90),dribbles_attempts/(game_minutes/90),game_minutes/90 total_games,total_shots/(game_minutes/90),shots_on/(game_minutes/90),goals_assists/(game_minutes/90),passes_key/passes_total,shots_on/total_shots,goals_assists/passes_key,fouls_drawn/(game_minutes/90),fouls_committed/(game_minutes/90),cards_yellow/(game_minutes/90),cards_yellow/fouls_committed,cards_yellowred/(game_minutes/90),cards_red/fouls_committed,total_goals/shots_on, total_goals-penalty_scored as field_score, total_goals+goals_assists as total_attack_points\n",
    "FROM england_player_stat ps\n",
    "JOIN team_df tf ON ps.team_id = tf.team_id\n",
    "JOIN player_df pf ON ps.player_id = pf.player_id\n",
    "WHERE tf.team_name LIKE 'Manchester United' AND ps.game_position LIKE 'Defender' AND ps.game_appearances > 1;\n",
    "\n",
    "\"\"\")"
   ]
  },
  {
   "cell_type": "code",
   "execution_count": 105,
   "metadata": {},
   "outputs": [
    {
     "name": "stderr",
     "output_type": "stream",
     "text": [
      "24/03/12 16:04:06 WARN WindowExec: No Partition Defined for Window operation! Moving all data to a single partition, this can cause serious performance degradation.\n",
      "24/03/12 16:04:06 WARN WindowExec: No Partition Defined for Window operation! Moving all data to a single partition, this can cause serious performance degradation.\n",
      "24/03/12 16:04:06 WARN WindowExec: No Partition Defined for Window operation! Moving all data to a single partition, this can cause serious performance degradation.\n",
      "24/03/12 16:04:07 WARN WindowExec: No Partition Defined for Window operation! Moving all data to a single partition, this can cause serious performance degradation.\n",
      "24/03/12 16:04:07 WARN WindowExec: No Partition Defined for Window operation! Moving all data to a single partition, this can cause serious performance degradation.\n",
      "24/03/12 16:04:07 WARN WindowExec: No Partition Defined for Window operation! Moving all data to a single partition, this can cause serious performance degradation.\n",
      "24/03/12 16:04:07 WARN WindowExec: No Partition Defined for Window operation! Moving all data to a single partition, this can cause serious performance degradation.\n",
      "24/03/12 16:04:07 WARN WindowExec: No Partition Defined for Window operation! Moving all data to a single partition, this can cause serious performance degradation.\n",
      "24/03/12 16:04:07 WARN WindowExec: No Partition Defined for Window operation! Moving all data to a single partition, this can cause serious performance degradation.\n",
      "24/03/12 16:04:07 WARN WindowExec: No Partition Defined for Window operation! Moving all data to a single partition, this can cause serious performance degradation.\n",
      "24/03/12 16:04:07 WARN WindowExec: No Partition Defined for Window operation! Moving all data to a single partition, this can cause serious performance degradation.\n",
      "24/03/12 16:04:07 WARN WindowExec: No Partition Defined for Window operation! Moving all data to a single partition, this can cause serious performance degradation.\n"
     ]
    },
    {
     "name": "stdout",
     "output_type": "stream",
     "text": [
      "+-----------------+----------------+------------------+------------+------------------+----------+---------+-------+---------+-------------+----------------+------------+------------+-----------+-------------+-----------+------------+------+-------+---------+-----------+--------+-----------+--------------+-------------+-----------+------------+----------+---------------+-------------+--------------+---------------------+-----------+---------+-----------------+----------------+-------------+-----------+---------------+------------+---------------+---------+-----------+----------------+--------------+--------------+-------------+-----------------+-------------------------+--------------------------------------+---------------------------------+------------------------------------+----------------------------------+--------------------------------------+---------------------------------------------+-----------------------------------+-----------------------------------------+------------------+-----------------------------------+--------------------------------+-------------------------------------+---------------------------+------------------------+----------------------------+-----------------------------------+---------------------------------------+------------------------------------+--------------------------------+---------------------------------------+-----------------------------+------------------------+-----------+-------------------+\n",
      "|team_name        |player_firstname|player_lastname   |player_birth|player_nationality|player_age|player_id|team_id|league_id|league_season|game_appearances|game_lineups|game_minutes|game_number|game_position|game_rating|game_captain|sub_in|sub_out|sub_bench|total_shots|shots_on|total_goals|goals_conceded|goals_assists|goals_saves|passes_total|passes_key|passes_accuracy|tackles_total|tackles_blocks|tackles_interceptions|duels_total|duels_won|dribbles_attempts|dribbles_success|dribbles_past|fouls_drawn|fouls_committed|cards_yellow|cards_yellowred|cards_red|penalty_won|penalty_commited|penalty_scored|penalty_missed|penalty_saved|avg_game_rating  |(duels_won / duels_total)|(dribbles_success / dribbles_attempts)|(game_lineups / game_appearances)|(passes_total / (game_minutes / 90))|(passes_key / (game_minutes / 90))|(tackles_blocks / (game_minutes / 90))|(tackles_interceptions / (game_minutes / 90))|(duels_total / (game_minutes / 90))|(dribbles_attempts / (game_minutes / 90))|total_games       |(total_shots / (game_minutes / 90))|(shots_on / (game_minutes / 90))|(goals_assists / (game_minutes / 90))|(passes_key / passes_total)|(shots_on / total_shots)|(goals_assists / passes_key)|(fouls_drawn / (game_minutes / 90))|(fouls_committed / (game_minutes / 90))|(cards_yellow / (game_minutes / 90))|(cards_yellow / fouls_committed)|(cards_yellowred / (game_minutes / 90))|(cards_red / fouls_committed)|(total_goals / shots_on)|field_score|total_attack_points|\n",
      "+-----------------+----------------+------------------+------------+------------------+----------+---------+-------+---------+-------------+----------------+------------+------------+-----------+-------------+-----------+------------+------+-------+---------+-----------+--------+-----------+--------------+-------------+-----------+------------+----------+---------------+-------------+--------------+---------------------+-----------+---------+-----------------+----------------+-------------+-----------+---------------+------------+---------------+---------+-----------+----------------+--------------+--------------+-------------+-----------------+-------------------------+--------------------------------------+---------------------------------+------------------------------------+----------------------------------+--------------------------------------+---------------------------------------------+-----------------------------------+-----------------------------------------+------------------+-----------------------------------+--------------------------------+-------------------------------------+---------------------------+------------------------+----------------------------+-----------------------------------+---------------------------------------+------------------------------------+--------------------------------+---------------------------------------+-----------------------------+------------------------+-----------+-------------------+\n",
      "|Manchester United|Victor Jörgen   |Nilsson Lindelöf  |1994-07-17  |Sweden            |29        |889      |33     |39       |2023         |15              |10          |992         |NULL       |Defender     |6.853333   |false       |5     |5      |7        |3          |1       |1          |0             |1            |NULL       |719         |6         |42             |12           |8             |9                    |60         |25       |1                |1               |NULL         |2          |9              |2           |0              |0        |NULL       |NULL            |0             |0             |NULL         |6.916133642857143|0.4166666666666667       |1.0                                   |0.6666666666666666               |65.23185483870968                   |0.5443548387096774                |0.7258064516129032                    |0.8165322580645161                           |5.443548387096774                  |0.0907258064516129                       |11.022222222222222|0.2721774193548387                 |0.0907258064516129              |0.0907258064516129                   |0.008344923504867872       |0.3333333333333333      |0.16666666666666666         |0.1814516129032258                 |0.8165322580645161                     |0.1814516129032258                  |0.2222222222222222              |0.0                                    |0.0                          |1.0                     |1          |2                  |\n",
      "|Manchester United|Luke Paul Hoare |Shaw              |1995-07-12  |England           |28        |891      |33     |39       |2023         |12              |12          |963         |NULL       |Defender     |6.941666   |false       |0     |5      |0        |2          |NULL    |0          |0             |NULL         |NULL       |551         |13        |39             |11           |11            |6                    |73         |34       |11               |7               |NULL         |3          |14             |6           |0              |0        |NULL       |NULL            |0             |0             |NULL         |6.916133642857143|0.4657534246575342       |0.6363636363636364                    |1.0                              |51.49532710280374                   |1.2149532710280375                |1.0280373831775702                    |0.5607476635514019                           |6.822429906542056                  |1.0280373831775702                       |10.7              |0.1869158878504673                 |NULL                            |NULL                                 |0.023593466424682397       |NULL                    |NULL                        |0.28037383177570097                |1.3084112149532712                     |0.5607476635514019                  |0.42857142857142855             |0.0                                    |0.0                          |NULL                    |0          |NULL               |\n",
      "|Manchester United|Jacob Harry     |Maguire           |1993-03-05  |England           |31        |2935     |33     |39       |2023         |15              |12          |1066        |NULL       |Defender     |7.093333   |false       |3     |1      |6        |6          |1       |0          |0             |2            |NULL       |677         |4         |37             |15           |17            |16                   |106        |65       |1                |NULL            |NULL         |6          |18             |2           |0              |0        |NULL       |NULL            |0             |0             |NULL         |6.916133642857143|0.6132075471698113       |NULL                                  |0.8                              |57.15759849906191                   |0.33771106941838647               |1.4352720450281424                    |1.3508442776735459                           |8.94934333958724                   |0.08442776735459662                      |11.844444444444445|0.5065666041275797                 |0.08442776735459662             |0.16885553470919323                  |0.005908419497784343       |0.16666666666666666     |0.5                         |0.5065666041275797                 |1.5196998123827392                     |0.16885553470919323                 |0.1111111111111111              |0.0                                    |0.0                          |0.0                     |0          |2                  |\n",
      "|Manchester United|Raphaël Xavier  |Varane            |1993-04-25  |France            |30        |742      |33     |39       |2023         |16              |11          |990         |NULL       |Defender     |6.966666   |false       |5     |2      |9        |6          |2       |1          |0             |NULL         |NULL       |561         |1         |33             |15           |10            |11                   |51         |37       |2                |1               |NULL         |2          |5              |1           |0              |0        |NULL       |NULL            |0             |0             |NULL         |6.916133642857143|0.7254901960784313       |0.5                                   |0.6875                           |51.0                                |0.09090909090909091               |0.9090909090909091                    |1.0                                          |4.636363636363637                  |0.18181818181818182                      |11.0              |0.5454545454545454                 |0.18181818181818182             |NULL                                 |0.0017825311942959         |0.3333333333333333      |NULL                        |0.18181818181818182                |0.45454545454545453                    |0.09090909090909091                 |0.2                             |0.0                                    |0.0                          |0.5                     |1          |NULL               |\n",
      "|Manchester United|Willy           |Kambwala Ndengushi|2004-08-25  |France            |19        |288112   |33     |39       |2023         |2               |1           |85          |NULL       |Defender     |6.250000   |false       |1     |1      |5        |NULL       |NULL    |0          |0             |NULL         |NULL       |88          |NULL      |78             |1            |1             |NULL                 |5          |1        |1                |NULL            |NULL         |NULL       |1              |0           |0              |0        |NULL       |NULL            |0             |0             |NULL         |6.916133642857143|0.2                      |NULL                                  |0.5                              |93.17647058823529                   |NULL                              |1.0588235294117647                    |NULL                                         |5.294117647058823                  |1.0588235294117647                       |0.9444444444444444|NULL                               |NULL                            |NULL                                 |NULL                       |NULL                    |NULL                        |NULL                               |1.0588235294117647                     |0.0                                 |0.0                             |0.0                                    |0.0                          |NULL                    |0          |NULL               |\n",
      "|Manchester United|José Diogo      |Dalot Teixeira    |1999-03-18  |Portugal          |24        |886      |33     |39       |2023         |23              |22          |2004        |NULL       |Defender     |7.169565   |false       |1     |0      |2        |12         |3       |1          |0             |2            |NULL       |929         |23        |33             |51           |10            |27                   |170        |100      |32               |17              |NULL         |8          |22             |5           |1              |0        |NULL       |NULL            |0             |0             |NULL         |6.916133642857143|0.5882352941176471       |0.53125                               |0.9565217391304348               |41.721556886227546                  |1.032934131736527                 |0.44910179640718567                   |1.2125748502994012                           |7.634730538922156                  |1.437125748502994                        |22.266666666666666|0.5389221556886228                 |0.1347305389221557              |0.08982035928143713                  |0.024757804090419805       |0.25                    |0.08695652173913043         |0.3592814371257485                 |0.9880239520958084                     |0.22455089820359284                 |0.22727272727272727             |0.04491017964071856                    |0.0                          |0.3333333333333333      |1          |3                  |\n",
      "|Manchester United|Aaron           |Wan-Bissaka       |1997-11-26  |England           |26        |18846    |33     |39       |2023         |12              |10          |885         |NULL       |Defender     |7.016666   |false       |2     |3      |5        |1          |1       |0          |0             |1            |NULL       |452         |5         |31             |25           |8             |20                   |78         |46       |13               |10              |NULL         |4          |11             |3           |0              |0        |NULL       |NULL            |0             |0             |NULL         |6.916133642857143|0.5897435897435898       |0.7692307692307693                    |0.8333333333333334               |45.96610169491525                   |0.5084745762711864                |0.8135593220338982                    |2.0338983050847457                           |7.932203389830508                  |1.3220338983050848                       |9.833333333333334 |0.10169491525423728                |0.10169491525423728             |0.10169491525423728                  |0.011061946902654867       |1.0                     |0.2                         |0.4067796610169491                 |1.11864406779661                       |0.30508474576271183                 |0.2727272727272727              |0.0                                    |0.0                          |0.0                     |0          |1                  |\n",
      "|Manchester United|Lisandro        |Martínez          |1998-01-18  |Argentina         |26        |2467     |33     |39       |2023         |8               |7           |562         |NULL       |Defender     |6.637500   |false       |1     |5      |1        |NULL       |NULL    |0          |0             |1            |NULL       |391         |3         |45             |11           |7             |4                    |38         |18       |3                |2               |NULL         |2          |4              |3           |0              |0        |NULL       |NULL            |0             |0             |NULL         |6.916133642857143|0.47368421052631576      |0.6666666666666666                    |0.875                            |62.61565836298932                   |0.4804270462633452                |1.1209964412811388                    |0.6405693950177936                           |6.085409252669039                  |0.4804270462633452                       |6.2444444444444445|NULL                               |NULL                            |0.1601423487544484                   |0.0076726342710997444      |NULL                    |0.3333333333333333          |0.3202846975088968                 |0.6405693950177936                     |0.4804270462633452                  |0.75                            |0.0                                    |0.0                          |NULL                    |0          |1                  |\n",
      "|Manchester United|Jonathan Grant  |Evans             |1988-01-03  |Northern Ireland  |36        |18772    |33     |39       |2023         |16              |10          |927         |NULL       |Defender     |6.828571   |false       |6     |3      |8        |1          |NULL    |0          |0             |1            |NULL       |562         |4         |32             |9            |8             |13                   |80         |48       |2                |2               |NULL         |10         |13             |2           |0              |0        |NULL       |NULL            |0             |0             |NULL         |6.916133642857143|0.6                      |1.0                                   |0.625                            |54.5631067961165                    |0.3883495145631068                |0.7766990291262136                    |1.262135922330097                            |7.766990291262135                  |0.1941747572815534                       |10.3              |0.0970873786407767                 |NULL                            |0.0970873786407767                   |0.0071174377224199285      |NULL                    |0.25                        |0.9708737864077669                 |1.262135922330097                      |0.1941747572815534                  |0.15384615384615385             |0.0                                    |0.0                          |NULL                    |0          |1                  |\n",
      "|Manchester United|Sergio          |Reguilón Rodríguez|1996-12-16  |Spain             |27        |739      |33     |39       |2023         |9               |4           |410         |NULL       |Defender     |7.060000   |false       |5     |3      |10       |3          |2       |0          |0             |1            |NULL       |118         |4         |15             |14           |NULL          |5                    |42         |25       |6                |3               |NULL         |6          |3              |3           |0              |0        |NULL       |NULL            |0             |0             |NULL         |6.916133642857143|0.5952380952380952       |0.5                                   |0.4444444444444444               |25.902439024390244                  |0.8780487804878049                |NULL                                  |1.0975609756097562                           |9.219512195121952                  |1.3170731707317074                       |4.555555555555555 |0.6585365853658537                 |0.43902439024390244             |0.21951219512195122                  |0.03389830508474576        |0.6666666666666666      |0.25                        |1.3170731707317074                 |0.6585365853658537                     |0.6585365853658537                  |1.0                             |0.0                                    |0.0                          |0.0                     |0          |1                  |\n",
      "+-----------------+----------------+------------------+------------+------------------+----------+---------+-------+---------+-------------+----------------+------------+------------+-----------+-------------+-----------+------------+------+-------+---------+-----------+--------+-----------+--------------+-------------+-----------+------------+----------+---------------+-------------+--------------+---------------------+-----------+---------+-----------------+----------------+-------------+-----------+---------------+------------+---------------+---------+-----------+----------------+--------------+--------------+-------------+-----------------+-------------------------+--------------------------------------+---------------------------------+------------------------------------+----------------------------------+--------------------------------------+---------------------------------------------+-----------------------------------+-----------------------------------------+------------------+-----------------------------------+--------------------------------+-------------------------------------+---------------------------+------------------------+----------------------------+-----------------------------------+---------------------------------------+------------------------------------+--------------------------------+---------------------------------------+-----------------------------+------------------------+-----------+-------------------+\n",
      "\n"
     ]
    }
   ],
   "source": [
    "manu_player_defender_stat.show(n=100, truncate=False)"
   ]
  },
  {
   "cell_type": "code",
   "execution_count": 106,
   "metadata": {},
   "outputs": [],
   "source": [
    "manu_defender_sidesline = spark.sql(\"\"\"SELECT ps.player_id, pd.player_firstname, pd.player_lastname,COUNT(ps.player_id) as player_count\n",
    "FROM england_player_stat p\n",
    "JOIN player_df pd ON p.player_id = pd.player_id\n",
    "JOIN player_sideline ps ON p.player_id = ps.player_id\n",
    "WHERE p.team_id = 33 AND p.game_position LIKE 'Defender' AND p.game_appearances > 1 AND ps.sideline_start > '2023-08-10'\n",
    "GROUP BY ps.player_id, pd.player_firstname, pd.player_lastname\n",
    "\"\"\")"
   ]
  },
  {
   "cell_type": "code",
   "execution_count": 107,
   "metadata": {},
   "outputs": [
    {
     "name": "stdout",
     "output_type": "stream",
     "text": [
      "+---------+----------------+------------------+------------+\n",
      "|player_id|player_firstname|player_lastname   |player_count|\n",
      "+---------+----------------+------------------+------------+\n",
      "|886      |José Diogo      |Dalot Teixeira    |1           |\n",
      "|739      |Sergio          |Reguilón Rodríguez|16          |\n",
      "|18846    |Aaron           |Wan-Bissaka       |2           |\n",
      "|742      |Raphaël Xavier  |Varane            |3           |\n",
      "|2467     |Lisandro        |Martínez          |4           |\n",
      "|18772    |Jonathan Grant  |Evans             |4           |\n",
      "|891      |Luke Paul Hoare |Shaw              |5           |\n",
      "|889      |Victor Jörgen   |Nilsson Lindelöf  |2           |\n",
      "|2935     |Jacob Harry     |Maguire           |3           |\n",
      "+---------+----------------+------------------+------------+\n",
      "\n"
     ]
    }
   ],
   "source": [
    "manu_defender_sidesline.show(n=100, truncate=False)"
   ]
  },
  {
   "cell_type": "markdown",
   "metadata": {},
   "source": [
    "- 맨체스터 유나이티드 수비수중에 dalot선수 빼고는 20경기 이상 뛴 선수가 없다\n",
    "- 부상이 많아 못뛴 경기가 많아 수비의 조직력이 느슨해질수밖에 없다\n",
    "- 중요 선수로 평가받는 shaw,verane,martinez 25경기중에 3번의 부상기록이 올라와져 있다\n",
    "- 좋은 평가로 받는 평점이 7이 넘는 선수는 3명뿐이 안된다\n",
    "- 린델로프는 중앙 수비수인데 경합에서 승리하는 승률이 50% 미만이다\n",
    "- 린델로프는 패스를 많이 하고 정확도와 키패스도 다른 중앙 수비수들보다 많다\n",
    "- 루크 쇼는 뛸수있는 날에는 선발로 들어가고 윙백이라 드리블시도가 많지만 성공률이 높지는 않다\n",
    "- 루크쇼는 옐로우카드가 파울범한 횟수에 비해 많다\n",
    "- 매과이어 선수는 경합승률이 61%이다 달리기가 느린문제때문에 드리블시도는 한번밖에 없다\n",
    "- 매과이어 선수는 블록태클과 인터셉트 태클이 팀내에서 제일 많다\n",
    "- 매과이어가 범한 파울이 18개인데 yellow카드가 2개뿐이 없다 위험지역에서는 파울을 잘 안준다\n",
    "- 매과이어는 어시스트 2개로 공격에 도움을 준다\n",
    "- 바란은 경합에서 승률이 약 73% 센터백중에서 제일 높은 확률을 보여준다\n",
    "- 센터백인 바란은 드리블을 잘 하지 않는다\n",
    "- 패스성공률은 33%로 발밑이좋지는 않다\n",
    "- Dalot선수는 맨유에서 꾸준히 뛰는 유일한 수비수다\n",
    "- 윙백인 달롯은 슈팅을 12번을 시도하고 3번의 유효슈팅 1개의 골은 넣고 2번의 어시스트를 했다\n",
    "- 달롯은 제일 많은 패스횟수인 929번을 하고 키패스를 23번을 넣었다\n",
    "- 달롯은 태클 인터셉트가 가장많은 27번을 하였고 블록은 10번하였다\n",
    "- 달롯은 경합승률 58%로 높은 승률을 보여주고 있다.\n",
    "- 달롯은 드리블 시도를 많이 했고 성공률은 53%로 나쁘지 않은 돌파력을 보여줬다\n",
    "- 완비사카는 달롯과 같은 윙백이지만 1개의 슈팅만 시도하였다\n",
    "- 완 비사카는 20개의 인터셉트를 성공하였다\n",
    "- 완 비사카는 경합 승률 58%로 나쁘지 않는 승률를 가지고있다\n",
    "- 완 비사카는 드리블 성공률 약 77%이지만 시도를 많이하지않았고 뛴 시간도 885분밖에 되지않는다 25게임중 약 6게임만 뛴게된다\n",
    "- 마르티네즈 선수는 부상으로 8번의 출전밖에 못하였다\n",
    "- 마르틴네즈는 패스 정확도 45%로 팀내 중앙 수비수들중  제일 높은 패스 정확도를 보여준다\n",
    "- 마르티네즈의 경기당 약 6개의 경합중에 경합승률은 47%\n",
    "- 마르티네즈는 파울을 4번 했는데 옐로우 카드가 3번이다\n",
    "- 에반스는 경합을 적극적으로 해주면서 50%이상의 승률을 가져오고 있다\n",
    "- 에반스 드리블은 거의 안하지만 2번했을때 2번다 성공하였다\n",
    "# 결론\n",
    "- 좌우 풀백이 3명 밖에 없어 2명이 동시에 부상을 당할시에 문제가 생기기 때문에 윙백을 영입할필요가 있다\n",
    "- 요즘 축구 트렌드가 패스도 중요하지만 수비수의 목표는 수비를 잘하는게 1순위이다 그런 의미로 린델로프와 마르티네즈선수는 판매를 해야한다\n",
    "- 마르티네즈 선수는 부상을 자주 당해 경기를 못치르고 패스를 많이하고 잘하지만 수비적인 경합이나 태클부분에서 소극적인 부분이 보여 수비적인 부분과 패스가 되는 다른선수로 대체해야한다.\n",
    "- 매과이어는 맨체스터 유나이티드의 수비적으로 큰 도움을 주고있다\n",
    "- 바란도 무난한 수비 스탯을 보여주지만 새로운 센터백을 영입해야한다\n",
    "- 31살인 매과이어와 30살인 바란 수비수로서 최전성기의 나이지만 어린나이는 아니지만 시즌을 풀로 끌고가기에는 체력적으로나 능력적으로 위험하기때문에 어린 수비수 영입이 필요하다\n",
    "- 루크 쇼는 공격적인 스탯은 좋지만 수비적인 스탯인 tackles_blocks, tackles_interceptions등이 아쉬움이있다\n",
    "- 완 비사카 같은 수비력이 있는 윙백 선수를 영입하는것이 필요하다\n",
    "- 달롯은 많은 경기를 뛰고 공수로 도움을 주고있기때문에 맨체스터 유나이티드는 지킬 필요가 있다\n",
    "- 맨체스터 유나이티드 현재 전술때문에 패스성공률이 낮다"
   ]
  },
  {
   "cell_type": "code",
   "execution_count": 108,
   "metadata": {},
   "outputs": [],
   "source": [
    "manu_player_midfielder_stat = spark.sql(\"\"\"SELECT DISTINCT tf.team_name, pf.player_firstname, pf.player_lastname,pf.player_birth,pf.player_nationality,TIMESTAMPDIFF(YEAR, pf.player_birth, CURDATE()) AS player_age, ps.*, AVG(ps.game_rating) OVER () as avg_game_rating,duels_won/duels_total,dribbles_success/dribbles_attempts,game_lineups/game_appearances,passes_total/(game_minutes/90),passes_key/(game_minutes/90),tackles_blocks/(game_minutes/90),tackles_interceptions/(game_minutes/90),duels_total/(game_minutes/90),dribbles_attempts/(game_minutes/90),game_minutes/90 total_games,total_shots/(game_minutes/90),shots_on/(game_minutes/90),goals_assists/(game_minutes/90),passes_key/passes_total,shots_on/total_shots,goals_assists/passes_key,fouls_drawn/(game_minutes/90),fouls_committed/(game_minutes/90),cards_yellow/(game_minutes/90),cards_yellow/fouls_committed,cards_yellowred/(game_minutes/90),cards_red/fouls_committed,total_goals/shots_on, total_goals-penalty_scored as field_score, total_goals+goals_assists as total_attack_points\n",
    "FROM england_player_stat ps\n",
    "JOIN team_df tf ON ps.team_id = tf.team_id\n",
    "JOIN player_df pf ON ps.player_id = pf.player_id\n",
    "WHERE tf.team_name LIKE 'Manchester United' AND ps.game_position LIKE 'Midfielder' AND ps.game_appearances > 1;\n",
    "\n",
    "\"\"\")"
   ]
  },
  {
   "cell_type": "code",
   "execution_count": 109,
   "metadata": {},
   "outputs": [
    {
     "name": "stderr",
     "output_type": "stream",
     "text": [
      "24/03/12 16:04:09 WARN WindowExec: No Partition Defined for Window operation! Moving all data to a single partition, this can cause serious performance degradation.\n",
      "24/03/12 16:04:09 WARN WindowExec: No Partition Defined for Window operation! Moving all data to a single partition, this can cause serious performance degradation.\n",
      "24/03/12 16:04:09 WARN WindowExec: No Partition Defined for Window operation! Moving all data to a single partition, this can cause serious performance degradation.\n",
      "24/03/12 16:04:09 WARN WindowExec: No Partition Defined for Window operation! Moving all data to a single partition, this can cause serious performance degradation.\n",
      "24/03/12 16:04:09 WARN WindowExec: No Partition Defined for Window operation! Moving all data to a single partition, this can cause serious performance degradation.\n",
      "24/03/12 16:04:09 WARN WindowExec: No Partition Defined for Window operation! Moving all data to a single partition, this can cause serious performance degradation.\n",
      "24/03/12 16:04:09 WARN WindowExec: No Partition Defined for Window operation! Moving all data to a single partition, this can cause serious performance degradation.\n",
      "24/03/12 16:04:09 WARN WindowExec: No Partition Defined for Window operation! Moving all data to a single partition, this can cause serious performance degradation.\n",
      "24/03/12 16:04:09 WARN WindowExec: No Partition Defined for Window operation! Moving all data to a single partition, this can cause serious performance degradation.\n",
      "24/03/12 16:04:09 WARN WindowExec: No Partition Defined for Window operation! Moving all data to a single partition, this can cause serious performance degradation.\n",
      "24/03/12 16:04:09 WARN WindowExec: No Partition Defined for Window operation! Moving all data to a single partition, this can cause serious performance degradation.\n",
      "24/03/12 16:04:09 WARN WindowExec: No Partition Defined for Window operation! Moving all data to a single partition, this can cause serious performance degradation.\n"
     ]
    },
    {
     "name": "stdout",
     "output_type": "stream",
     "text": [
      "+-----------------+----------------+-----------------+------------+------------------+----------+---------+-------+---------+-------------+----------------+------------+------------+-----------+-------------+-----------+------------+------+-------+---------+-----------+--------+-----------+--------------+-------------+-----------+------------+----------+---------------+-------------+--------------+---------------------+-----------+---------+-----------------+----------------+-------------+-----------+---------------+------------+---------------+---------+-----------+----------------+--------------+--------------+-------------+---------------+-------------------------+--------------------------------------+---------------------------------+------------------------------------+----------------------------------+--------------------------------------+---------------------------------------------+-----------------------------------+-----------------------------------------+------------------+-----------------------------------+--------------------------------+-------------------------------------+---------------------------+------------------------+----------------------------+-----------------------------------+---------------------------------------+------------------------------------+--------------------------------+---------------------------------------+-----------------------------+------------------------+-----------+-------------------+\n",
      "|        team_name|player_firstname|  player_lastname|player_birth|player_nationality|player_age|player_id|team_id|league_id|league_season|game_appearances|game_lineups|game_minutes|game_number|game_position|game_rating|game_captain|sub_in|sub_out|sub_bench|total_shots|shots_on|total_goals|goals_conceded|goals_assists|goals_saves|passes_total|passes_key|passes_accuracy|tackles_total|tackles_blocks|tackles_interceptions|duels_total|duels_won|dribbles_attempts|dribbles_success|dribbles_past|fouls_drawn|fouls_committed|cards_yellow|cards_yellowred|cards_red|penalty_won|penalty_commited|penalty_scored|penalty_missed|penalty_saved|avg_game_rating|(duels_won / duels_total)|(dribbles_success / dribbles_attempts)|(game_lineups / game_appearances)|(passes_total / (game_minutes / 90))|(passes_key / (game_minutes / 90))|(tackles_blocks / (game_minutes / 90))|(tackles_interceptions / (game_minutes / 90))|(duels_total / (game_minutes / 90))|(dribbles_attempts / (game_minutes / 90))|       total_games|(total_shots / (game_minutes / 90))|(shots_on / (game_minutes / 90))|(goals_assists / (game_minutes / 90))|(passes_key / passes_total)|(shots_on / total_shots)|(goals_assists / passes_key)|(fouls_drawn / (game_minutes / 90))|(fouls_committed / (game_minutes / 90))|(cards_yellow / (game_minutes / 90))|(cards_yellow / fouls_committed)|(cards_yellowred / (game_minutes / 90))|(cards_red / fouls_committed)|(total_goals / shots_on)|field_score|total_attack_points|\n",
      "+-----------------+----------------+-----------------+------------+------------------+----------+---------+-------+---------+-------------+----------------+------------+------------+-----------+-------------+-----------+------------+------+-------+---------+-----------+--------+-----------+--------------+-------------+-----------+------------+----------+---------------+-------------+--------------+---------------------+-----------+---------+-----------------+----------------+-------------+-----------+---------------+------------+---------------+---------+-----------+----------------+--------------+--------------+-------------+---------------+-------------------------+--------------------------------------+---------------------------------+------------------------------------+----------------------------------+--------------------------------------+---------------------------------------------+-----------------------------------+-----------------------------------------+------------------+-----------------------------------+--------------------------------+-------------------------------------+---------------------------+------------------------+----------------------------+-----------------------------------+---------------------------------------+------------------------------------+--------------------------------+---------------------------------------+-----------------------------+------------------------+-----------+-------------------+\n",
      "|Manchester United|  Kobbie Boateng|           Mainoo|  2005-04-19|           England|        18|   284322|     33|       39|         2023|              11|          11|         875|       NULL|   Midfielder|   6.836363|       false|     0|      7|        5|          2|       2|          1|             0|         NULL|       NULL|         407|         7|             31|           19|             6|                   10|        104|       52|               22|              13|         NULL|          6|             11|           3|              0|        0|       NULL|            NULL|             0|             0|         NULL|       6.946165|                      0.5|                    0.5909090909090909|                              1.0|                  41.862857142857145|                0.7200000000000001|                    0.6171428571428572|                           1.0285714285714287|                 10.697142857142858|                        2.262857142857143| 9.722222222222221|                0.20571428571428574|             0.20571428571428574|                                 NULL|         0.0171990171990172|                     1.0|                        NULL|                 0.6171428571428572|                     1.1314285714285715|                  0.3085714285714286|              0.2727272727272727|                                    0.0|                          0.0|                     0.5|          1|               NULL|\n",
      "|Manchester United|    Bruno Miguel| Borges Fernandes|  1994-09-08|          Portugal|        29|     1485|     33|       39|         2023|              24|          24|        2160|       NULL|   Midfielder|   7.575000|       false|     0|      0|        0|         40|      21|          3|             0|            5|       NULL|        1290|        74|             42|           50|             4|                   18|        233|      101|               36|              16|         NULL|         18|             31|           7|              0|        0|       NULL|            NULL|             1|             1|         NULL|       6.946165|       0.4334763948497854|                    0.4444444444444444|                              1.0|                               53.75|                3.0833333333333335|                   0.16666666666666666|                                         0.75|                  9.708333333333334|                                      1.5|              24.0|                 1.6666666666666667|                           0.875|                  0.20833333333333334|        0.05736434108527132|                   0.525|         0.06756756756756757|                               0.75|                     1.2916666666666667|                  0.2916666666666667|             0.22580645161290322|                                    0.0|                          0.0|     0.14285714285714285|          2|                  8|\n",
      "|Manchester United|         Facundo|Pellistri Rebollo|  2001-12-20|           Uruguay|        22|    70078|     33|       39|         2023|               9|           1|         165|       NULL|   Midfielder|   6.766666|       false|     8|      1|       19|          3|       2|          0|             0|            1|       NULL|          74|         1|              6|            5|             1|                    1|         40|       22|                9|               5|         NULL|          6|              4|           0|              0|        0|       NULL|            NULL|             0|             0|         NULL|       6.946165|                     0.55|                    0.5555555555555556|               0.1111111111111111|                   40.36363636363637|                0.5454545454545455|                    0.5454545454545455|                           0.5454545454545455|                  21.81818181818182|                        4.909090909090909|1.8333333333333333|                 1.6363636363636365|               1.090909090909091|                   0.5454545454545455|       0.013513513513513514|      0.6666666666666666|                         1.0|                  3.272727272727273|                      2.181818181818182|                                 0.0|                             0.0|                                    0.0|                          0.0|                     0.0|          0|                  1|\n",
      "|Manchester United|       Christian|Dannemann Eriksen|  1992-02-14|           Denmark|        32|      174|     33|       39|         2023|              15|           9|         848|       NULL|   Midfielder|   6.886666|       false|     6|      5|       11|          5|       4|          1|             0|            1|       NULL|         523|        14|             29|           13|             5|                    3|         59|       19|                4|               3|         NULL|          2|              7|           1|              0|        0|       NULL|            NULL|             0|             0|         NULL|       6.946165|       0.3220338983050847|                                  0.75|                              0.6|                   55.50707547169811|                1.4858490566037736|                    0.5306603773584906|                          0.31839622641509435|                  6.261792452830188|                       0.4245283018867924| 9.422222222222222|                 0.5306603773584906|              0.4245283018867924|                   0.1061320754716981|        0.02676864244741874|                     0.8|         0.07142857142857142|                 0.2122641509433962|                     0.7429245283018868|                  0.1061320754716981|             0.14285714285714285|                                    0.0|                          0.0|                    0.25|          1|                  2|\n",
      "|Manchester United|   Scott Francis|        McTominay|  1996-12-08|          Scotland|        27|      903|     33|       39|         2023|              22|          12|        1247|       NULL|   Midfielder|   7.047619|       false|    10|      2|       12|         27|      17|          7|             0|            1|       NULL|         414|         6|             16|           35|             7|                   10|        144|       74|               13|               7|         NULL|         11|             19|           0|              0|        0|       NULL|            NULL|             0|             0|         NULL|       6.946165|       0.5138888888888888|                    0.5384615384615384|               0.5454545454545454|                   29.87971130713713|                0.4330392943063352|                    0.5052125100240578|                           0.7217321571772253|                 10.392943063352044|                       0.9382518043303929|13.855555555555556|                 1.9486768243785084|               1.226944667201283|                  0.07217321571772253|       0.014492753623188406|      0.6296296296296297|         0.16666666666666666|                 0.7939053728949479|                     1.3712910986367282|                                 0.0|                             0.0|                                    0.0|                          0.0|      0.4117647058823529|          7|                  8|\n",
      "|Manchester United|          Sofyan|          Amrabat|  1996-08-21|       Netherlands|        27|       74|     33|       39|         2023|              12|           7|         616|       NULL|   Midfielder|   6.900000|       false|     5|      2|        9|          2|    NULL|          0|             0|         NULL|       NULL|         425|         4|             37|           22|             3|                    5|         66|       35|                5|               4|         NULL|          5|             14|           3|              0|        0|       NULL|            NULL|             0|             0|         NULL|       6.946165|       0.5303030303030303|                                   0.8|               0.5833333333333334|                   62.09415584415585|                0.5844155844155845|                    0.4383116883116883|                           0.7305194805194806|                  9.642857142857144|                       0.7305194805194806| 6.844444444444444|                0.29220779220779225|                            NULL|                                 NULL|       0.009411764705882352|                    NULL|                        NULL|                 0.7305194805194806|                     2.0454545454545454|                  0.4383116883116883|             0.21428571428571427|                                    0.0|                          0.0|                    NULL|          0|               NULL|\n",
      "|Manchester United| Carlos Henrique|         Casimiro|  1992-02-23|            Brazil|        32|      747|     33|       39|         2023|              12|          12|         949|       NULL|   Midfielder|   7.016666|       false|     0|      4|        1|         17|       5|          1|             0|            1|       NULL|         627|         9|             43|           39|             9|                    9|        146|       68|                7|               3|         NULL|          8|             18|           4|              0|        0|       NULL|            NULL|             0|             0|         NULL|       6.946165|       0.4657534246575342|                   0.42857142857142855|                              1.0|                  59.462592202318234|                0.8535300316122234|                    0.8535300316122234|                           0.8535300316122234|                 13.846153846153847|                       0.6638566912539515|10.544444444444444|                  1.612223393045311|             0.47418335089567965|                  0.09483667017913594|       0.014354066985645933|     0.29411764705882354|          0.1111111111111111|                 0.7586933614330875|                     1.7070600632244468|                 0.37934668071654376|              0.2222222222222222|                                    0.0|                          0.0|                     0.2|          1|                  2|\n",
      "|Manchester United|      Mason Tony|            Mount|  1999-01-10|           England|        25|    19220|     33|       39|         2023|               8|           4|         400|       NULL|   Midfielder|   6.837500|       false|     4|      4|        4|          1|    NULL|          0|             0|         NULL|       NULL|         149|         5|             15|           16|             1|                    3|         61|       30|                6|               4|         NULL|          6|              7|           1|              0|        0|       NULL|            NULL|             0|             0|         NULL|       6.946165|       0.4918032786885246|                    0.6666666666666666|                              0.5|                              33.525|                             1.125|                   0.22499999999999998|                           0.6749999999999999|                             13.725|                       1.3499999999999999| 4.444444444444445|                0.22499999999999998|                            NULL|                                 NULL|        0.03355704697986577|                    NULL|                        NULL|                 1.3499999999999999|                                  1.575|                 0.22499999999999998|             0.14285714285714285|                                    0.0|                          0.0|                    NULL|          0|               NULL|\n",
      "|Manchester United|        Hannibal|           Mejbri|  2003-01-21|           Tunisia|        21|   180560|     33|       39|         2023|               5|           1|         129|       NULL|   Midfielder|   6.875000|       false|     4|      0|       13|          1|       1|          1|             0|         NULL|       NULL|          36|         2|              7|            3|             1|                 NULL|         29|       13|                3|               2|         NULL|          6|              5|           1|              0|        0|       NULL|            NULL|             0|             0|         NULL|       6.946165|       0.4482758620689655|                    0.6666666666666666|                              0.2|                   25.11627906976744|                1.3953488372093024|                    0.6976744186046512|                                         NULL|                 20.232558139534884|                       2.0930232558139537|1.4333333333333333|                 0.6976744186046512|              0.6976744186046512|                                 NULL|        0.05555555555555555|                     1.0|                        NULL|                  4.186046511627907|                      3.488372093023256|                  0.6976744186046512|                             0.2|                                    0.0|                          0.0|                     1.0|          1|               NULL|\n",
      "+-----------------+----------------+-----------------+------------+------------------+----------+---------+-------+---------+-------------+----------------+------------+------------+-----------+-------------+-----------+------------+------+-------+---------+-----------+--------+-----------+--------------+-------------+-----------+------------+----------+---------------+-------------+--------------+---------------------+-----------+---------+-----------------+----------------+-------------+-----------+---------------+------------+---------------+---------+-----------+----------------+--------------+--------------+-------------+---------------+-------------------------+--------------------------------------+---------------------------------+------------------------------------+----------------------------------+--------------------------------------+---------------------------------------------+-----------------------------------+-----------------------------------------+------------------+-----------------------------------+--------------------------------+-------------------------------------+---------------------------+------------------------+----------------------------+-----------------------------------+---------------------------------------+------------------------------------+--------------------------------+---------------------------------------+-----------------------------+------------------------+-----------+-------------------+\n",
      "\n"
     ]
    }
   ],
   "source": [
    "manu_player_midfielder_stat.show()"
   ]
  },
  {
   "cell_type": "code",
   "execution_count": 110,
   "metadata": {},
   "outputs": [],
   "source": [
    "manu_midfielder_sidesline = spark.sql(\"\"\"SELECT ps.player_id, pd.player_firstname, pd.player_lastname,COUNT(ps.player_id) as player_count\n",
    "FROM england_player_stat p\n",
    "JOIN player_df pd ON p.player_id = pd.player_id\n",
    "JOIN player_sideline ps ON p.player_id = ps.player_id\n",
    "WHERE p.team_id = 33 AND p.game_position LIKE 'Midfielder' AND p.game_appearances > 1 AND ps.sideline_start > '2023-08-10'\n",
    "GROUP BY ps.player_id, pd.player_firstname, pd.player_lastname\n",
    "\n",
    "\n",
    "\n",
    "\"\"\")"
   ]
  },
  {
   "cell_type": "code",
   "execution_count": 111,
   "metadata": {},
   "outputs": [
    {
     "name": "stdout",
     "output_type": "stream",
     "text": [
      "+---------+----------------+-----------------+------------+\n",
      "|player_id|player_firstname|  player_lastname|player_count|\n",
      "+---------+----------------+-----------------+------------+\n",
      "|     1485|    Bruno Miguel| Borges Fernandes|           1|\n",
      "|    19220|      Mason Tony|            Mount|           8|\n",
      "|      747| Carlos Henrique|         Casimiro|           2|\n",
      "|       74|          Sofyan|          Amrabat|          12|\n",
      "|      174|       Christian|Dannemann Eriksen|           3|\n",
      "|      903|   Scott Francis|        McTominay|           1|\n",
      "|    70078|         Facundo|Pellistri Rebollo|           1|\n",
      "+---------+----------------+-----------------+------------+\n",
      "\n"
     ]
    }
   ],
   "source": [
    "manu_midfielder_sidesline.show()"
   ]
  },
  {
   "cell_type": "markdown",
   "metadata": {},
   "source": [
    "- 마이누는 어린 18살 선수인데 많은 기회를 받고 있다\n",
    "- 마이누는 경기당 약 한개 이상의 인터센트를 성공하고있다\n",
    "- 마이누는 경기당 10개의 경합중 50%의 경합승률을 보여주고있다\n",
    "- 페르난데스 선수는 총 25경기중에 24경기를 출장하며 높은 출장률을 보여주고 있다\n",
    "- 페르난데스의 공격적으로 뛰는 움직임도 있지만 key패스 생성이 제일 높다\n",
    "- 페르난데스는 슛팅은 경기당 2개 가까이 쏘지만 골문쪽으로 가는 비율이 높은 편은 아니다\n",
    "- 페르난데스는 2경기당 1개의 비율로 어시스트를 하였다\n",
    "- 페르난데스는 경기당 3개의 키패스를 넣어주었다\n",
    "- 페르난데스는 드리블 성공률이 50% 높지 않다\n",
    "- 페르난데스는 패스 성공률 2위를 기록하고있다\n",
    "- 펠리스트리는 출전기록은 9번이지만 대부분 교체로 출전하였다\n",
    "- 에릭센은 만 32살이다\n",
    "- 에릭센은 로테이션 자원으로 선발과 교체를 오가고 있다\n",
    "- 에릭세는 1경기를 90분으로 쳤을때 경기당 1번에 가까운 슈팅을 했고 80%가 유효슈팅이되었다\n",
    "- 에릭센의 패스는 1경기 90분 기준 55개의 패스 팀내 미드필더 4위를 기록하고 있다\n",
    "- 에릭센의 키패스는 1경기 90분 기준 1.48로 경기당 평균 한번의 키패스를 주고있다 미드필더 팀내기준 2위를 기록하고있다\n",
    "- 하지만 에릭센의 패스 성공률은 29%에 그쳤다\n",
    "- 에릭센의 인터셉트는 다른 팀내 미드필더 선수보다 월든히 낮을 0.3을 기록하고있다\n",
    "- 에릭센은 경합 90분당 6번으로 소극적인 모습을 보이고있다\n",
    "- 에릭센의 경합 성공률도 32%에 그쳤다\n",
    "- 에릭센은 드리블을 많이 시도하지는 않지만 성공률은 75%로 괜찮은 성공률을 보여주고있다\n",
    "- 맥토미니는 27살로 전성기인 나이다\n",
    "- 맥토미니는 선발과 교체를 오고가는 선수이다\n",
    "- 맥토미니는 총 22경기에 출전했지만 90분기준 약 14경기정도 뛰었다\n",
    "- 맥토미니는 출전 시간중에 27번의 슈팅을 시도하였고 17번의 유효슈팅을 기록하였다 이는 전체슈팅의 60%가 유효슈팅으로 기록되었다\n",
    "- 맥토미니는 슈팅을 90분기준 경기당 평균 2개를 시도하였다\n",
    "- 맥토미니는 약 14경기정도 뛰었는데 그 안에 7골을 득점하고 1개의 도움을 기록하였다\n",
    "- 맥토미니는 패스는 경기당 29개로 팀내 미드필더 뒤에서 2위를 기록하고 패스 정확도는 16%를 기록하고있다\n",
    "- 맥토미니는 드리블시도가 13번있었고 7번을 성공시켜 성공률 약 54%를 기록하였다\n",
    "- 맥토미니는 90분 기준 평균 약 1개의 드리블 시도있다\n",
    "- 맥토미니는 블록 태클이 7개로 경기당 평균 0.5개를 기록하고있고 팀내 미드필더 6위를 기록하고있다\n",
    "- 맥토미니는 인터셉트가 10개로 경기당 평균 0.72개를 기록하였고 팀내 미드필더 5위를 기록하고있다\n",
    "- 암라바트는 27살의 전성기에 있는 선수이다\n",
    "- 암라바트는 12경기를 나왔지만 9경기 선발에 3경기는 교체로 출전하엿고 90분기준 7경기정도의 시간을 뛰었다\n",
    "- 암라바트는 90분기준 경기당 평균 62개의 패스를 했다 패스 정학도는 37%를 기록하고있다\n",
    "- 암라바트는 90분 기준 경기당 평균 약 10개의 경합을하고 승률은 53%를 기록하고 있다\n",
    "- 암라바트는 드리블을 5개중 4번을 성공시키며 80%의 성공률을 보여주고있다\n",
    "- 암라바트는 블록을 90분 기준 경기당 평균 0.4개를 기록하고 있다 \n",
    "- 암라바트는 인터셉트를 90분 기준 경기당 평균 0.73개를 기록하고 있다\n",
    "- 암라바트는 패스중 키패스 비율이 0.9%를 기록하고있다\n",
    "- 암라바트는 경기당 평균 0.29개의 슈팅 기록하고있다 \n",
    "- 카세미루는 32살로 전성기에서 꺽이는 나이다\n",
    "- 카세미루가 뛴 12경중에서는 12경기 모두 선발로뛴 선발자원이다\n",
    "- 카세미루는 17번의 슈팅 시도 5개의 유효슈팅, 유효슈팅중 1골을 기록하였다\n",
    "- 카세미루의 유효슈팅 성공률은 29%이다\n",
    "- 카세미루는 90분기준 경기당 평균 59개의 패스로 팀내 미드필더 2위를 기록하고있고 패스정확도는 43%로 팀내 미드필더중에서 제일 높다\n",
    "- 카세미루는 90분기준 경기당 평균 0.85개의 블록과 인터셉트를 기록하였고 팀내 미드필더 1위와 2위를 기록하고있다\n",
    "- 카세미루는 키패스 9개로 90분기준 평균 0.85개를 기록중이고 어시스트는 1개기록하고있다\n",
    "- 카세미루의 총패스중 키패스는 1.4%로 팀내 미드필더 뒤에서 3번째를 기록중이다\n",
    "- 카세미루는 시즌중 2번의 부상이력이 있다\n",
    "- 마운트는 만 25세로 젊은 선수이다\n",
    "- 마운트는 시간으로 5경기 미만으로 뛴 선수이다\n",
    "- 마운트는 8경기중에 4경기 선발 4경기 교체로 출전하였다\n",
    "- 마운트는 슛팅 한번에 유효슈팅은 없었다\n",
    "- 마운트는 90분기준 경기당 평균 패스 33개로 팀내 미드필더 뒤에서 3위를 기록하고있다\n",
    "- 마운트는 패스정확도 15%를 기록하고있다\n",
    "- 마운트는 블록은 경기당 평균 0.22로 팀내 미드필더 뒤에서 2위를 기록하고있다\n",
    "- 마운트는 총패스중 3%가 키패스로 기록되었다\n",
    "- 마운트는 90분경기 기준 경기당 평균 1번이상의 키패스를 해주었다\n",
    "- 마운트는 경합승률 49%를 기록하였다\n",
    "- 마운트는 드리블을 6번 시도하엿고 4번을 성공하면 66%를 기록하였다\n",
    "- 마운트는 6번의 파울을 얻어내며 경기당 평균 한번이상의 파울을 얻어낸다\n",
    "- 한니발은 21살의 어린선수이다\n",
    "# 결론\n",
    "- 마이누는 아직 좋은 활약이라고 할 수는 없지만 아직 18살로 성장을 더 할수있기때문에 꾸준히 출전 기회를 주며 키워볼만하다\n",
    "- 미드필더는 주어진 역할에 따라 다르겠지만 공격적인것과 수비적인것을 둘다 가져가야하는 포지션이기때문에 수비위치를 좀 더 잘 잡아서 block횟수를 좀 늘리면 수비적인 역할에서 좀 더 성장할수있다\n",
    "- 페르난데스 선수는 맨체스터 유나이티의 공격의 핵심이다 공격의 중요한 요소들은 페르난데스 선수가 상위권을 차지하고있다\n",
    "- 페르난데스는 맨체스터에서 중요한 선수기때문에 파울을 해 카드받는것을 조심해야한다\n",
    "- 페르난데스는 수비적인 통계가 좋지않지만 수비의 부담을 주는것보단 공격으로 더 뽑낼수있도록 더 공격에 집중하는것이 좋을것이다 하지만 슈팅의 유효슈팅 확률을 좀 더 높일 필요가 있다\n",
    "- 펠리스트리는 현재 임대를 가있는 상태이다\n",
    "- 에릭센은 패스로 팀에 도움을 줄수있는선수다 하지만 수비적으로 경합이나 인터셉트가 너무 낮아 다른 선수에게 부담을 준다\n",
    "- 에릭센은 나이도 감안하면 주전으로 쓰기보다는 공격적인 선수가 필요할때 교체자원으로 쓰면 좋다\n",
    "- 만약 적절한 금액에 판매가 가능하다면 판매도 고려해볼수있다\n",
    "- 맥토미니는 공격적인 역할에 특화되어있고 수비적인 능력은 팀내에서 중간정도 하고있고 패스능력은 낮다\n",
    "- 맥토미니는 교체 멤버로서 좋은 카드라고 판단되지만 주전으로 삼기에는 더 성장해야할 부분이 많다\n",
    "- 암라바트는 위치는 수비형 미드필드로 뛰고 있어 경기당 평균 패스 갯수가 제일 많다\n",
    "- 암라바트는 패스정확도를 높일 필요가 있다\n",
    "- 암라바트는 수비형 미드필더로써 인터셉트와 블록을 늘리면서 수비적으로 더 도움을 줄 필요가 있다\n",
    "- 암라바트는 수비적으로나 공격적으로 도움이 크게 되지 않는다\n",
    "- 암라바트는 이번시즌이 첫시즌이므로 더 지켜봐야한다\n",
    "- 카세미루 위치상 안전한 패스를 많이해 패스 성공률이 높지만 키패스는 전체패스중 1%만 차지 안한다\n",
    "- 카세미루는 수비적으로 미드필더로써 연결고리역할은 괜찮게 해주고 있지만 나이를 고려하면 카세미루만 믿고 가기에는 불안정하다\n",
    "- 마운트는 뛴 경기가 부족해 더 지켜봐야한다\n",
    "- 출전한 경기에서는 키패스를 잘 주는건 좋지만 더 공격적으로 슛팅을 더 시도하고 패스도 더 정확하게 줄 필요가 있다.\n",
    "- 마운트는 이번시즌 첫 시즌이라 더 지켜봐야한다\n",
    "- 중원 싸움중 경합에서 확실히 공을 뺐어올만한 선수가 부족하다\n",
    "- 마운트와 페르난데스를 동시에 사용할시 수비력이 좋은 선수를 써야한다\n",
    "- 한니발은 어린선수로 더 지켜봐야한다\n",
    "- 수비적으로 더 뛰어난 수비형미드필더 영입이 필요하다"
   ]
  },
  {
   "cell_type": "code",
   "execution_count": 112,
   "metadata": {},
   "outputs": [],
   "source": [
    "manu_player_attacker_stat = spark.sql(\"\"\"SELECT DISTINCT tf.team_name, pf.player_firstname, pf.player_lastname,pf.player_birth,pf.player_nationality,TIMESTAMPDIFF(YEAR, pf.player_birth, CURDATE()) AS player_age, ps.*, AVG(ps.game_rating) OVER () as avg_game_rating,duels_won/duels_total,dribbles_success/dribbles_attempts,game_lineups/game_appearances,passes_total/(game_minutes/90),passes_key/(game_minutes/90),tackles_blocks/(game_minutes/90),tackles_interceptions/(game_minutes/90),duels_total/(game_minutes/90),dribbles_attempts/(game_minutes/90),game_minutes/90 total_games,total_shots/(game_minutes/90),shots_on/(game_minutes/90),goals_assists/(game_minutes/90),passes_key/passes_total,shots_on/total_shots,goals_assists/passes_key,fouls_drawn/(game_minutes/90),fouls_committed/(game_minutes/90),cards_yellow/(game_minutes/90),cards_yellow/fouls_committed,cards_yellowred/(game_minutes/90),cards_red/fouls_committed,total_goals/shots_on, total_goals-penalty_scored as field_score, total_goals+goals_assists as total_attack_points\n",
    "FROM england_player_stat ps\n",
    "JOIN team_df tf ON ps.team_id = tf.team_id\n",
    "JOIN player_df pf ON ps.player_id = pf.player_id\n",
    "WHERE tf.team_name LIKE 'Manchester United' AND ps.game_position LIKE 'Attacker' AND ps.game_appearances > 1;\n",
    "\n",
    "\"\"\")"
   ]
  },
  {
   "cell_type": "code",
   "execution_count": 113,
   "metadata": {},
   "outputs": [
    {
     "name": "stderr",
     "output_type": "stream",
     "text": [
      "24/03/12 16:04:10 WARN WindowExec: No Partition Defined for Window operation! Moving all data to a single partition, this can cause serious performance degradation.\n",
      "24/03/12 16:04:10 WARN WindowExec: No Partition Defined for Window operation! Moving all data to a single partition, this can cause serious performance degradation.\n",
      "24/03/12 16:04:11 WARN WindowExec: No Partition Defined for Window operation! Moving all data to a single partition, this can cause serious performance degradation.\n",
      "24/03/12 16:04:11 WARN WindowExec: No Partition Defined for Window operation! Moving all data to a single partition, this can cause serious performance degradation.\n",
      "24/03/12 16:04:11 WARN WindowExec: No Partition Defined for Window operation! Moving all data to a single partition, this can cause serious performance degradation.\n",
      "24/03/12 16:04:11 WARN WindowExec: No Partition Defined for Window operation! Moving all data to a single partition, this can cause serious performance degradation.\n",
      "24/03/12 16:04:11 WARN WindowExec: No Partition Defined for Window operation! Moving all data to a single partition, this can cause serious performance degradation.\n",
      "24/03/12 16:04:11 WARN WindowExec: No Partition Defined for Window operation! Moving all data to a single partition, this can cause serious performance degradation.\n",
      "24/03/12 16:04:11 WARN WindowExec: No Partition Defined for Window operation! Moving all data to a single partition, this can cause serious performance degradation.\n",
      "24/03/12 16:04:11 WARN WindowExec: No Partition Defined for Window operation! Moving all data to a single partition, this can cause serious performance degradation.\n",
      "24/03/12 16:04:11 WARN WindowExec: No Partition Defined for Window operation! Moving all data to a single partition, this can cause serious performance degradation.\n",
      "24/03/12 16:04:11 WARN WindowExec: No Partition Defined for Window operation! Moving all data to a single partition, this can cause serious performance degradation.\n"
     ]
    },
    {
     "name": "stdout",
     "output_type": "stream",
     "text": [
      "+-----------------+----------------+-----------------+------------+------------------+----------+---------+-------+---------+-------------+----------------+------------+------------+-----------+-------------+-----------+------------+------+-------+---------+-----------+--------+-----------+--------------+-------------+-----------+------------+----------+---------------+-------------+--------------+---------------------+-----------+---------+-----------------+----------------+-------------+-----------+---------------+------------+---------------+---------+-----------+----------------+--------------+--------------+-------------+---------------+-------------------------+--------------------------------------+---------------------------------+------------------------------------+----------------------------------+--------------------------------------+---------------------------------------------+-----------------------------------+-----------------------------------------+------------------+-----------------------------------+--------------------------------+-------------------------------------+---------------------------+------------------------+----------------------------+-----------------------------------+---------------------------------------+------------------------------------+--------------------------------+---------------------------------------+-----------------------------+------------------------+-----------+-------------------+\n",
      "|        team_name|player_firstname|  player_lastname|player_birth|player_nationality|player_age|player_id|team_id|league_id|league_season|game_appearances|game_lineups|game_minutes|game_number|game_position|game_rating|game_captain|sub_in|sub_out|sub_bench|total_shots|shots_on|total_goals|goals_conceded|goals_assists|goals_saves|passes_total|passes_key|passes_accuracy|tackles_total|tackles_blocks|tackles_interceptions|duels_total|duels_won|dribbles_attempts|dribbles_success|dribbles_past|fouls_drawn|fouls_committed|cards_yellow|cards_yellowred|cards_red|penalty_won|penalty_commited|penalty_scored|penalty_missed|penalty_saved|avg_game_rating|(duels_won / duels_total)|(dribbles_success / dribbles_attempts)|(game_lineups / game_appearances)|(passes_total / (game_minutes / 90))|(passes_key / (game_minutes / 90))|(tackles_blocks / (game_minutes / 90))|(tackles_interceptions / (game_minutes / 90))|(duels_total / (game_minutes / 90))|(dribbles_attempts / (game_minutes / 90))|       total_games|(total_shots / (game_minutes / 90))|(shots_on / (game_minutes / 90))|(goals_assists / (game_minutes / 90))|(passes_key / passes_total)|(shots_on / total_shots)|(goals_assists / passes_key)|(fouls_drawn / (game_minutes / 90))|(fouls_committed / (game_minutes / 90))|(cards_yellow / (game_minutes / 90))|(cards_yellow / fouls_committed)|(cards_yellowred / (game_minutes / 90))|(cards_red / fouls_committed)|(total_goals / shots_on)|field_score|total_attack_points|\n",
      "+-----------------+----------------+-----------------+------------+------------------+----------+---------+-------+---------+-------------+----------------+------------+------------+-----------+-------------+-----------+------------+------+-------+---------+-----------+--------+-----------+--------------+-------------+-----------+------------+----------+---------------+-------------+--------------+---------------------+-----------+---------+-----------------+----------------+-------------+-----------+---------------+------------+---------------+---------+-----------+----------------+--------------+--------------+-------------+---------------+-------------------------+--------------------------------------+---------------------------------+------------------------------------+----------------------------------+--------------------------------------+---------------------------------------------+-----------------------------------+-----------------------------------------+------------------+-----------------------------------+--------------------------------+-------------------------------------+---------------------------+------------------------+----------------------------+-----------------------------------+---------------------------------------+------------------------------------+--------------------------------+---------------------------------------+-----------------------------+------------------------+-----------+-------------------+\n",
      "|Manchester United|          Marcus|         Rashford|  1997-10-31|           England|        26|      909|     33|       39|         2023|              24|          20|        1741|       NULL|     Attacker|   6.920833|       false|     4|     11|        4|         33|      17|          5|             0|            2|       NULL|         516|        20|             16|           13|             1|                    3|        202|       84|               84|              41|         NULL|         18|              9|           2|              0|        0|       NULL|            NULL|             1|             0|         NULL|    6.796310625|       0.4158415841584158|                    0.4880952380952381|               0.8333333333333334|                  26.674325100516942|                1.0338885697874785|                  0.051694428489373924|                          0.15508328546812175|                 10.442274554853531|                        4.342331993107409|19.344444444444445|                 1.7059161401493395|              0.8788052843193567|                  0.10338885697874785|        0.03875968992248062|      0.5151515151515151|                         0.1|                 0.9304997128087306|                     0.4652498564043653|                 0.10338885697874785|              0.2222222222222222|                                    0.0|                          0.0|     0.29411764705882354|          4|                  7|\n",
      "|Manchester United|          Rasmus|  Winther Højlund|  2003-02-04|           Denmark|        21|   288006|     33|       39|         2023|              20|          17|        1474|       NULL|     Attacker|   6.875000|       false|     3|     12|        3|         25|      16|          7|             0|            2|       NULL|         265|        17|             10|            9|          NULL|                    1|        149|       60|               21|              12|         NULL|         22|             10|           2|              0|        0|       NULL|            NULL|             0|             0|         NULL|    6.796310625|      0.40268456375838924|                    0.5714285714285714|                             0.85|                   16.18046132971506|                1.0379918588873813|                                  NULL|                           0.0610583446404342|                  9.097693351424695|                        1.282225237449118|16.377777777777776|                 1.5264586160108549|              0.9769335142469472|                   0.1221166892808684|        0.06415094339622641|                    0.64|         0.11764705882352941|                 1.3432835820895523|                     0.6105834464043419|                  0.1221166892808684|                             0.2|                                    0.0|                          0.0|                  0.4375|          7|                  9|\n",
      "|Manchester United|  Antony Matheus|       dos Santos|  2000-02-24|            Brazil|        24|     9971|     33|       39|         2023|              19|          11|         930|       NULL|     Attacker|   6.847368|       false|     8|     10|       10|         13|       6|          0|             0|         NULL|       NULL|         397|        16|             17|           28|             1|                    8|        146|       68|               42|              17|         NULL|         23|             11|           3|              0|        0|       NULL|            NULL|             0|             0|         NULL|    6.796310625|       0.4657534246575342|                   0.40476190476190477|               0.5789473684210527|                   38.41935483870967|                1.5483870967741935|                    0.0967741935483871|                           0.7741935483870968|                 14.129032258064516|                        4.064516129032258|10.333333333333334|                 1.2580645161290323|              0.5806451612903225|                                 NULL|        0.04030226700251889|     0.46153846153846156|                        NULL|                  2.225806451612903|                      1.064516129032258|                 0.29032258064516125|              0.2727272727272727|                                    0.0|                          0.0|                     0.0|          0|               NULL|\n",
      "|Manchester United|       Alejandro|Garnacho Ferreyra|  2004-07-01|         Argentina|        19|   284324|     33|       39|         2023|              23|          17|        1519|       NULL|     Attacker|   7.108695|       false|     6|     11|        8|         37|      15|          5|             0|            3|       NULL|         489|        32|             16|           14|             1|                   10|        218|       88|               76|              32|         NULL|         36|             16|           4|              0|        0|       NULL|            NULL|             0|             0|         NULL|    6.796310625|       0.4036697247706422|                   0.42105263157894735|               0.7391304347826086|                  28.973008558262016|                1.8959842001316658|                  0.059249506254114556|                           0.5924950625411456|                 12.916392363396973|                        4.502962475312706|16.877777777777776|                 2.1922317314022384|              0.8887425938117183|                  0.17774851876234365|          0.065439672801636|     0.40540540540540543|                     0.09375|                  2.132982225148124|                     0.9479921000658329|                 0.23699802501645822|                            0.25|                                    0.0|                          0.0|      0.3333333333333333|          5|                  8|\n",
      "|Manchester United|     Jadon Malik|           Sancho|  2000-03-25|           England|        23|       18|     33|       39|         2023|               3|           0|          76|       NULL|     Attacker|   6.533333|       false|     3|      0|        3|       NULL|    NULL|          0|             0|         NULL|       NULL|          41|         1|             11|            1|          NULL|                    1|         16|        6|                6|               3|         NULL|          2|           NULL|           0|              0|        0|       NULL|            NULL|             0|             0|         NULL|    6.796310625|                    0.375|                                   0.5|                              0.0|                   48.55263157894737|                1.1842105263157894|                                  NULL|                           1.1842105263157894|                  18.94736842105263|                        7.105263157894737|0.8444444444444444|                               NULL|                            NULL|                                 NULL|       0.024390243902439025|                    NULL|                        NULL|                 2.3684210526315788|                                   NULL|                                 0.0|                            NULL|                                    0.0|                         NULL|                    NULL|          0|               NULL|\n",
      "|Manchester United|  Anthony Jordan|          Martial|  1995-12-05|            France|        28|      908|     33|       39|         2023|              13|           5|         445|       NULL|     Attacker|   6.676923|       false|     8|      5|       11|          5|       4|          1|             0|         NULL|       NULL|         137|         6|              9|            4|          NULL|                 NULL|         53|       20|                4|               2|         NULL|          6|              3|           0|              0|        0|       NULL|            NULL|             0|             0|         NULL|    6.796310625|      0.37735849056603776|                                   0.5|              0.38461538461538464|                  27.707865168539325|                1.2134831460674156|                                  NULL|                                         NULL|                 10.719101123595506|                       0.8089887640449438| 4.944444444444445|                 1.0112359550561798|              0.8089887640449438|                                 NULL|       0.043795620437956206|                     0.8|                        NULL|                 1.2134831460674156|                     0.6067415730337078|                                 0.0|                             0.0|                                    0.0|                          0.0|                    0.25|          1|               NULL|\n",
      "+-----------------+----------------+-----------------+------------+------------------+----------+---------+-------+---------+-------------+----------------+------------+------------+-----------+-------------+-----------+------------+------+-------+---------+-----------+--------+-----------+--------------+-------------+-----------+------------+----------+---------------+-------------+--------------+---------------------+-----------+---------+-----------------+----------------+-------------+-----------+---------------+------------+---------------+---------+-----------+----------------+--------------+--------------+-------------+---------------+-------------------------+--------------------------------------+---------------------------------+------------------------------------+----------------------------------+--------------------------------------+---------------------------------------------+-----------------------------------+-----------------------------------------+------------------+-----------------------------------+--------------------------------+-------------------------------------+---------------------------+------------------------+----------------------------+-----------------------------------+---------------------------------------+------------------------------------+--------------------------------+---------------------------------------+-----------------------------+------------------------+-----------+-------------------+\n",
      "\n"
     ]
    }
   ],
   "source": [
    "manu_player_attacker_stat.show()"
   ]
  },
  {
   "cell_type": "code",
   "execution_count": 114,
   "metadata": {},
   "outputs": [],
   "source": [
    "manu_attacker_sidesline = spark.sql(\"\"\"SELECT ps.player_id, pd.player_firstname, pd.player_lastname,COUNT(ps.player_id) as player_count\n",
    "FROM england_player_stat p\n",
    "JOIN player_df pd ON p.player_id = pd.player_id\n",
    "JOIN player_sideline ps ON p.player_id = ps.player_id\n",
    "WHERE p.team_id = 33 AND p.game_position LIKE 'Attacker' AND p.game_appearances > 1 AND ps.sideline_start > '2023-08-10'\n",
    "GROUP BY ps.player_id, pd.player_firstname, pd.player_lastname\n",
    "\n",
    "\n",
    "\n",
    "\"\"\")"
   ]
  },
  {
   "cell_type": "code",
   "execution_count": 115,
   "metadata": {},
   "outputs": [
    {
     "name": "stdout",
     "output_type": "stream",
     "text": [
      "+---------+----------------+---------------+------------+\n",
      "|player_id|player_firstname|player_lastname|player_count|\n",
      "+---------+----------------+---------------+------------+\n",
      "|      909|          Marcus|       Rashford|           3|\n",
      "|      908|  Anthony Jordan|        Martial|           2|\n",
      "|     9971|  Antony Matheus|     dos Santos|           1|\n",
      "|       18|     Jadon Malik|         Sancho|           8|\n",
      "|   288006|          Rasmus|Winther Højlund|           4|\n",
      "+---------+----------------+---------------+------------+\n",
      "\n"
     ]
    }
   ],
   "source": [
    "manu_attacker_sidesline.show()"
   ]
  },
  {
   "cell_type": "markdown",
   "metadata": {},
   "source": [
    "- 래쉬포드는 26살은 젊은 공격수이다\n",
    "- 래쉬포드는 25경기 기준 24번을 출전하였고 시간상으로는 19경기를 뛰었다\n",
    "- 래쉬포드는 총 33개의 슈팅중에 17개의 유효슈팅을 기록하고 4골의 필드골 1골의 패널티킥을 넣고 2개의 어시스트를 기록하였다   \n",
    "- 래쉬포드는 90분기준 경기당 평균 1.7개의 슈팅을 시도하였다\n",
    "- 래쉬포드는 경기당 평균 유효슈팅 0.87개를 기록하고있다\n",
    "- 래쉬포드는 유효슈팅이 득점이 된 골은 29%정도 된다\n",
    "- 래쉬포드는 516개의 패스중에 20개의 키패스를 하고 16%의 정확도를 갖고있다\n",
    "- 래쉬포드는 90분기준 경기당 평균 26개의 패스를 한다\n",
    "- 래쉬포드는 90분기준 경기당 평균 1개의 키패스를 준다\n",
    "- 래쉬포드의 전체패스중 키패스비율은 3%로 팀내 공격수중 2번째로 낮다\n",
    "- 래쉬포드는 202개의 경합중 84개를 이기면서 경합승률 41%를 기록하고잇다\n",
    "- 래쉬포드는 90분경기기준 경기당 평균 10개의 경합을 시도한다\n",
    "- 래쉬포드는 드리블을 84번 시도하였고 41개의 드리블을 성공시키며 성공률 49%를 기록하고있다\n",
    "- 래쉬포드는 90분기준 경기당 평균 4번의 드리블 시도를 한다\n",
    "- 래쉬포드가 파울을 얻어낸 수는 경기당 평균 0.9개로 팀내 공격수에서 뒤에서 1등을 기록하고있다\n",
    "- 래쉬포드는 90분기준 경기당 평균 0.05개의 블록을 했다 이는 팀내 공격수 3위이다\n",
    "- 래쉬포드는 90분기준 경기당 평균 0.15개의 인터셉트을 했다 이는 팀내 공격수 뒤에서 3위이다\n",
    "- 래쉬포드가 파울을 한 수는 경기당 평균 0.9개로 팀내 공격수에서 뒤에서 1등을 기록하고있다\n",
    "- 회이룬은 21살의 어린 공격수이다\n",
    "- 회이룬은 25경기 기준 20경기를 뛰었고 시간상으로 16경기를 뛰었다\n",
    "- 회이룬은 25개의 슈팅을 하였고 16개의 유효슈팅을 만들고 그중 7개를 골로 만들었고 2개의 어시스트를 했다\n",
    "- 회이룬은 팀내 득점순위 1위 이고 공격포인트생성 1위이다\n",
    "- 회이룬은 90분경기 기준 경기당 평균 1.5개의 슈팅을 한다\n",
    "- 회이룬은 90분경기 기준 경기당 평균 0.9개의 유효슈팅을 한다 이는 팀내 공격수 1위 이다\n",
    "- 회이룬의 전체슈팅중 64%가 유효슈팅으로 기록되었다\n",
    "- 회이룬의 유효슈팅중 43% 득점으로 이어졌다\n",
    "- 회이룬은 256개의 패스중에 17개의 키패스를 하고 10%의 정확도를 기록하고있다\n",
    "- 회이룬은 90분 경기 기준 경기당 평균 16개의 패스를한다\n",
    "- 회이룬은 90분 경기 기준 경기당 평균 1개의 키패스를한다\n",
    "- 회이룬의 키패스는 전체 패스의 6%로 팀내 공격수 2위를 기록하고있다\n",
    "- 회이룬은 경합을 149회 시도하고 60개를 이겼다 이는 승률 40%이다\n",
    "- 회이룬은 경합을 90분기준 경기당 평균 9개의 경합을 시도한다\n",
    "- 회이룬은 드리블을 22번 시도하여 12번을 성공하였다 이는 57%의 성공률로 팀내 공격수 1위이다\n",
    "- 회이룬은 파울을 22번 얻어내면서 90분기준 경기당 1번이상의 파울을 얻어냈다\n",
    "- 회이룬은 10번의 파울을범하였고 옐로우 카드를 2번 얻었다\n",
    "- 안토니는 24살의 전성기로 가고있는 선수이다\n",
    "- 안토니는 19경기를 출장하고 11번을 선발선수로 뛰고 10경기정도의 시간을 뛰었다\n",
    "- 안토니는 13번의 슈팅을 시도하고 6개의 유효슈팅을 성공하고 0골을 득점하였다\n",
    "- 안토니는 90분경기 기준 경기당 평균 한개의 슈팅을 가져갔고 0.58개의 유효슈팅을 때렸다 이는 팀내 공격수 뒤에서 2번째이다\n",
    "- 안토니의 슈팅이 유효슈팅이 되는 비율은 전체 슈팅의 46%로 팀내 공격수 뒤에서 2번째를 기록하고있다\n",
    "- 안토니는 397개의 패스를 하고 16개의 키패를 하고 어시스트는 0개이다\n",
    "- 안토니의 패스 정확도는 17%이다\n",
    "- 안토니는 90분경기 기준 경기당 평균 38개의 패스를 했다\n",
    "- 안토니 90분경기 기준 경기당 평균 1개이상의의 키패스를 했다\n",
    "- 안토니의 전체패스중 키패스의 비율은 4% 팀내 공격수 뒤에서 3번째를 차지하고있다\n",
    "- 안토니의 태클은 1개의 블록과 8개의 인터센트를 기록하고있다\n",
    "- 안토니는 90분경기 기준 경기당 평균 0.09개의 블록과 0.77개의 인터셉트를 했다\n",
    "- 안토니는 경합을 146번을 시도하였고 68번 경합에서 이겼다 이는 승률 47% 팀내 공격수 1위이다\n",
    "- 안토니는 90분경기 기준 경기당 평균 14경합을 시도한다 이는 팀내 공격수 2위의 기록이다\n",
    "- 안토니는 드리블을 42번 시도하였고 17번 성공하였다 이는 성공률 40%이다\n",
    "- 안토니는 90분경기 기준 경기당 평균 4번의 드리블를 시도한다 이는 팀내 공격수 2위의 기록이다\n",
    "- 안토니는 23개의 파울을 얻어냈다 이는 90분기준 경기당 평균2개의 파울을 얻어낸 기록이다\n",
    "- 안토니는 11개의 파울을 했다 이는 90분기준 경기당 평균1개의 파울을 한다\n",
    "- 안토니의 파울의 비율중 옐로우카드받는 비율이 27% 팀내 공격수중 제일 높다\n",
    "- 가르나초 19살의 어린선수이다\n",
    "- 가르나초는 25경기중에서 23경기를 출전하고 17번 선발을 할정도로 중용받고있다\n",
    "- 가르나초는 시간상으로는 약 17경기정도의 시간을 뛰었다\n",
    "- 가르나초는 37개의 슈팅을 했고 15개의 유효슈팅을 성공하고 5골을 득점하였다 \n",
    "- 가르나초는 90분 기준 경기당 평균 2번의 슈팅을 시도하였다\n",
    "- 가르나초는 90분 기준 경기당 평균 0.88번의 유효슈팅을 하였다 이는 팀내 공격수 2위에 해당되는 수치이다\n",
    "- 가르나초는 유효슈팅중 골들어간 수치는 33%를 기록하고있다\n",
    "- 가르나초는 유효슈팅률은 약 41%정도 기록하고있다\n",
    "- 가르나초는 489번의 패스를 하고 32개의 키패스를 기록하고 패스정확도는 16%를 기록하고있다\n",
    "- 가르나초는 90분 기준 경기당 평균 28번의 패스를 하고 1개의 키패스를 준다\n",
    "- 가르나초는 90분 기준 경기당 평균 0.17번의 어시스트를 했다 이는 팀내 공격수 1위의 수치이다\n",
    "- 가르나초의 전체패스의 6%가 키패스로 팀내 공격수 1위의 수치이다\n",
    "- 가르나초는 1개의 블록을하고 이는 90분 기준 경기당 평균 0.05번의 블록를 했고 팀내 공격수 2위의 수치이다\n",
    "- 가르나초는 10개의 인터셉트를 하고 이는 90분 기준 경기당 평균 0.59번의 블록를 했고 팀내 공격수 3위의 수치이다\n",
    "- 가르나초는 경합을 218번 도전하였고 88번 승리하였다 이는 경합승률 40%를 나타낸다\n",
    "- 가르나초는 90분기준 경기당 평균 약 13번정도 경합하였다 이는 팀내 공격수 3위를 차지하는 기록이다\n",
    "- 가르나초는 76번의 드리블을 시도하였고 32번의 드릐블을 성공하였다 이는 42%에해당한다\n",
    "- 가르나초는 90분경기 기준 경기당 평균 4.5개의 드리블을 시도하였다\n",
    "- 가르나초가 파울을 얻어낸 갯수는 36번으로 팀내 공격수 1위를 기록하였다\n",
    "- 가르나초는 16번의 파울을 하고 4번의 경고를 받았다\n",
    "- 가르나초는 90분기준 경기당 평균 2번의 파울을 얻어내고 1번의 파울을 했다\n",
    "- 가르나초의 파울 25%를 경고를 받았다\n",
    "- 산초는 3번을 출전하였지만 선발을 한적은 없고 다 교체로 출전하여 1경기미만의 시간을 뛰었다\n",
    "- 산초는 슈팅을 시도한 기록이 없다\n",
    "- 산초는 41번의 패스를 하였고 1개의 키패스를 기록하였고 11%의 정확도를 기록하였다\n",
    "- 산초는 90분 경기 기준 경기당 평균 48번의 패스를 한 기록이지만 90분미만으로뛰어서 쌓인데이터가 부족하다 기록상으론 팀내 공격수 1위의 갯수이다\n",
    "- 산초는 90분 경기 기준 경기당 평균 1번의 키패스를 한 기록이다\n",
    "- 산초의 키패스 생성률은 2%로 팀내 공격수 뒤에서 1위를 기록하고있다\n",
    "- 산초는 1번의 인터셉트를 기록하였다\n",
    "- 산초는 16번의 경합중 6번을 승리하였다 이는 37.5% 승률을 기록하고있고 팀내 공격수 뒤에서 1등을 기록하고있다\n",
    "- 산초는 90분 경기 기준 경기당 평균 18번의 경합을 한 기록이다\n",
    "- 산초는 6번의 드리블을 시도하였고 3번을 성공하며 성공률 50%를 기록하였다\n",
    "- 산초는 90분 경기 기준 경기당 평균 7번의 드리블시도를 한 기록이다\n",
    "- 산초는 2개의 파울를 얻어냈다 \n",
    "- 마샬은 13경기를 출전하였지만 5경기만 선발로 뛴 로테이션 자원이고 약 5경기에 해당되는 시간을 뛰었다\n",
    "- 마샬은 5개의 슈팅을 때렸고 4개의 유효슈팅 1개의 골을 기록하였다\n",
    "- 마샬의 전체 슈팅의 80%가 유효슈팅으로 기록되었다\n",
    "- 마샬은 90분기준 경기당 평균 1번의 슈팅을 시도했다\n",
    "- 마샬은 90분기준 경기당 평균 0.8번의 유효슈팅을 기록하였다\n",
    "- 마샬은 총패스 137개를 하고 6번의 키패스 9%의 정확도로 정확도 팀내 공격수 뒤에서 1등을 기록하였다\n",
    "- 마샬은 90분경기기준 경기당평균 약 28번의 패스를 하였다\n",
    "- 마샬은 90분경기기준 경기당평균 약 1번의 키패스를 하였다\n",
    "- 마샬의 전체패스 갯수중 키패스 비율은 4% 팀내 3위를 기록하고있다\n",
    "- 마샬은 인터셉트와 블록은 기록하지 못했다\n",
    "- 마샬은 경합 53번중 20번을 승리하였다 이는 승률 37%로 팀내 공격수 뒤에서 2위를 기록하고있다\n",
    "- 마샬은 90분기준 경기당 평균 약 11번의 경합을 시도하였다\n",
    "- 마샬은 4번 시도하였고 2번을 성공하였다 성공률 50%를 기록하였다\n",
    "- 마샬은 90분경기 기준 경기당 평균 0.8번를 시도하였다 \n",
    "- 마샬은 6번의 파울을 얻어내었다\n",
    "- 마샬은 90분경기 기준 경기당 평균 1번의 파울을 얻어내었다\n",
    "- 마샬은 3번의 파울을 하엿다\n",
    "- 마샬은 90분경기 기준 경기당 평균 0.6번의 파울을 얻어내었다\n",
    "\n",
    "# 결론\n",
    "- 래쉬포드는 현재 주전 선수로 중용받고있지만 활약은 아쉽다\n",
    "- 래쉬포드의 골 결정력이 29%로 낮은 상태이다\n",
    "- 래쉬포드는 경합과 수비도 소극적으로하고있다\n",
    "- 래쉬포드는 드리블을 많이치지만 성공률을 높일필요가 있다\n",
    "- 래쉬포드는 현재 활약이 아쉽지만 지난 시즌에 했던것도 있고 좀 지켜봐야할 필요가 있다\n",
    "- 회이룬은 최전방 공격수로서 공격적 포인트를 어느정도 해주고있다\n",
    "- 드리블 성공율,파울얻어내기,유효슈팅 많은 공격적 부분이 팀내 공격수 상위권이 지키고이싸\n",
    "- 경합승률을 늘리고 버티고 정확한 패스를 준다면 좀더 좋은 선수가 될것이다\n",
    "- 회이룬은 어린선수 유망주로서 첫시즌인 만큼 어느정도 괜찮게 활약하고있다\n",
    "- 안토니는 적극적인 선수이다 경합이며 패스시도며 드리블시도면 높은 수치를 갖고있다\n",
    "- 하지만 안토니는 드리블성공률이높지않으며 패스 성공률도 낮다 또한 공격수로서 제일 중요한 공격포인트가 0개이다\n",
    "- 2년차로서 안토니는 판매를 하는것이 좋을거같다\n",
    "- 가르나초는 어린나이에 맨체스터 유나이티드에서 중용을 받고있으면서 좋은 활약을 하고있다\n",
    "- 가르나초는 팀내에서 공격포인트 2위를 기록하고있고 어시스트는 3개를하면서 팀내 2위를 기록하고있다 또한 활발하게 움직이면서 파울을 많이 얻어내고있다\n",
    "- 가르나초는 팀내 선수중에 질좋은 패스를 주고있다\n",
    "- 산초는 74분을 뛰었지만 뛰는 중에 슈팅을 기록을 못한정도로 안좋은 활약을 했었다\n",
    "- 산초의 74분 기록중 공격 생성력도 안좋아 키패스 갯수도 적고 슈팅을 못하였다\n",
    "- 산초의 74분 중에 경합 성공률도 가장낮고 태클 한번에 인터셉트 한번만 할 정도로 수비적으로도 도움이 크게되지않는다\n",
    "- 산초는 팀내 공격서들중 제일많이 시도한 기록을 갖고있다\n",
    "- 산초는 판매를 하는게 좋다다\n",
    "- 마샬은 유효슈팅 생성률은 좋지만 전체적으로 게으르다\n",
    "- 마샬은 경합승률,인터셉트,블록,드리블시도횟수, 파울얻어냄등을 팀내 공격수안에서 하위권을 기록하였다\n",
    "- 마샬을 판매를 할 필요가 있다\n",
    "- 윙포워드와 최전방 공격수의 영입이 필요하다"
   ]
  },
  {
   "cell_type": "markdown",
   "metadata": {},
   "source": [
    "# 전체결론\n",
    "- 20경기 이상뛴 선수가 몇명 없을 만큼 부상과 경기력에 큰영향이 있다\n",
    "- 수비는 윙백포지션에는 수비형에 가까운 선수를 영입하면서 상대에 따라서 공격적으로 할때와 수비적으로 할때같은 다양한 전술을 사용할수있으므로 윙백선수를 영입하는게 좋다\n",
    "- 중앙수비는 린델로프의 활약도가 약하므로 판매를하고 새로운 수비수 한명을 영입하는게 좋을것이다 30대이상인 선수를 주전으로 쓰기에는 오랫동안 사용을 못하니 미래를 위해서라도 중앙수비수 영입이 필요하다\n",
    "- 수비형 미드필더 한명을 영입하므로 경합에서 공을 따고 상대방 공격에서 블록이든 인터셉트든 수비쪽에서 더 도움을 줄수잇는 선수가 있으면 페르난데스와 마운트를 지원할수있을것이다\n",
    "- 공격수들중에 경기당 슈팅갯수를 2개 이상 가져간 공격수는 가르나초 한명밖에 없다 이는 골넣은 기회도 그렇게 많지 않았다는 뜻이다.\n",
    "- 윙어 공격수를 영입할 필요가 있다\n",
    "- 맨체스터 유나이티드 공격진에는 공격포인트가 10개가 넘는 선수가 한명도 없다\n",
    "- 안토니와 산초 마샬을 판매를 하고 드리블로 사이드를 뚫을수있는 윙어와 회이룬을 도움을 줄수있는 최전방 공격수 한명씩 영입해야한다\n",
    "- 감독 전술때문인지 맨체스터 유나이티드의 패스 정확도가 전체적으로 낮다 50%넘는선수는 없다.\n"
   ]
  },
  {
   "cell_type": "code",
   "execution_count": 116,
   "metadata": {},
   "outputs": [],
   "source": [
    "world_player_defender_suggest = spark.sql(\"\"\"With players as(SELECT DISTINCT tf.team_name, pf.player_firstname, pf.player_lastname,pf.player_birth,pf.player_nationality,TIMESTAMPDIFF(YEAR, pf.player_birth, CURDATE()) AS player_age, eps.*,duels_won/duels_total,dribbles_success/dribbles_attempts,game_lineups/game_appearances,passes_total/(game_minutes/90),passes_key/(game_minutes/90),tackles_blocks/(game_minutes/90),tackles_interceptions/(game_minutes/90),duels_total/(game_minutes/90),dribbles_attempts/(game_minutes/90),game_minutes/90 total_games,total_shots/(game_minutes/90),shots_on/(game_minutes/90),goals_assists/(game_minutes/90),passes_key/passes_total,shots_on/total_shots,goals_assists/passes_key,fouls_drawn/(game_minutes/90),fouls_committed/(game_minutes/90),cards_yellow/(game_minutes/90),cards_yellow/fouls_committed,cards_yellowred/(game_minutes/90),cards_red/fouls_committed,total_goals/shots_on, total_goals-penalty_scored as field_score, total_goals+goals_assists as total_attack_points\n",
    "FROM england_player_stat eps\n",
    "JOIN player_df pf ON eps.player_id = pf.player_id\n",
    "JOIN team_df tf ON eps.team_id = tf.team_id\n",
    "Union \n",
    "SELECT DISTINCT tf.team_name, pf.player_firstname, pf.player_lastname,pf.player_birth,pf.player_nationality,TIMESTAMPDIFF(YEAR, pf.player_birth, CURDATE()) AS player_age, sps.*,duels_won/duels_total,dribbles_success/dribbles_attempts,game_lineups/game_appearances,passes_total/(game_minutes/90),passes_key/(game_minutes/90),tackles_blocks/(game_minutes/90),tackles_interceptions/(game_minutes/90),duels_total/(game_minutes/90),dribbles_attempts/(game_minutes/90),game_minutes/90 total_games,total_shots/(game_minutes/90),shots_on/(game_minutes/90),goals_assists/(game_minutes/90),passes_key/passes_total,shots_on/total_shots,goals_assists/passes_key,fouls_drawn/(game_minutes/90),fouls_committed/(game_minutes/90),cards_yellow/(game_minutes/90),cards_yellow/fouls_committed,cards_yellowred/(game_minutes/90),cards_red/fouls_committed,total_goals/shots_on, total_goals-penalty_scored as field_score, total_goals+goals_assists as total_attack_points\n",
    "from spain_player_stat sps\n",
    "JOIN player_df pf ON sps.player_id = pf.player_id\n",
    "JOIN team_df tf ON sps.team_id = tf.team_id\n",
    "\n",
    "Union \n",
    "SELECT DISTINCT tf.team_name, pf.player_firstname, pf.player_lastname,pf.player_birth,pf.player_nationality,TIMESTAMPDIFF(YEAR, pf.player_birth, CURDATE()) AS player_age, ips.*,duels_won/duels_total,dribbles_success/dribbles_attempts,game_lineups/game_appearances,passes_total/(game_minutes/90),passes_key/(game_minutes/90),tackles_blocks/(game_minutes/90),tackles_interceptions/(game_minutes/90),duels_total/(game_minutes/90),dribbles_attempts/(game_minutes/90),game_minutes/90 total_games,total_shots/(game_minutes/90),shots_on/(game_minutes/90),goals_assists/(game_minutes/90),passes_key/passes_total,shots_on/total_shots,goals_assists/passes_key,fouls_drawn/(game_minutes/90),fouls_committed/(game_minutes/90),cards_yellow/(game_minutes/90),cards_yellow/fouls_committed,cards_yellowred/(game_minutes/90),cards_red/fouls_committed,total_goals/shots_on, total_goals-penalty_scored as field_score, total_goals+goals_assists as total_attack_points\n",
    "from italy_player_stat ips\n",
    "JOIN player_df pf ON ips.player_id = pf.player_id\n",
    "JOIN team_df tf ON ips.team_id = tf.team_id\n",
    "\n",
    "Union \n",
    "SELECT DISTINCT tf.team_name, pf.player_firstname, pf.player_lastname,pf.player_birth,pf.player_nationality,TIMESTAMPDIFF(YEAR, pf.player_birth, CURDATE()) AS player_age, gps.*,duels_won/duels_total,dribbles_success/dribbles_attempts,game_lineups/game_appearances,passes_total/(game_minutes/90),passes_key/(game_minutes/90),tackles_blocks/(game_minutes/90),tackles_interceptions/(game_minutes/90),duels_total/(game_minutes/90),dribbles_attempts/(game_minutes/90),game_minutes/90 total_games,total_shots/(game_minutes/90),shots_on/(game_minutes/90),goals_assists/(game_minutes/90),passes_key/passes_total,shots_on/total_shots,goals_assists/passes_key,fouls_drawn/(game_minutes/90),fouls_committed/(game_minutes/90),cards_yellow/(game_minutes/90),cards_yellow/fouls_committed,cards_yellowred/(game_minutes/90),cards_red/fouls_committed,total_goals/shots_on, total_goals-penalty_scored as field_score, total_goals+goals_assists as total_attack_points\n",
    "from germany_player_stat gps\n",
    "JOIN player_df pf ON gps.player_id = pf.player_id\n",
    "JOIN team_df tf ON gps.team_id = tf.team_id\n",
    "\n",
    "Union \n",
    "SELECT DISTINCT tf.team_name, pf.player_firstname, pf.player_lastname, pf.player_birth, pf.player_nationality, TIMESTAMPDIFF(YEAR, pf.player_birth, CURDATE()) AS player_age, fps.*, duels_won/duels_total, dribbles_success/dribbles_attempts, game_lineups/game_appearances, passes_total/(game_minutes/90), passes_key/(game_minutes/90), tackles_blocks/(game_minutes/90), tackles_interceptions/(game_minutes/90), duels_total/(game_minutes/90), dribbles_attempts/(game_minutes/90), game_minutes/90 total_games, total_shots/(game_minutes/90), shots_on/(game_minutes/90), goals_assists/(game_minutes/90), passes_key/passes_total, shots_on/total_shots, goals_assists/passes_key, fouls_drawn/(game_minutes/90), fouls_committed/(game_minutes/90), cards_yellow/(game_minutes/90), cards_yellow/fouls_committed, cards_yellowred/(game_minutes/90), cards_red/fouls_committed, total_goals/shots_on, total_goals-penalty_scored as field_score, total_goals+goals_assists as total_attack_points\n",
    "FROM france_player_stat fps\n",
    "JOIN player_df pf ON fps.player_id = pf.player_id\n",
    "JOIN team_df tf ON fps.team_id = tf.team_id)\n",
    "                                          \n",
    "select * from players\n",
    "WHERE game_position LIKE 'Defender' AND game_minutes/90 > 12 AND tackles_blocks/(game_minutes/90)>0.55 AND tackles_interceptions/(game_minutes/90) >0.55 AND dribbles_attempts/(game_minutes/90)> 1;\n",
    "\n",
    "\n",
    "\"\"\")"
   ]
  },
  {
   "cell_type": "code",
   "execution_count": 117,
   "metadata": {},
   "outputs": [
    {
     "name": "stderr",
     "output_type": "stream",
     "text": [
      "24/03/12 16:04:17 WARN DAGScheduler: Broadcasting large task binary with size 1187.1 KiB\n"
     ]
    },
    {
     "name": "stdout",
     "output_type": "stream",
     "text": [
      "+-----------------+--------------------+--------------------+------------+------------------+----------+---------+-------+---------+-------------+----------------+------------+------------+-----------+-------------+-----------+------------+------+-------+---------+-----------+--------+-----------+--------------+-------------+-----------+------------+----------+---------------+-------------+--------------+---------------------+-----------+---------+-----------------+----------------+-------------+-----------+---------------+------------+---------------+---------+-----------+----------------+--------------+--------------+-------------+-------------------------+--------------------------------------+---------------------------------+------------------------------------+----------------------------------+--------------------------------------+---------------------------------------------+-----------------------------------+-----------------------------------------+------------------+-----------------------------------+--------------------------------+-------------------------------------+---------------------------+------------------------+----------------------------+-----------------------------------+---------------------------------------+------------------------------------+--------------------------------+---------------------------------------+-----------------------------+------------------------+-----------+-------------------+\n",
      "|        team_name|    player_firstname|     player_lastname|player_birth|player_nationality|player_age|player_id|team_id|league_id|league_season|game_appearances|game_lineups|game_minutes|game_number|game_position|game_rating|game_captain|sub_in|sub_out|sub_bench|total_shots|shots_on|total_goals|goals_conceded|goals_assists|goals_saves|passes_total|passes_key|passes_accuracy|tackles_total|tackles_blocks|tackles_interceptions|duels_total|duels_won|dribbles_attempts|dribbles_success|dribbles_past|fouls_drawn|fouls_committed|cards_yellow|cards_yellowred|cards_red|penalty_won|penalty_commited|penalty_scored|penalty_missed|penalty_saved|(duels_won / duels_total)|(dribbles_success / dribbles_attempts)|(game_lineups / game_appearances)|(passes_total / (game_minutes / 90))|(passes_key / (game_minutes / 90))|(tackles_blocks / (game_minutes / 90))|(tackles_interceptions / (game_minutes / 90))|(duels_total / (game_minutes / 90))|(dribbles_attempts / (game_minutes / 90))|       total_games|(total_shots / (game_minutes / 90))|(shots_on / (game_minutes / 90))|(goals_assists / (game_minutes / 90))|(passes_key / passes_total)|(shots_on / total_shots)|(goals_assists / passes_key)|(fouls_drawn / (game_minutes / 90))|(fouls_committed / (game_minutes / 90))|(cards_yellow / (game_minutes / 90))|(cards_yellow / fouls_committed)|(cards_yellowred / (game_minutes / 90))|(cards_red / fouls_committed)|(total_goals / shots_on)|field_score|total_attack_points|\n",
      "+-----------------+--------------------+--------------------+------------+------------------+----------+---------+-------+---------+-------------+----------------+------------+------------+-----------+-------------+-----------+------------+------+-------+---------+-----------+--------+-----------+--------------+-------------+-----------+------------+----------+---------------+-------------+--------------+---------------------+-----------+---------+-----------------+----------------+-------------+-----------+---------------+------------+---------------+---------+-----------+----------------+--------------+--------------+-------------+-------------------------+--------------------------------------+---------------------------------+------------------------------------+----------------------------------+--------------------------------------+---------------------------------------------+-----------------------------------+-----------------------------------------+------------------+-----------------------------------+--------------------------------+-------------------------------------+---------------------------+------------------------+----------------------------+-----------------------------------+---------------------------------------+------------------------------------+--------------------------------+---------------------------------------+-----------------------------+------------------------+-----------+-------------------+\n",
      "|        Tottenham|       Pedro Antonio|       Porro Sauceda|  1999-09-13|             Spain|        24|    47519|     47|       39|         2023|              23|          23|        2068|       NULL|     Defender|   7.426086|       false|     0|      2|        1|         23|       6|          0|             0|            7|       NULL|        1215|        39|             41|           67|            13|                   23|        215|      118|               34|              20|         NULL|         20|             22|           3|              0|        0|       NULL|            NULL|             0|             0|         NULL|       0.5488372093023256|                    0.5882352941176471|                              1.0|                  52.877176015473886|                1.6972920696324951|                    0.5657640232108317|                           1.0009671179883946|                  9.356866537717602|                       1.4796905222437138|22.977777777777778|                 1.0009671179883946|              0.2611218568665377|                  0.30464216634429403|        0.03209876543209877|      0.2608695652173913|          0.1794871794871795|                 0.8704061895551257|                     0.9574468085106383|                 0.13056092843326886|             0.13636363636363635|                                    0.0|                          0.0|                     0.0|          0|                  7|\n",
      "|Nottingham Forest|             Murillo|Santiago Costa do...|  2002-07-04|            Brazil|        21|   363695|     65|       39|         2023|              19|          19|        1683|       NULL|     Defender|   6.910526|       false|     0|      2|        0|          9|       3|          0|             0|            1|       NULL|         858|         5|             34|           30|            16|                   19|        157|       76|               27|              16|         NULL|          5|             18|           2|              0|        0|       NULL|            NULL|             0|             0|         NULL|       0.4840764331210191|                    0.5925925925925926|                              1.0|                   45.88235294117647|               0.26737967914438504|                    0.8556149732620321|                           1.0160427807486632|                   8.39572192513369|                       1.4438502673796791|              18.7|                 0.4812834224598931|             0.16042780748663102|                 0.053475935828877004|       0.005827505827505828|      0.3333333333333333|                         0.2|                0.26737967914438504|                     0.9625668449197862|                 0.10695187165775401|              0.1111111111111111|                                    0.0|                          0.0|                     0.0|          0|                  1|\n",
      "|            Luton|       Amari'i Kyren|                Bell|  1994-05-05|           Jamaica|        29|    19466|   1359|       39|         2023|              20|          20|        1717|       NULL|     Defender|   6.635000|       false|     0|      2|        0|          2|       2|          0|             0|         NULL|       NULL|         786|         8|             31|           50|            15|                   25|        173|       96|               25|              10|         NULL|         16|             22|           0|              0|        0|       NULL|            NULL|             0|             0|         NULL|       0.5549132947976878|                                   0.4|                              1.0|                   41.19976703552708|                 0.419336051252184|                     0.786255096097845|                            1.310425160163075|                  9.068142108328479|                        1.310425160163075| 19.07777777777778|                  0.104834012813046|               0.104834012813046|                                 NULL|       0.010178117048346057|                     1.0|                        NULL|                  0.838672102504368|                     1.1531741409435061|                                 0.0|                             0.0|                                    0.0|                          0.0|                     0.0|          0|               NULL|\n",
      "|    Real Sociedad|               Aihen|      Muñoz Capellán|  1997-08-16|             Spain|        26|    47303|    548|      140|         2023|              21|          11|        1119|       NULL|     Defender|   6.833333|       false|    10|      1|       10|          6|       2|          0|             0|            2|       NULL|         508|        12|             18|           35|             8|                    8|        136|       75|               18|              10|         NULL|          7|             17|           2|              0|        0|       NULL|            NULL|             0|             0|         NULL|       0.5514705882352942|                    0.5555555555555556|               0.5238095238095238|                   40.85790884718499|                0.9651474530831099|                    0.6434316353887399|                           0.6434316353887399|                  10.93833780160858|                        1.447721179624665|12.433333333333334|                0.48257372654155495|             0.16085790884718498|                  0.16085790884718498|       0.023622047244094488|      0.3333333333333333|         0.16666666666666666|                 0.5630026809651475|                     1.3672922252010724|                 0.16085790884718498|             0.11764705882352941|                                    0.0|                          0.0|                     0.0|          0|                  2|\n",
      "|         AC Milan|Théo Bernard Fran...|           Hernández|  1997-10-06|            France|        26|    47300|    489|      135|         2023|              22|          22|        1970|       NULL|     Defender|   7.145454|       false|     0|      3|        0|         25|      10|          4|             0|            2|       NULL|        1252|        29|             49|           25|            13|                   15|        166|       92|               33|              16|         NULL|         30|             27|           8|              0|        0|       NULL|            NULL|             1|             1|         NULL|       0.5542168674698795|                   0.48484848484848486|                              1.0|                   57.19796954314721|                1.3248730964467006|                    0.5939086294416244|                           0.6852791878172588|                  7.583756345177665|                       1.5076142131979695| 21.88888888888889|                 1.1421319796954315|             0.45685279187817257|                  0.09137055837563451|         0.0231629392971246|                     0.4|         0.06896551724137931|                 1.3705583756345177|                      1.233502538071066|                 0.36548223350253806|              0.2962962962962963|                                    0.0|                          0.0|                     0.4|          3|                  6|\n",
      "|       Fiorentina|               Lucas|     Martínez Quarta|  1996-05-10|         Argentina|        27|     6000|    502|      135|         2023|              21|          19|        1659|       NULL|     Defender|   7.123809|       false|     2|      3|        4|         11|       6|          4|             0|         NULL|       NULL|        1174|         9|             47|           58|            12|                   24|        213|      117|               22|               9|         NULL|          8|             26|           5|              0|        0|       NULL|            NULL|             0|             0|         NULL|       0.5492957746478874|                    0.4090909090909091|               0.9047619047619048|                   63.68896925858951|                 0.488245931283906|                     0.650994575045208|                            1.301989150090416|                  11.55515370705244|                        1.193490054249548|18.433333333333334|                  0.596745027124774|               0.325497287522604|                                 NULL|       0.007666098807495741|      0.5454545454545454|                        NULL|                0.43399638336347196|                      1.410488245931284|                 0.27124773960216997|             0.19230769230769232|                                    0.0|                          0.0|      0.6666666666666666|          4|               NULL|\n",
      "|       Fiorentina|     Michael Olabode|              Kayode|  2004-07-10|             Italy|        19|   342022|    502|      135|         2023|              16|          13|        1258|       NULL|     Defender|   7.081250|       false|     3|      4|        8|          3|       1|          0|             0|            1|       NULL|         611|        11|             32|           33|             9|                   13|        110|       61|               25|              12|         NULL|          6|              9|           2|              0|        0|       NULL|            NULL|             0|             0|         NULL|       0.5545454545454546|                                  0.48|                           0.8125|                  43.712241653418126|                0.7869634340222575|                     0.643879173290938|                           0.9300476947535771|                  7.869634340222576|                       1.7885532591414943|13.977777777777778|                0.21462639109697934|             0.07154213036565978|                  0.07154213036565978|        0.01800327332242226|      0.3333333333333333|         0.09090909090909091|                 0.4292527821939587|                      0.643879173290938|                 0.14308426073131955|              0.2222222222222222|                                    0.0|                          0.0|                     0.0|          0|                  1|\n",
      "|      FC Augsburg|       Melingo Kevin|               Mbabu|  1995-04-19|       Switzerland|        28|      946|    170|       78|         2023|              16|          13|        1238|       NULL|     Defender|   6.787500|       false|     3|      4|        4|          1|    NULL|          0|             0|            2|       NULL|         383|        11|             16|           35|             8|                   14|        172|       86|               44|              19|         NULL|         17|             28|           3|              0|        0|       NULL|            NULL|             0|             0|         NULL|                      0.5|                    0.4318181818181818|                           0.8125|                   27.84329563812601|                0.7996768982229402|                    0.5815831987075929|                           1.0177705977382876|                 12.504038772213246|                       3.1987075928917608|13.755555555555556|                0.07269789983844911|                            NULL|                  0.14539579967689822|       0.028720626631853787|                    NULL|         0.18181818181818182|                  1.235864297253635|                      2.035541195476575|                 0.21809369951534732|             0.10714285714285714|                                    0.0|                          0.0|                    NULL|          0|                  2|\n",
      "|      SC Freiburg|        Kiliann Eric|           Sildillia|  2002-05-16|            France|        21|   191233|    160|       78|         2023|              20|          16|        1410|       NULL|     Defender|   6.747368|       false|     4|      2|        6|          3|       1|          0|             0|            1|       NULL|         779|        12|             30|           31|            10|                   14|        159|       74|               29|              13|         NULL|          7|             22|           2|              0|        0|       NULL|            NULL|             0|             0|         NULL|      0.46540880503144655|                    0.4482758620689655|                              0.8|                   49.72340425531915|                0.7659574468085106|                    0.6382978723404256|                           0.8936170212765958|                 10.148936170212766|                       1.8510638297872342|15.666666666666666|                0.19148936170212766|             0.06382978723404256|                  0.06382978723404256|        0.01540436456996149|      0.3333333333333333|         0.08333333333333333|                 0.4468085106382979|                     1.4042553191489362|                 0.12765957446808512|             0.09090909090909091|                                    0.0|                          0.0|                     0.0|          0|                  1|\n",
      "|             Metz|            Matthieu|                Udol|  1996-03-20|            France|        27|    20525|    112|       61|         2023|              20|          20|        1800|       NULL|     Defender|   7.045000|       false|     0|      0|        0|          9|       6|          2|             0|            3|       NULL|         670|        24|             25|           33|            12|                   32|        153|       77|               26|              12|         NULL|         14|             17|           3|              0|        0|       NULL|            NULL|             0|             0|         NULL|       0.5032679738562091|                   0.46153846153846156|                              1.0|                                33.5|                               1.2|                                   0.6|                                          1.6|                               7.65|                                      1.3|              20.0|                               0.45|                             0.3|                                 0.15|        0.03582089552238806|      0.6666666666666666|                       0.125|                                0.7|                                   0.85|                                0.15|             0.17647058823529413|                                    0.0|                          0.0|      0.3333333333333333|          2|                  5|\n",
      "|    Clermont Foot|               Alidu|               Seidu|  2000-06-04|             Ghana|        23|   196187|     99|       61|         2023|              14|          13|        1132|       NULL|     Defender|   6.950000|       false|     1|      0|        1|          5|       1|          0|             0|            1|       NULL|         696|         5|             45|           32|             7|                   25|        140|       87|               23|              11|         NULL|         29|             20|           5|              0|        1|       NULL|            NULL|             0|             0|         NULL|       0.6214285714285714|                    0.4782608695652174|               0.9285714285714286|                    55.3356890459364|               0.39752650176678445|                    0.5565371024734982|                           1.9876325088339224|                 11.130742049469966|                       1.8286219081272086|12.577777777777778|                0.39752650176678445|             0.07950530035335689|                  0.07950530035335689|       0.007183908045977011|                     0.2|                         0.2|                 2.3056537102473498|                     1.5901060070671378|                 0.39752650176678445|                            0.25|                                    0.0|                         0.05|                     0.0|          0|                  1|\n",
      "|             Lyon|             Clinton|Mukoni Mata Pedro...|  1992-11-07|            Angola|        31|       68|     80|       61|         2023|              18|          17|        1453|       NULL|     Defender|   6.905555|       false|     1|      4|        3|          4|    NULL|          0|             0|         NULL|       NULL|         934|         4|             44|           24|            11|                   26|        144|       84|               28|              20|         NULL|         25|             15|           3|              0|        0|       NULL|            NULL|             0|             0|         NULL|       0.5833333333333334|                    0.7142857142857143|               0.9444444444444444|                  57.852718513420506|               0.24776324845147968|                    0.6813489332415691|                            1.610461114934618|                  8.919476944253269|                       1.7343427391603576|16.144444444444446|                0.24776324845147968|                            NULL|                                 NULL|       0.004282655246252677|                    NULL|                        NULL|                  1.548520302821748|                     0.9291121816930488|                 0.18582243633860976|                             0.2|                                    0.0|                          0.0|                    NULL|          0|               NULL|\n",
      "|         Toulouse|              Mikkel|     Desler Puggaard|  1995-02-19|           Denmark|        29|    39229|     96|       61|         2023|              18|          15|        1271|       NULL|     Defender|   7.022222|       false|     3|      7|        4|          8|    NULL|          0|             0|            1|       NULL|         605|         6|             28|           13|             9|                   14|        100|       59|               17|              11|         NULL|         18|             13|           2|              0|        0|       NULL|            NULL|             0|             0|         NULL|                     0.59|                    0.6470588235294118|               0.8333333333333334|                  42.840283241542096|               0.42486231313926043|                    0.6372934697088907|                            0.991345397324941|                  7.081038552321007|                       1.2037765538945713|14.122222222222222|                 0.5664830841856806|                            NULL|                  0.07081038552321008|       0.009917355371900827|                    NULL|         0.16666666666666666|                 1.2745869394177813|                     0.9205350118017309|                 0.14162077104642015|             0.15384615384615385|                                    0.0|                          0.0|                    NULL|          0|                  1|\n",
      "|       Strasbourg|              Marvin|              Senaya|  2001-01-28|            France|        23|   191240|     95|       61|         2023|              21|          14|        1341|       NULL|     Defender|   6.965000|       false|     7|      3|        7|          5|    NULL|          0|             0|         NULL|       NULL|         523|        13|             21|           52|             9|                   29|        200|      125|               29|              12|         NULL|         41|             19|           3|              1|        0|       NULL|            NULL|             0|             0|         NULL|                    0.625|                   0.41379310344827586|               0.6666666666666666|                  35.100671140939596|                  0.87248322147651|                    0.6040268456375839|                           1.9463087248322146|                 13.422818791946309|                       1.9463087248322146|              14.9|                0.33557046979865773|                            NULL|                                 NULL|         0.0248565965583174|                    NULL|                        NULL|                  2.751677852348993|                     1.2751677852348993|                 0.20134228187919462|             0.15789473684210525|                    0.06711409395973154|                          0.0|                    NULL|          0|               NULL|\n",
      "+-----------------+--------------------+--------------------+------------+------------------+----------+---------+-------+---------+-------------+----------------+------------+------------+-----------+-------------+-----------+------------+------+-------+---------+-----------+--------+-----------+--------------+-------------+-----------+------------+----------+---------------+-------------+--------------+---------------------+-----------+---------+-----------------+----------------+-------------+-----------+---------------+------------+---------------+---------+-----------+----------------+--------------+--------------+-------------+-------------------------+--------------------------------------+---------------------------------+------------------------------------+----------------------------------+--------------------------------------+---------------------------------------------+-----------------------------------+-----------------------------------------+------------------+-----------------------------------+--------------------------------+-------------------------------------+---------------------------+------------------------+----------------------------+-----------------------------------+---------------------------------------+------------------------------------+--------------------------------+---------------------------------------+-----------------------------+------------------------+-----------+-------------------+\n",
      "\n"
     ]
    }
   ],
   "source": [
    "world_player_defender_suggest.show()"
   ]
  },
  {
   "cell_type": "markdown",
   "metadata": {},
   "source": [
    "- 센터백으로 수비수 반 헤케를 추천한다 23살이 어린나이와 브라이튼에서 꾸준히 출전하는 선수이다\n",
    "- 반 헤케는 90분기준 매경기 평균 8번정도의 경합을 도전하는데 경합 승률 67%를 기록중인 선수이고 블록과 인터센트를 90분기준 매경기 한개 이상씩해주는 선수이다\n",
    "- 반헤케는 수비수인데 파울을 얻어내는것도 13번으로 많다\n",
    "- 반 헤케는 수비수인데 90분기준 매경기 평기 97번의 패스를 할정도로 팀안에서 패스를 담당하고있다\n",
    "- 이미 잉글랜드에서 뛰고 있어서 적응시간이 덜 필요하다\n",
    "- 또 다른 센터백 수비수로는 자가두 선수를 추천한다 24살의 선수와 팀안에서 19번을 출전하였다\n",
    "- 자가두 선수는 90분경기 기준 매경기 평균 경합을 7번 이상 도전하는데 하는데 경합승률이 70%일 정도로 높은 경합승률을 가지고 있다\n",
    "- 자가두는 90분 기준 0.5개의 슈팅을 시도한다 유효슈팅은로 변환은 아쉽다\n",
    "- 파울을 많이 범하긴한다 하지만 경고카드한 1개일 정도로 위험한 파울은 하지않는다\n",
    "- 90분 경기 기준 매경기 평균 1개이상의 블로과 인터셉트를 한다\n",
    "- 왼쪽 수비수로 테오 에르난데스 선수를 추천한다\n",
    "- 테오 에르난데스는 26살의 전성기에 들어가는 선수이다\n",
    "- 왼쪽 윙백인데 공격포인트를 7개를 생성하였다\n",
    "- 키패스를 90분 경기 기준 매경기 1개이상씩 생성할정도로 공격적으로 큰 도움을 준다\n",
    "- 90기준 매경기 한번 이상의 드리블 시도가 있을정도로 활발한 공격을 도전한다\n",
    "- 경합을 90분기준 매경기 평규 7번씩 도전하며 승률은 55%이다\n",
    "- 인터셉트와 블록이 90분기준 매경기 평균 0.6개씩 하며 밸랜스가 있는 선수이다\n",
    "- 득점지원이 부족한 맨체스터 유나이티드에게는 테오 에르난데스가 좋은 선택지가 될것이다"
   ]
  },
  {
   "cell_type": "code",
   "execution_count": 118,
   "metadata": {},
   "outputs": [],
   "source": [
    "world_player_midfielder_suggest = spark.sql(\"\"\"With players as(SELECT DISTINCT tf.team_name, pf.player_firstname, pf.player_lastname,pf.player_birth,pf.player_nationality,TIMESTAMPDIFF(YEAR, pf.player_birth, CURDATE()) AS player_age, eps.*,duels_won/duels_total,dribbles_success/dribbles_attempts,game_lineups/game_appearances,passes_total/(game_minutes/90),passes_key/(game_minutes/90),tackles_blocks/(game_minutes/90),tackles_interceptions/(game_minutes/90),duels_total/(game_minutes/90),dribbles_attempts/(game_minutes/90),game_minutes/90 total_games,total_shots/(game_minutes/90),shots_on/(game_minutes/90),goals_assists/(game_minutes/90),passes_key/passes_total,shots_on/total_shots,goals_assists/passes_key,fouls_drawn/(game_minutes/90),fouls_committed/(game_minutes/90),cards_yellow/(game_minutes/90),cards_yellow/fouls_committed,cards_yellowred/(game_minutes/90),cards_red/fouls_committed,total_goals/shots_on, total_goals-penalty_scored as field_score, total_goals+goals_assists as total_attack_points\n",
    "FROM england_player_stat eps\n",
    "JOIN player_df pf ON eps.player_id = pf.player_id\n",
    "JOIN team_df tf ON eps.team_id = tf.team_id\n",
    "Union \n",
    "SELECT DISTINCT tf.team_name, pf.player_firstname, pf.player_lastname,pf.player_birth,pf.player_nationality,TIMESTAMPDIFF(YEAR, pf.player_birth, CURDATE()) AS player_age, sps.*,duels_won/duels_total,dribbles_success/dribbles_attempts,game_lineups/game_appearances,passes_total/(game_minutes/90),passes_key/(game_minutes/90),tackles_blocks/(game_minutes/90),tackles_interceptions/(game_minutes/90),duels_total/(game_minutes/90),dribbles_attempts/(game_minutes/90),game_minutes/90 total_games,total_shots/(game_minutes/90),shots_on/(game_minutes/90),goals_assists/(game_minutes/90),passes_key/passes_total,shots_on/total_shots,goals_assists/passes_key,fouls_drawn/(game_minutes/90),fouls_committed/(game_minutes/90),cards_yellow/(game_minutes/90),cards_yellow/fouls_committed,cards_yellowred/(game_minutes/90),cards_red/fouls_committed,total_goals/shots_on, total_goals-penalty_scored as field_score, total_goals+goals_assists as total_attack_points\n",
    "from spain_player_stat sps\n",
    "JOIN player_df pf ON sps.player_id = pf.player_id\n",
    "JOIN team_df tf ON sps.team_id = tf.team_id\n",
    "\n",
    "Union \n",
    "SELECT DISTINCT tf.team_name, pf.player_firstname, pf.player_lastname,pf.player_birth,pf.player_nationality,TIMESTAMPDIFF(YEAR, pf.player_birth, CURDATE()) AS player_age, ips.*,duels_won/duels_total,dribbles_success/dribbles_attempts,game_lineups/game_appearances,passes_total/(game_minutes/90),passes_key/(game_minutes/90),tackles_blocks/(game_minutes/90),tackles_interceptions/(game_minutes/90),duels_total/(game_minutes/90),dribbles_attempts/(game_minutes/90),game_minutes/90 total_games,total_shots/(game_minutes/90),shots_on/(game_minutes/90),goals_assists/(game_minutes/90),passes_key/passes_total,shots_on/total_shots,goals_assists/passes_key,fouls_drawn/(game_minutes/90),fouls_committed/(game_minutes/90),cards_yellow/(game_minutes/90),cards_yellow/fouls_committed,cards_yellowred/(game_minutes/90),cards_red/fouls_committed,total_goals/shots_on, total_goals-penalty_scored as field_score, total_goals+goals_assists as total_attack_points\n",
    "from italy_player_stat ips\n",
    "JOIN player_df pf ON ips.player_id = pf.player_id\n",
    "JOIN team_df tf ON ips.team_id = tf.team_id\n",
    "\n",
    "Union \n",
    "SELECT DISTINCT tf.team_name, pf.player_firstname, pf.player_lastname,pf.player_birth,pf.player_nationality,TIMESTAMPDIFF(YEAR, pf.player_birth, CURDATE()) AS player_age, gps.*,duels_won/duels_total,dribbles_success/dribbles_attempts,game_lineups/game_appearances,passes_total/(game_minutes/90),passes_key/(game_minutes/90),tackles_blocks/(game_minutes/90),tackles_interceptions/(game_minutes/90),duels_total/(game_minutes/90),dribbles_attempts/(game_minutes/90),game_minutes/90 total_games,total_shots/(game_minutes/90),shots_on/(game_minutes/90),goals_assists/(game_minutes/90),passes_key/passes_total,shots_on/total_shots,goals_assists/passes_key,fouls_drawn/(game_minutes/90),fouls_committed/(game_minutes/90),cards_yellow/(game_minutes/90),cards_yellow/fouls_committed,cards_yellowred/(game_minutes/90),cards_red/fouls_committed,total_goals/shots_on, total_goals-penalty_scored as field_score, total_goals+goals_assists as total_attack_points\n",
    "from germany_player_stat gps\n",
    "JOIN player_df pf ON gps.player_id = pf.player_id\n",
    "JOIN team_df tf ON gps.team_id = tf.team_id\n",
    "\n",
    "Union \n",
    "SELECT DISTINCT tf.team_name, pf.player_firstname, pf.player_lastname, pf.player_birth, pf.player_nationality, TIMESTAMPDIFF(YEAR, pf.player_birth, CURDATE()) AS player_age, fps.*, duels_won/duels_total, dribbles_success/dribbles_attempts, game_lineups/game_appearances, passes_total/(game_minutes/90), passes_key/(game_minutes/90), tackles_blocks/(game_minutes/90), tackles_interceptions/(game_minutes/90), duels_total/(game_minutes/90), dribbles_attempts/(game_minutes/90), game_minutes/90 total_games, total_shots/(game_minutes/90), shots_on/(game_minutes/90), goals_assists/(game_minutes/90), passes_key/passes_total, shots_on/total_shots, goals_assists/passes_key, fouls_drawn/(game_minutes/90), fouls_committed/(game_minutes/90), cards_yellow/(game_minutes/90), cards_yellow/fouls_committed, cards_yellowred/(game_minutes/90), cards_red/fouls_committed, total_goals/shots_on, total_goals-penalty_scored as field_score, total_goals+goals_assists as total_attack_points\n",
    "FROM france_player_stat fps\n",
    "JOIN player_df pf ON fps.player_id = pf.player_id\n",
    "JOIN team_df tf ON fps.team_id = tf.team_id)\n",
    "                                          \n",
    "select * from players\n",
    "WHERE game_position LIKE 'Midfielder' AND game_appearances > 13 AND tackles_blocks/(game_minutes/90)>0.6 AND tackles_interceptions/(game_minutes/90) >0.6 AND passes_key/(game_minutes/90)>0.5;\n",
    "\n",
    "\n",
    "\"\"\")"
   ]
  },
  {
   "cell_type": "code",
   "execution_count": 119,
   "metadata": {},
   "outputs": [
    {
     "name": "stderr",
     "output_type": "stream",
     "text": [
      "24/03/12 16:04:22 WARN DAGScheduler: Broadcasting large task binary with size 1054.7 KiB\n"
     ]
    },
    {
     "name": "stdout",
     "output_type": "stream",
     "text": [
      "+--------------------+----------------+---------------+------------+------------------+----------+---------+-------+---------+-------------+----------------+------------+------------+-----------+-------------+-----------+------------+------+-------+---------+-----------+--------+-----------+--------------+-------------+-----------+------------+----------+---------------+-------------+--------------+---------------------+-----------+---------+-----------------+----------------+-------------+-----------+---------------+------------+---------------+---------+-----------+----------------+--------------+--------------+-------------+-------------------------+--------------------------------------+---------------------------------+------------------------------------+----------------------------------+--------------------------------------+---------------------------------------------+-----------------------------------+-----------------------------------------+------------------+-----------------------------------+--------------------------------+-------------------------------------+---------------------------+------------------------+----------------------------+-----------------------------------+---------------------------------------+------------------------------------+--------------------------------+---------------------------------------+-----------------------------+------------------------+-----------+-------------------+\n",
      "|           team_name|player_firstname|player_lastname|player_birth|player_nationality|player_age|player_id|team_id|league_id|league_season|game_appearances|game_lineups|game_minutes|game_number|game_position|game_rating|game_captain|sub_in|sub_out|sub_bench|total_shots|shots_on|total_goals|goals_conceded|goals_assists|goals_saves|passes_total|passes_key|passes_accuracy|tackles_total|tackles_blocks|tackles_interceptions|duels_total|duels_won|dribbles_attempts|dribbles_success|dribbles_past|fouls_drawn|fouls_committed|cards_yellow|cards_yellowred|cards_red|penalty_won|penalty_commited|penalty_scored|penalty_missed|penalty_saved|(duels_won / duels_total)|(dribbles_success / dribbles_attempts)|(game_lineups / game_appearances)|(passes_total / (game_minutes / 90))|(passes_key / (game_minutes / 90))|(tackles_blocks / (game_minutes / 90))|(tackles_interceptions / (game_minutes / 90))|(duels_total / (game_minutes / 90))|(dribbles_attempts / (game_minutes / 90))|       total_games|(total_shots / (game_minutes / 90))|(shots_on / (game_minutes / 90))|(goals_assists / (game_minutes / 90))|(passes_key / passes_total)|(shots_on / total_shots)|(goals_assists / passes_key)|(fouls_drawn / (game_minutes / 90))|(fouls_committed / (game_minutes / 90))|(cards_yellow / (game_minutes / 90))|(cards_yellow / fouls_committed)|(cards_yellowred / (game_minutes / 90))|(cards_red / fouls_committed)|(total_goals / shots_on)|field_score|total_attack_points|\n",
      "+--------------------+----------------+---------------+------------+------------------+----------+---------+-------+---------+-------------+----------------+------------+------------+-----------+-------------+-----------+------------+------+-------+---------+-----------+--------+-----------+--------------+-------------+-----------+------------+----------+---------------+-------------+--------------+---------------------+-----------+---------+-----------------+----------------+-------------+-----------+---------------+------------+---------------+---------+-----------+----------------+--------------+--------------+-------------+-------------------------+--------------------------------------+---------------------------------+------------------------------------+----------------------------------+--------------------------------------+---------------------------------------------+-----------------------------------+-----------------------------------------+------------------+-----------------------------------+--------------------------------+-------------------------------------+---------------------------+------------------------+----------------------------+-----------------------------------+---------------------------------------+------------------------------------+--------------------------------+---------------------------------------+-----------------------------+------------------------+-----------+-------------------+\n",
      "|            Brighton|     Carlos Noom|  Quomah Baleba|  2004-01-03|          Cameroon|        20|   356041|     51|       39|         2023|              15|           7|         597|       NULL|   Midfielder|   6.720000|       false|     8|      6|       14|          7|       2|          0|             0|         NULL|       NULL|         391|         5|             24|           23|             4|                   11|         99|       50|                7|               4|         NULL|          9|             22|           4|              0|        0|       NULL|            NULL|             0|             0|         NULL|       0.5050505050505051|                    0.5714285714285714|               0.4666666666666667|                   58.94472361809045|                0.7537688442211055|                    0.6030150753768844|                            1.658291457286432|                 14.924623115577889|                       1.0552763819095476| 6.633333333333334|                 1.0552763819095476|              0.3015075376884422|                                 NULL|        0.01278772378516624|      0.2857142857142857|                        NULL|                 1.3567839195979898|                      3.316582914572864|                  0.6030150753768844|             0.18181818181818182|                                    0.0|                          0.0|                     0.0|          0|               NULL|\n",
      "|      Crystal Palace|   William James|         Hughes|  1995-04-17|           England|        28|    18806|     52|       39|         2023|              19|          15|        1288|       NULL|   Midfielder|   6.838888|       false|     4|      9|        5|          3|       2|          0|             0|         NULL|       NULL|         529|        17|             25|           40|             9|                   12|        147|       73|               10|               7|         NULL|         20|             23|           3|              0|        0|       NULL|            NULL|             0|             0|         NULL|       0.4965986394557823|                                   0.7|               0.7894736842105263|                  36.964285714285715|                1.1878881987577639|                    0.6288819875776397|                           0.8385093167701863|                 10.271739130434781|                       0.6987577639751552|14.311111111111112|                0.20962732919254656|             0.13975155279503104|                                 NULL|        0.03213610586011342|      0.6666666666666666|                        NULL|                 1.3975155279503104|                      1.607142857142857|                 0.20962732919254656|             0.13043478260869565|                                    0.0|                          0.0|                     0.0|          0|               NULL|\n",
      "|             Burnley|     Sander Gard|    Bolin Berge|  1998-02-14|            Norway|        26|     1934|     44|       39|         2023|              24|          21|        1838|       NULL|   Midfielder|   6.816666|       false|     3|      5|        3|         12|       3|          1|             0|            1|       NULL|         805|        13|             28|           44|            14|                   18|        213|      114|               18|              13|         NULL|         10|             30|           6|              1|        0|       NULL|            NULL|             0|             0|         NULL|       0.5352112676056338|                    0.7222222222222222|                            0.875|                  39.417845484221985|                0.6365614798694234|                    0.6855277475516867|                             0.88139281828074|                  10.42981501632209|                         0.88139281828074| 20.42222222222222|                   0.58759521218716|                0.14689880304679|                  0.04896626768226333|       0.016149068322981366|                    0.25|         0.07692307692307693|                 0.4896626768226333|                        1.4689880304679|                    0.29379760609358|                             0.2|                    0.04896626768226333|                          0.0|      0.3333333333333333|          1|                  2|\n",
      "|             Chelsea|    Moisés Isaac| Caicedo Corozo|  2001-11-02|           Ecuador|        22|   116117|     49|       39|         2023|              22|          20|        1766|       NULL|   Midfielder|   6.972727|       false|     2|      7|        2|          3|       1|          0|             0|            1|       NULL|        1249|        14|             52|           48|            14|                   17|        209|      113|               24|              12|         NULL|         31|             39|           7|              0|        0|       NULL|            NULL|             0|             0|         NULL|       0.5406698564593302|                                   0.5|               0.9090909090909091|                  63.652321630804074|                0.7134767836919592|                    0.7134767836919592|                           0.8663646659116647|                 10.651189127972819|                       1.2231030577576443|19.622222222222224|                0.15288788221970553|             0.05096262740656851|                  0.05096262740656851|        0.01120896717373899|      0.3333333333333333|         0.07142857142857142|                  1.579841449603624|                      1.987542468856172|                  0.3567383918459796|              0.1794871794871795|                                    0.0|                          0.0|                     0.0|          0|                  1|\n",
      "|           Brentford| Ogochukwu Frank|         Onyeka|  1998-01-01|           Nigeria|        26|    15799|     55|       39|         2023|              18|           7|         851|       NULL|   Midfielder|   6.777777|       false|    11|      4|       12|         11|       6|          0|             0|            1|       NULL|         302|         8|             13|           26|             6|                   18|        132|       70|               16|               9|         NULL|         26|             18|           6|              0|        0|       NULL|            NULL|             0|             0|         NULL|       0.5303030303030303|                                0.5625|               0.3888888888888889|                  31.938895417156285|                0.8460634547591069|                    0.6345475910693302|                           1.9036427732079906|                 13.960047003525265|                       1.6921269095182139| 9.455555555555556|                  1.163337250293772|              0.6345475910693302|                  0.10575793184488837|       0.026490066225165563|      0.5454545454545454|                       0.125|                 2.7497062279670974|                     1.9036427732079906|                  0.6345475910693302|              0.3333333333333333|                                    0.0|                          0.0|                     0.0|          0|                  1|\n",
      "|             Chelsea|   Enzo Jeremías|      Fernández|  2001-01-17|         Argentina|        23|     5996|     49|       39|         2023|              22|          20|        1717|       NULL|   Midfielder|   7.268181|       false|     2|      6|        2|         29|      14|          3|             0|         NULL|       NULL|        1340|        20|             53|           41|            12|                   15|        208|      107|               33|              19|         NULL|         31|             27|           6|              0|        0|       NULL|            NULL|             1|             1|         NULL|       0.5144230769230769|                    0.5757575757575758|               0.9090909090909091|                   70.23878858474082|                  1.04834012813046|                     0.629004076878276|                            0.786255096097845|                 10.902737332556784|                        1.729761211415259| 19.07777777777778|                  1.520093185789167|               0.733838089691322|                                 NULL|       0.014925373134328358|      0.4827586206896552|                        NULL|                 1.6249271986022131|                      1.415259172976121|                   0.314502038439138|              0.2222222222222222|                                    0.0|                          0.0|     0.21428571428571427|          2|               NULL|\n",
      "|     Atletico Madrid|            Saúl|Ñíguez Esclapez|  1994-11-21|             Spain|        29|       48|    530|      140|         2023|              24|          12|        1113|       NULL|   Midfielder|   7.065217|       false|    12|      7|       12|         10|       3|          0|             0|            4|       NULL|         549|        12|             18|           55|             8|                   12|        194|      113|               13|               8|         NULL|         11|             29|           6|              0|        0|       NULL|            NULL|             0|             0|         NULL|       0.5824742268041238|                    0.6153846153846154|                              0.5|                   44.39353099730458|                0.9703504043126684|                    0.6469002695417789|                           0.9703504043126684|                  15.68733153638814|                       1.0512129380053907|12.366666666666667|                 0.8086253369272237|              0.2425876010781671|                  0.32345013477088946|        0.02185792349726776|                     0.3|          0.3333333333333333|                  0.889487870619946|                     2.3450134770889486|                  0.4851752021563342|             0.20689655172413793|                                    0.0|                          0.0|                     0.0|          0|                  4|\n",
      "|          Villarreal|        Santiago| Comesaña Veiga|  1996-10-05|             Spain|        27|    47541|    533|      140|         2023|              17|          11|         956|       NULL|   Midfielder|   6.770588|       false|     6|      7|       11|          8|       3|          0|             0|         NULL|       NULL|         487|         6|             25|           25|             7|                   16|        135|       69|               16|               7|         NULL|         15|             21|           6|              0|        0|       NULL|            NULL|             0|             0|         NULL|       0.5111111111111111|                                0.4375|               0.6470588235294118|                   45.84728033472803|                0.5648535564853556|                    0.6589958158995817|                           1.5062761506276152|                 12.709205020920503|                       1.5062761506276152|10.622222222222222|                 0.7531380753138076|              0.2824267782426778|                                 NULL|       0.012320328542094456|                   0.375|                        NULL|                 1.4121338912133892|                     1.9769874476987448|                  0.5648535564853556|              0.2857142857142857|                                    0.0|                          0.0|                     0.0|          0|               NULL|\n",
      "|              Torino|           Karol|        Linetty|  1995-02-02|            Poland|        29|     3009|    503|      135|         2023|              17|          11|        1045|       NULL|   Midfielder|   6.800000|       false|     6|      6|       10|          7|       1|          0|             0|         NULL|       NULL|         506|        10|             25|           17|             8|                   13|        114|       48|                9|               5|         NULL|         13|             28|           8|              0|        0|       NULL|            NULL|             0|             0|         NULL|      0.42105263157894735|                    0.5555555555555556|               0.6470588235294118|                  43.578947368421055|                 0.861244019138756|                    0.6889952153110048|                           1.1196172248803828|                  9.818181818181818|                       0.7751196172248804| 11.61111111111111|                 0.6028708133971292|              0.0861244019138756|                                 NULL|       0.019762845849802372|     0.14285714285714285|                        NULL|                 1.1196172248803828|                      2.411483253588517|                  0.6889952153110048|              0.2857142857142857|                                    0.0|                          0.0|                     0.0|          0|               NULL|\n",
      "|       Werder Bremen|            Jens|Dalsgaard Stage|  1996-11-08|           Denmark|        27|    15592|    162|       78|         2023|              22|          21|        1876|       NULL|   Midfielder|   7.013636|       false|     1|      7|        1|         20|       6|          2|             0|            1|       NULL|         821|        20|             28|           46|            20|                   17|        243|      137|               12|               6|         NULL|         32|             46|           4|              0|        0|       NULL|            NULL|             0|             0|         NULL|       0.5637860082304527|                                   0.5|               0.9545454545454546|                   39.38699360341151|                0.9594882729211087|                    0.9594882729211087|                           0.8155650319829424|                 11.657782515991471|                       0.5756929637526652|20.844444444444445|                 0.9594882729211087|              0.2878464818763326|                  0.04797441364605544|       0.024360535931790498|                     0.3|                        0.05|                  1.535181236673774|                       2.20682302771855|                 0.19189765458422176|             0.08695652173913043|                                    0.0|                          0.0|      0.3333333333333333|          2|                  3|\n",
      "|         SC Freiburg|      Maximilian|      Eggestein|  1996-12-08|           Germany|        27|     2917|    160|       78|         2023|              22|          22|        1934|       NULL|   Midfielder|   6.795454|       false|     0|      3|        0|         11|       3|          0|             0|         NULL|       NULL|         916|        12|             34|           25|            13|                   20|        176|       89|               19|              11|         NULL|         17|             24|           4|              0|        0|       NULL|            NULL|             0|             0|         NULL|       0.5056818181818182|                    0.5789473684210527|                              1.0|                   42.62668045501552|                0.5584281282316443|                    0.6049638055842813|                           0.9307135470527406|                  8.190279214064116|                       0.8841778697001035|21.488888888888887|                 0.5118924508790073|             0.13960703205791108|                                 NULL|       0.013100436681222707|      0.2727272727272727|                        NULL|                 0.7911065149948294|                     1.1168562564632887|                  0.1861427094105481|             0.16666666666666666|                                    0.0|                          0.0|                     0.0|          0|               NULL|\n",
      "|Borussia Moncheng...|           Rocco|          Reitz|  2002-05-29|           Germany|        21|   203007|    163|       78|         2023|              22|          17|        1461|       NULL|   Midfielder|   6.968181|       false|     5|     13|        5|         13|       7|          4|             0|            2|       NULL|         651|        10|             22|           39|            13|                   26|        192|      101|               34|              16|         NULL|         40|             13|           1|              0|        0|       NULL|            NULL|             0|             0|         NULL|       0.5260416666666666|                   0.47058823529411764|               0.7727272727272727|                   40.10266940451745|                0.6160164271047227|                    0.8008213552361396|                           1.6016427104722792|                 11.827515400410677|                       2.0944558521560572|16.233333333333334|                 0.8008213552361396|              0.4312114989733059|                  0.12320328542094455|       0.015360983102918587|      0.5384615384615384|                         0.2|                  2.464065708418891|                     0.8008213552361396|                0.061601642710472276|             0.07692307692307693|                                    0.0|                          0.0|      0.5714285714285714|          4|                  6|\n",
      "|       Clermont Foot|          Yohann|         Magnin|  1997-06-21|            France|        26|    20778|     99|       61|         2023|              20|           9|         954|       NULL|   Midfielder|   6.690000|       false|    11|      3|       13|          9|       5|          1|             0|         NULL|       NULL|         476|         7|             20|           23|             7|                   11|        127|       62|                4|               1|         NULL|         14|             22|           0|              0|        0|       NULL|            NULL|             0|             0|         NULL|       0.4881889763779528|                                  0.25|                             0.45|                  44.905660377358494|                0.6603773584905661|                    0.6603773584905661|                           1.0377358490566038|                 11.981132075471699|                      0.37735849056603776|              10.6|                 0.8490566037735849|              0.4716981132075472|                                 NULL|       0.014705882352941176|      0.5555555555555556|                        NULL|                 1.3207547169811322|                     2.0754716981132075|                                 0.0|                             0.0|                                    0.0|                          0.0|                     0.2|          1|               NULL|\n",
      "|         Montpellier|           Joris|        Chotard|  2001-09-24|            France|        22|   128287|     82|       61|         2023|              21|          21|        1815|       NULL|   Midfielder|   7.057142|       false|     0|      5|        0|         11|       6|          0|             0|            2|       NULL|         776|        12|             29|           64|            18|                   30|        186|       96|                9|               3|         NULL|         12|             23|           5|              0|        0|       NULL|            NULL|             0|             0|         NULL|       0.5161290322580645|                    0.3333333333333333|                              1.0|                    38.4793388429752|                0.5950413223140496|                    0.8925619834710743|                            1.487603305785124|                  9.223140495867767|                      0.44628099173553715|20.166666666666668|                 0.5454545454545454|              0.2975206611570248|                  0.09917355371900825|       0.015463917525773196|      0.5454545454545454|         0.16666666666666666|                 0.5950413223140496|                      1.140495867768595|                 0.24793388429752064|             0.21739130434782608|                                    0.0|                          0.0|                     0.0|          0|                  2|\n",
      "+--------------------+----------------+---------------+------------+------------------+----------+---------+-------+---------+-------------+----------------+------------+------------+-----------+-------------+-----------+------------+------+-------+---------+-----------+--------+-----------+--------------+-------------+-----------+------------+----------+---------------+-------------+--------------+---------------------+-----------+---------+-----------------+----------------+-------------+-----------+---------------+------------+---------------+---------+-----------+----------------+--------------+--------------+-------------+-------------------------+--------------------------------------+---------------------------------+------------------------------------+----------------------------------+--------------------------------------+---------------------------------------------+-----------------------------------+-----------------------------------------+------------------+-----------------------------------+--------------------------------+-------------------------------------+---------------------------+------------------------+----------------------------+-----------------------------------+---------------------------------------+------------------------------------+--------------------------------+---------------------------------------+-----------------------------+------------------------+-----------+-------------------+\n",
      "\n"
     ]
    }
   ],
   "source": [
    "world_player_midfielder_suggest.show()"
   ]
  },
  {
   "cell_type": "markdown",
   "metadata": {},
   "source": [
    "- 수비형 미드필더 추천으로 달스가르드를 추천한다\n",
    "- 공격포인트를 3개를 만들어냈다\n",
    "- 경합을 90분기준 매경기 평균 11번하는데 승률56%를 보여준다\n",
    "- 키패스도 매경기 평균 1개 이상 보여줄 정도로 패스도 좋다\n",
    "- 블록과 태클이 90분기준 매경기 평균 0.95개와 0.81을 기록할 정도로 수비에서 좋은 활약을 보여주고있다\n",
    "- 90분경기기준 매경기 약 1개의 슈팅을 시도할 정도 공격력이 부족하지도않다\n",
    "- 파울을 46번 범하였는데 4개의 경고 카드를 받으면서 위험지역에서의 파울은 적은편이다\n",
    "- 분데스리가에서 뛰고있어서 새로운 리그에서 적응기간이 필요하다\n",
    "- 공격적인 선수가 많은 맨체스터 유나이티드에게 수비적인 선수를 추천한다"
   ]
  },
  {
   "cell_type": "code",
   "execution_count": 120,
   "metadata": {},
   "outputs": [],
   "source": [
    "world_player_forward_suggest = spark.sql(\"\"\"With players as(SELECT DISTINCT tf.team_name, pf.player_firstname, pf.player_lastname,pf.player_birth,pf.player_nationality,TIMESTAMPDIFF(YEAR, pf.player_birth, CURDATE()) AS player_age, eps.*,duels_won/duels_total,dribbles_success/dribbles_attempts,game_lineups/game_appearances,passes_total/(game_minutes/90),passes_key/(game_minutes/90),tackles_blocks/(game_minutes/90),tackles_interceptions/(game_minutes/90),duels_total/(game_minutes/90),dribbles_attempts/(game_minutes/90),game_minutes/90 total_games,total_shots/(game_minutes/90),shots_on/(game_minutes/90),goals_assists/(game_minutes/90),passes_key/passes_total,shots_on/total_shots,goals_assists/passes_key,fouls_drawn/(game_minutes/90),fouls_committed/(game_minutes/90),cards_yellow/(game_minutes/90),cards_yellow/fouls_committed,cards_yellowred/(game_minutes/90),cards_red/fouls_committed,total_goals/shots_on, total_goals-penalty_scored as field_score, total_goals+goals_assists as total_attack_points\n",
    "FROM england_player_stat eps\n",
    "JOIN player_df pf ON eps.player_id = pf.player_id\n",
    "JOIN team_df tf ON eps.team_id = tf.team_id\n",
    "Union \n",
    "SELECT DISTINCT tf.team_name, pf.player_firstname, pf.player_lastname,pf.player_birth,pf.player_nationality,TIMESTAMPDIFF(YEAR, pf.player_birth, CURDATE()) AS player_age, sps.*,duels_won/duels_total,dribbles_success/dribbles_attempts,game_lineups/game_appearances,passes_total/(game_minutes/90),passes_key/(game_minutes/90),tackles_blocks/(game_minutes/90),tackles_interceptions/(game_minutes/90),duels_total/(game_minutes/90),dribbles_attempts/(game_minutes/90),game_minutes/90 total_games,total_shots/(game_minutes/90),shots_on/(game_minutes/90),goals_assists/(game_minutes/90),passes_key/passes_total,shots_on/total_shots,goals_assists/passes_key,fouls_drawn/(game_minutes/90),fouls_committed/(game_minutes/90),cards_yellow/(game_minutes/90),cards_yellow/fouls_committed,cards_yellowred/(game_minutes/90),cards_red/fouls_committed,total_goals/shots_on, total_goals-penalty_scored as field_score, total_goals+goals_assists as total_attack_points\n",
    "from spain_player_stat sps\n",
    "JOIN player_df pf ON sps.player_id = pf.player_id\n",
    "JOIN team_df tf ON sps.team_id = tf.team_id\n",
    "\n",
    "Union \n",
    "SELECT DISTINCT tf.team_name, pf.player_firstname, pf.player_lastname,pf.player_birth,pf.player_nationality,TIMESTAMPDIFF(YEAR, pf.player_birth, CURDATE()) AS player_age, ips.*,duels_won/duels_total,dribbles_success/dribbles_attempts,game_lineups/game_appearances,passes_total/(game_minutes/90),passes_key/(game_minutes/90),tackles_blocks/(game_minutes/90),tackles_interceptions/(game_minutes/90),duels_total/(game_minutes/90),dribbles_attempts/(game_minutes/90),game_minutes/90 total_games,total_shots/(game_minutes/90),shots_on/(game_minutes/90),goals_assists/(game_minutes/90),passes_key/passes_total,shots_on/total_shots,goals_assists/passes_key,fouls_drawn/(game_minutes/90),fouls_committed/(game_minutes/90),cards_yellow/(game_minutes/90),cards_yellow/fouls_committed,cards_yellowred/(game_minutes/90),cards_red/fouls_committed,total_goals/shots_on, total_goals-penalty_scored as field_score, total_goals+goals_assists as total_attack_points\n",
    "from italy_player_stat ips\n",
    "JOIN player_df pf ON ips.player_id = pf.player_id\n",
    "JOIN team_df tf ON ips.team_id = tf.team_id\n",
    "\n",
    "Union \n",
    "SELECT DISTINCT tf.team_name, pf.player_firstname, pf.player_lastname,pf.player_birth,pf.player_nationality,TIMESTAMPDIFF(YEAR, pf.player_birth, CURDATE()) AS player_age, gps.*,duels_won/duels_total,dribbles_success/dribbles_attempts,game_lineups/game_appearances,passes_total/(game_minutes/90),passes_key/(game_minutes/90),tackles_blocks/(game_minutes/90),tackles_interceptions/(game_minutes/90),duels_total/(game_minutes/90),dribbles_attempts/(game_minutes/90),game_minutes/90 total_games,total_shots/(game_minutes/90),shots_on/(game_minutes/90),goals_assists/(game_minutes/90),passes_key/passes_total,shots_on/total_shots,goals_assists/passes_key,fouls_drawn/(game_minutes/90),fouls_committed/(game_minutes/90),cards_yellow/(game_minutes/90),cards_yellow/fouls_committed,cards_yellowred/(game_minutes/90),cards_red/fouls_committed,total_goals/shots_on, total_goals-penalty_scored as field_score, total_goals+goals_assists as total_attack_points\n",
    "from germany_player_stat gps\n",
    "JOIN player_df pf ON gps.player_id = pf.player_id\n",
    "JOIN team_df tf ON gps.team_id = tf.team_id\n",
    "\n",
    "Union \n",
    "SELECT DISTINCT tf.team_name, pf.player_firstname, pf.player_lastname, pf.player_birth, pf.player_nationality, TIMESTAMPDIFF(YEAR, pf.player_birth, CURDATE()) AS player_age, fps.*, duels_won/duels_total, dribbles_success/dribbles_attempts, game_lineups/game_appearances, passes_total/(game_minutes/90), passes_key/(game_minutes/90), tackles_blocks/(game_minutes/90), tackles_interceptions/(game_minutes/90), duels_total/(game_minutes/90), dribbles_attempts/(game_minutes/90), game_minutes/90 total_games, total_shots/(game_minutes/90), shots_on/(game_minutes/90), goals_assists/(game_minutes/90), passes_key/passes_total, shots_on/total_shots, goals_assists/passes_key, fouls_drawn/(game_minutes/90), fouls_committed/(game_minutes/90), cards_yellow/(game_minutes/90), cards_yellow/fouls_committed, cards_yellowred/(game_minutes/90), cards_red/fouls_committed, total_goals/shots_on, total_goals-penalty_scored as field_score, total_goals+goals_assists as total_attack_points\n",
    "FROM france_player_stat fps\n",
    "JOIN player_df pf ON fps.player_id = pf.player_id\n",
    "JOIN team_df tf ON fps.team_id = tf.team_id)\n",
    "                                          \n",
    "select * from players\n",
    "WHERE game_position LIKE 'Attacker' AND game_appearances > 13 AND (total_shots / (game_minutes / 90))>2 AND dribbles_attempts/(game_minutes/90)>3 AND  total_attack_points>10;\n",
    "\n",
    "\n",
    "\"\"\")"
   ]
  },
  {
   "cell_type": "code",
   "execution_count": 121,
   "metadata": {},
   "outputs": [
    {
     "name": "stderr",
     "output_type": "stream",
     "text": [
      "24/03/12 16:04:26 WARN DAGScheduler: Broadcasting large task binary with size 1050.3 KiB\n"
     ]
    },
    {
     "name": "stdout",
     "output_type": "stream",
     "text": [
      "+-------------------+--------------------+--------------------+------------+------------------+----------+---------+-------+---------+-------------+----------------+------------+------------+-----------+-------------+-----------+------------+------+-------+---------+-----------+--------+-----------+--------------+-------------+-----------+------------+----------+---------------+-------------+--------------+---------------------+-----------+---------+-----------------+----------------+-------------+-----------+---------------+------------+---------------+---------+-----------+----------------+--------------+--------------+-------------+-------------------------+--------------------------------------+---------------------------------+------------------------------------+----------------------------------+--------------------------------------+---------------------------------------------+-----------------------------------+-----------------------------------------+------------------+-----------------------------------+--------------------------------+-------------------------------------+---------------------------+------------------------+----------------------------+-----------------------------------+---------------------------------------+------------------------------------+--------------------------------+---------------------------------------+-----------------------------+------------------------+-----------+-------------------+\n",
      "|          team_name|    player_firstname|     player_lastname|player_birth|player_nationality|player_age|player_id|team_id|league_id|league_season|game_appearances|game_lineups|game_minutes|game_number|game_position|game_rating|game_captain|sub_in|sub_out|sub_bench|total_shots|shots_on|total_goals|goals_conceded|goals_assists|goals_saves|passes_total|passes_key|passes_accuracy|tackles_total|tackles_blocks|tackles_interceptions|duels_total|duels_won|dribbles_attempts|dribbles_success|dribbles_past|fouls_drawn|fouls_committed|cards_yellow|cards_yellowred|cards_red|penalty_won|penalty_commited|penalty_scored|penalty_missed|penalty_saved|(duels_won / duels_total)|(dribbles_success / dribbles_attempts)|(game_lineups / game_appearances)|(passes_total / (game_minutes / 90))|(passes_key / (game_minutes / 90))|(tackles_blocks / (game_minutes / 90))|(tackles_interceptions / (game_minutes / 90))|(duels_total / (game_minutes / 90))|(dribbles_attempts / (game_minutes / 90))|       total_games|(total_shots / (game_minutes / 90))|(shots_on / (game_minutes / 90))|(goals_assists / (game_minutes / 90))|(passes_key / passes_total)|(shots_on / total_shots)|(goals_assists / passes_key)|(fouls_drawn / (game_minutes / 90))|(fouls_committed / (game_minutes / 90))|(cards_yellow / (game_minutes / 90))|(cards_yellow / fouls_committed)|(cards_yellowred / (game_minutes / 90))|(cards_red / fouls_committed)|(total_goals / shots_on)|field_score|total_attack_points|\n",
      "+-------------------+--------------------+--------------------+------------+------------------+----------+---------+-------+---------+-------------+----------------+------------+------------+-----------+-------------+-----------+------------+------+-------+---------+-----------+--------+-----------+--------------+-------------+-----------+------------+----------+---------------+-------------+--------------+---------------------+-----------+---------+-----------------+----------------+-------------+-----------+---------------+------------+---------------+---------+-----------+----------------+--------------+--------------+-------------+-------------------------+--------------------------------------+---------------------------------+------------------------------------+----------------------------------+--------------------------------------+---------------------------------------------+-----------------------------------+-----------------------------------------+------------------+-----------------------------------+--------------------------------+-------------------------------------+---------------------------+------------------------+----------------------------+-----------------------------------+---------------------------------------+------------------------------------+--------------------------------+---------------------------------------+-----------------------------+------------------------+-----------+-------------------+\n",
      "|             Wolves|      Matheus Santos|   Carneiro da Cunha|  1999-05-27|            Brazil|        24|     1165|     39|       39|         2023|              24|          24|        1974|       NULL|     Attacker|   7.254166|       false|     0|     13|        0|         50|      31|          9|             0|            6|       NULL|         605|        25|             20|           24|             7|                   13|        289|      125|               98|              52|         NULL|         37|             19|           5|              0|        0|       NULL|            NULL|             1|             0|         NULL|      0.43252595155709345|                    0.5306122448979592|                              1.0|                  27.583586626139816|                1.1398176291793314|                    0.3191489361702128|                           0.5927051671732523|                  13.17629179331307|                        4.468085106382978|21.933333333333334|                 2.2796352583586628|              1.4133738601823709|                   0.2735562310030395|        0.04132231404958678|                    0.62|                        0.24|                 1.6869300911854104|                     0.8662613981762918|                 0.22796352583586627|              0.2631578947368421|                                    0.0|                          0.0|      0.2903225806451613|          8|                 15|\n",
      "|        Real Madrid|             Rodrygo|       Silva de Goes|  2001-01-09|            Brazil|        23|    10009|    541|      140|         2023|              25|          20|        1716|       NULL|     Attacker|   7.268000|       false|     5|     13|        5|         52|      24|          8|             0|            4|       NULL|         689|        33|             24|           11|          NULL|                    6|        204|       95|              102|              47|         NULL|         32|              9|           2|              0|        0|       NULL|            NULL|             0|             1|         NULL|      0.46568627450980393|                   0.46078431372549017|                              0.8|                   36.13636363636364|                1.7307692307692308|                                  NULL|                           0.3146853146853147|                   10.6993006993007|                         5.34965034965035|19.066666666666666|                 2.7272727272727275|              1.2587412587412588|                   0.2097902097902098|       0.047895500725689405|     0.46153846153846156|         0.12121212121212122|                 1.6783216783216783|                    0.47202797202797203|                  0.1048951048951049|              0.2222222222222222|                                    0.0|                          0.0|      0.3333333333333333|          8|                 12|\n",
      "|      Athletic Club|       Iñaki Arthuer|     Dannis Williams|  1994-06-15|             Ghana|        29|    47294|    531|      140|         2023|              22|          22|        1922|       NULL|     Attacker|   7.481818|       false|     0|      9|        0|         50|      33|          9|             0|            3|       NULL|         555|        36|             18|           19|             5|                   10|        228|      107|               77|              39|         NULL|         28|             19|           3|              0|        0|       NULL|            NULL|             0|             0|         NULL|       0.4692982456140351|                    0.5064935064935064|                              1.0|                  25.988553590010408|                1.6857440166493238|                    0.2341311134235172|                           0.4682622268470344|                 10.676378772112384|                       3.6056191467221645|21.355555555555554|                  2.341311134235172|              1.5452653485952135|                   0.1404786680541103|        0.06486486486486487|                    0.66|         0.08333333333333333|                 1.3111342351716961|                     0.8896982310093653|                  0.1404786680541103|             0.15789473684210525|                                    0.0|                          0.0|      0.2727272727272727|          9|                 12|\n",
      "|        Real Madrid|       Vinícius José|Paixão de Oliveir...|  2000-07-12|            Brazil|        23|      762|    541|      140|         2023|              16|          15|        1193|       NULL|     Attacker|   7.181250|       false|     1|     12|        2|         31|      19|          7|             0|            4|       NULL|         362|        18|             18|           10|          NULL|                 NULL|        205|       93|              110|              48|         NULL|         34|             15|           2|              0|        0|       NULL|            NULL|             0|             0|         NULL|      0.45365853658536587|                   0.43636363636363634|                           0.9375|                   27.30930427493713|                1.3579212070410729|                                  NULL|                                         NULL|                 15.465213746856662|                        8.298407376362112|13.255555555555556|                  2.338642078792959|              1.4333612740989101|                   0.3017602682313495|       0.049723756906077346|      0.6129032258064516|          0.2222222222222222|                  2.564962279966471|                     1.1316010058675607|                 0.15088013411567475|             0.13333333333333333|                                    0.0|                          0.0|      0.3684210526315789|          7|                 11|\n",
      "|            Bologna|      Joshua Orobosa|             Zirkzee|  2001-05-22|       Netherlands|        22|    70100|    500|      135|         2023|              24|          23|        2015|       NULL|     Attacker|   7.158333|       false|     1|     10|        1|         48|      26|          9|             0|            3|       NULL|         656|        33|             21|           24|             1|                    3|        254|       98|               89|              35|         NULL|         19|             22|           5|              0|        0|       NULL|            NULL|             1|             0|         NULL|       0.3858267716535433|                   0.39325842696629215|               0.9583333333333334|                  29.300248138957816|                1.4739454094292803|                   0.04466501240694789|                          0.13399503722084366|                 11.344913151364764|                       3.9751861042183623| 22.38888888888889|                 2.1439205955334986|              1.1612903225806452|                  0.13399503722084366|        0.05030487804878049|      0.5416666666666666|         0.09090909090909091|                 0.8486352357320099|                     0.9826302729528535|                 0.22332506203473945|             0.22727272727272727|                                    0.0|                          0.0|     0.34615384615384615|          8|                 12|\n",
      "|            AS Roma|      Paulo Exequiel|              Dybala|  1993-11-15|         Argentina|        30|      875|    497|      135|         2023|              17|          17|        1272|       NULL|     Attacker|   7.447058|       false|     0|     13|        1|         32|      17|          8|             0|            6|       NULL|         600|        31|             29|           16|          NULL|                    2|        153|       72|               47|              19|         NULL|         33|             10|           3|              0|        0|       NULL|            NULL|             5|             0|         NULL|      0.47058823529411764|                   0.40425531914893614|                              1.0|                   42.45283018867924|                2.1933962264150946|                                  NULL|                          0.14150943396226415|                 10.825471698113208|                       3.3254716981132075|14.133333333333333|                 2.2641509433962264|              1.2028301886792454|                  0.42452830188679247|       0.051666666666666666|                 0.53125|          0.1935483870967742|                 2.3349056603773586|                     0.7075471698113208|                 0.21226415094339623|                             0.3|                                    0.0|                          0.0|     0.47058823529411764|          3|                 14|\n",
      "|   Bayer Leverkusen|              Victor|       Okoh Boniface|  2000-12-23|           Nigeria|        23|    39071|    168|       78|         2023|              16|          15|        1286|       NULL|     Attacker|   7.500000|       false|     1|     11|        1|         54|      29|         10|             0|            7|       NULL|         305|        20|             13|            6|          NULL|                 NULL|        174|       85|               78|              41|         NULL|         16|             11|           2|              0|        0|       NULL|            NULL|             1|             0|         NULL|       0.4885057471264368|                    0.5256410256410257|                           0.9375|                  21.345256609642302|                1.3996889580093312|                                  NULL|                                         NULL|                 12.177293934681181|                        5.458786936236391| 14.28888888888889|                  3.779160186625194|              2.0295489891135303|                   0.4898911353032659|        0.06557377049180328|      0.5370370370370371|                        0.35|                 1.1197511664074649|                     0.7698289269051322|                  0.1399688958009331|             0.18181818181818182|                                    0.0|                          0.0|      0.3448275862068966|          9|                 17|\n",
      "|      Bayern Munich|          Leroy Aziz|                Sané|  1996-01-11|           Germany|        28|      644|    157|       78|         2023|              22|          21|        1865|       NULL|     Attacker|   7.877272|       false|     1|      5|        1|         49|      28|          8|             0|           11|       NULL|         864|        67|             33|           14|          NULL|                    4|        256|      120|              141|              82|         NULL|         21|             24|           4|              0|        0|       NULL|            NULL|             0|             0|         NULL|                  0.46875|                    0.5815602836879432|               0.9545454545454546|                   41.69436997319035|                 3.233243967828418|                                  NULL|                            0.193029490616622|                 12.353887399463808|                       6.8042895442359255| 20.72222222222222|                 2.3646112600536195|               1.351206434316354|                   0.5308310991957105|         0.0775462962962963|      0.5714285714285714|         0.16417910447761194|                 1.0134048257372654|                      1.158176943699732|                   0.193029490616622|             0.16666666666666666|                                    0.0|                          0.0|      0.2857142857142857|          8|                 19|\n",
      "|Eintracht Frankfurt|Omar Khaled Moham...|            Marmoush|  1999-02-07|             Egypt|        25|    81573|    169|       78|         2023|              17|          15|        1241|       NULL|     Attacker|   7.270588|       false|     2|     11|        2|         28|      16|          9|             0|            5|       NULL|         272|        26|             11|           12|          NULL|                    6|        197|       92|               58|              20|         NULL|         41|             21|           5|              0|        0|       NULL|            NULL|             1|             0|         NULL|        0.467005076142132|                    0.3448275862068966|               0.8823529411764706|                  19.726027397260275|                1.8855761482675262|                                  NULL|                            0.435132957292506|                 14.286865431103948|                        4.206285253827558| 13.78888888888889|                  2.030620467365028|               1.160354552780016|                  0.36261079774375504|        0.09558823529411764|      0.5714285714285714|         0.19230769230769232|                  2.973408541498791|                      1.522965350523771|                 0.36261079774375504|             0.23809523809523808|                                    0.0|                          0.0|                  0.5625|          8|                 14|\n",
      "|Paris Saint Germain|              Kylian|       Mbappé Lottin|  1998-12-20|            France|        25|      278|     85|       61|         2023|              20|          18|        1629|       NULL|     Attacker|   8.075000|       false|     2|      2|        3|         71|      47|         21|             0|            4|       NULL|         669|        27|             28|            3|          NULL|                    2|        163|       80|               85|              47|         NULL|         30|             16|           3|              0|        0|       NULL|            NULL|             6|             2|         NULL|      0.49079754601226994|                    0.5529411764705883|                              0.9|                   36.96132596685083|                1.4917127071823204|                                  NULL|                          0.11049723756906077|                  9.005524861878452|                        4.696132596685082|              18.1|                  3.922651933701657|               2.596685082872928|                  0.22099447513812154|        0.04035874439461883|      0.6619718309859155|         0.14814814814814814|                 1.6574585635359114|                     0.8839779005524862|                 0.16574585635359115|                          0.1875|                                    0.0|                          0.0|     0.44680851063829785|         15|                 25|\n",
      "+-------------------+--------------------+--------------------+------------+------------------+----------+---------+-------+---------+-------------+----------------+------------+------------+-----------+-------------+-----------+------------+------+-------+---------+-----------+--------+-----------+--------------+-------------+-----------+------------+----------+---------------+-------------+--------------+---------------------+-----------+---------+-----------------+----------------+-------------+-----------+---------------+------------+---------------+---------+-----------+----------------+--------------+--------------+-------------+-------------------------+--------------------------------------+---------------------------------+------------------------------------+----------------------------------+--------------------------------------+---------------------------------------------+-----------------------------------+-----------------------------------------+------------------+-----------------------------------+--------------------------------+-------------------------------------+---------------------------+------------------------+----------------------------+-----------------------------------+---------------------------------------+------------------------------------+--------------------------------+---------------------------------------+-----------------------------+------------------------+-----------+-------------------+\n",
      "\n"
     ]
    }
   ],
   "source": [
    "world_player_forward_suggest.show()"
   ]
  },
  {
   "cell_type": "markdown",
   "metadata": {},
   "source": [
    "- 쿠냐 선수 영입을 추천한다\n",
    "- 24살의 어린선수이고 경기도 꾸준히 뛰고 있다\n",
    "- 공격포인트를 15개를 할정도로 공격적 측면에서 좋은 활약을 보여주고있다\n",
    "- 드리블을 매격기 평균 4개를 할정도로 도전적이면서 성공률이 53%로 공격적인 활로가 될수 있다\n",
    "- 키패스도 매경기 평균 1개씩해주면서 질 좋은 패스를 주고있다\n",
    "- 경합도 매경기 평균 13개씩 해주면서 수비적으로도 도움을 많이 준다\n",
    "- 슈팅도 매경기 평균 2개씩 시도하며 유효슈팅은 매경기 평균 1개이상씩 만든다\n",
    "- 파울도 평균 1개 이상씩 얻어 주면서 현소속팀인 울브스의 핵심선수이다\n",
    "- 공격수로도 뛰고 윙어로도 뛸수있어 다양하게 사용할수있는 옵션이 된다\n",
    "- 같은 리그에서 뛰고있기때문에 적응기간이 더 짧다\n"
   ]
  }
 ],
 "metadata": {
  "kernelspec": {
   "display_name": "Python 3",
   "language": "python",
   "name": "python3"
  },
  "language_info": {
   "codemirror_mode": {
    "name": "ipython",
    "version": 3
   },
   "file_extension": ".py",
   "mimetype": "text/x-python",
   "name": "python",
   "nbconvert_exporter": "python",
   "pygments_lexer": "ipython3",
   "version": "3.10.12"
  }
 },
 "nbformat": 4,
 "nbformat_minor": 2
}
